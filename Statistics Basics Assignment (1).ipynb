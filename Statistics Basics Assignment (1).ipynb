{
 "cells": [
  {
   "cell_type": "raw",
   "id": "9e6fcbda-ad12-4759-98ea-1b8b9dbeb255",
   "metadata": {},
   "source": [
    "# Statistics Basics Assignment"
   ]
  },
  {
   "cell_type": "markdown",
   "id": "84a4a844-7d0d-462a-82ee-94c089055528",
   "metadata": {},
   "source": [
    " Q 5.  Implement a Python program to compute the mean, median, and mode of a given list of numbers. numbers = [12, 15, 12, 18, 19, 12, 20, 22, 19, 19, 24, 24, 24, 26, 28]\n",
    " \n",
    "->   We use Python’s statistics library to compute mean, median, and mode of the given dataset."
   ]
  },
  {
   "cell_type": "code",
   "execution_count": 1,
   "id": "33cb6b05-3e34-4c48-8ba1-348f4e567283",
   "metadata": {},
   "outputs": [
    {
     "name": "stdout",
     "output_type": "stream",
     "text": [
      "Mean: 19.6\n",
      "Median: 19\n",
      "Mode: 12\n"
     ]
    }
   ],
   "source": [
    "import statistics \n",
    "numbers = [12, 15, 12, 18, 19, 12, 20, 22, 19, 19, 24, 24, 24, 26, 28] \n",
    "mean_value = statistics.mean(numbers) \n",
    "median_value = statistics.median(numbers) \n",
    "mode_value = statistics.mode(numbers) \n",
    "print(\"Mean:\", mean_value) \n",
    "print(\"Median:\", median_value) \n",
    "print(\"Mode:\", mode_value)"
   ]
  },
  {
   "cell_type": "markdown",
   "id": "dee79629-4b34-48ba-9eeb-fb303e05f95c",
   "metadata": {},
   "source": [
    " Explanation: \n",
    "Mean (average) of the given list is 19.6, which is the sum of all values divided by count. Median (middle value) is 19 after sorting. Mode (most frequent value) is 12 because it appears most times. These three measures together summarize the central tendency of the data."
   ]
  },
  {
   "cell_type": "markdown",
   "id": "341b1afa-a982-4106-9ab5-580df0bba353",
   "metadata": {},
   "source": [
    " Q 6. Compute the covariance and correlation coefficient between the following two datasets provided as lists in Python: \n",
    "       list_x = [10, 20, 30, 40, 50] \n",
    "     list_y = [15, 25, 35, 45, 60] \n",
    "\n",
    "  ->  Concept:- Covariance shows how two variables change together. A positive covariance means when one variable increases, the other also tends to increase.- Correlation coefficient (r) measures the strength and direction of the linear relationship. It ranges from -1 to +1.\n"
   ]
  },
  {
   "cell_type": "code",
   "execution_count": 3,
   "id": "622c6667-4a1c-4692-af5b-cde3d1679314",
   "metadata": {},
   "outputs": [
    {
     "name": "stdout",
     "output_type": "stream",
     "text": [
      "Sample Covariance: 275.0\n",
      "Population Covariance: 220.0\n",
      "Correlation Coefficient: 0.995893206467704\n"
     ]
    }
   ],
   "source": [
    "import numpy as np \n",
    "list_x = [10, 20, 30, 40, 50] \n",
    "list_y = [15, 25, 35, 45, 60] \n",
    "cov_sample = np.cov(list_x, list_y)[0,1] \n",
    "cov_population = np.cov(list_x, list_y, ddof=0)[0,1] \n",
    "corr = np.corrcoef(list_x, list_y)[0,1] \n",
    "print(\"Sample Covariance:\", cov_sample) \n",
    "print(\"Population Covariance:\", cov_population) \n",
    "print(\"Correlation Coefficient:\", corr)"
   ]
  },
  {
   "cell_type": "markdown",
   "id": "818c84fc-296a-4ef6-b806-2ecbe5fe7bd5",
   "metadata": {},
   "source": [
    "Explanation: Covariance measures how two variables change together. The sample covariance here is 275.0 (population covariance is 220.0 depending on ddof). The Pearson correlation is about 0.996, which is very close to +1. This shows a very strong positive linear relationship between list_x and list_y: as x increases, y also increases almost proportionally."
   ]
  },
  {
   "cell_type": "code",
   "execution_count": 4,
   "id": "b134f44f-1c8b-404b-9989-8b5fbcc4af6b",
   "metadata": {},
   "outputs": [
    {
     "name": "stdout",
     "output_type": "stream",
     "text": [
      "Q1: 17.25\n",
      "Q3: 23.25\n",
      "IQR: 6.0\n",
      "Lower bound: 8.25\n",
      "Upper bound: 32.25\n",
      "Outliers detected: [35]\n"
     ]
    },
    {
     "data": {
      "image/png": "[encoded data removed]",
      "text/plain": [
       "<Figure size 640x480 with 1 Axes>"
      ]
     },
     "metadata": {},
     "output_type": "display_data"
    }
   ],
   "source": [
    "# Q 7. Write a Python script to draw a boxplot for the following numeric list and identify its outliers. Explain the result: \n",
    " #data = [12, 14, 14, 15, 18, 19, 19, 21, 22, 22, 23, 23, 24, 26, 29, 35] \n",
    "import numpy as np \n",
    "import matplotlib.pyplot as plt \n",
    "data = [12, 14, 14, 15, 18, 19, 19, 21, 22, 22, 23, 23, 24, 26, 29, 35] \n",
    "q1 = np.percentile(data, 25) \n",
    "q3 = np.percentile(data, 75) \n",
    "iqr = q3 - q1 \n",
    "lower_bound = q1 - 1.5 * iqr \n",
    "upper_bound = q3 + 1.5 * iqr \n",
    "outliers = [x for x in data if (x < lower_bound) or (x > upper_bound)] \n",
    "print(\"Q1:\", q1) \n",
    "print(\"Q3:\", q3) \n",
    "print(\"IQR:\", iqr) \n",
    "print(\"Lower bound:\", lower_bound) \n",
    "print(\"Upper bound:\", upper_bound) \n",
    "print(\"Outliers detected:\", outliers) \n",
    "plt.boxplot(data) \n",
    "plt.show()"
   ]
  },
  {
   "cell_type": "markdown",
   "id": "d4490884-629b-4304-b49b-72be6a84c761",
   "metadata": {},
   "source": [
    "Explanation: Using the IQR method we found Q1 = 17.25, Q3 = 23.25, IQR = 6.0. The acceptable range is [8.25, 32.25]. The value 35 lies above the upper bound, so 35 is an outlier. The boxplot visually confirms this."
   ]
  },
  {
   "cell_type": "markdown",
   "id": "49498a94-f728-4496-9717-ca7136852ea8",
   "metadata": {},
   "source": [
    "Q 8. You are working as a data analyst in an e-commerce company. The marketing team wants to know if there is a relationship between advertising spend and daily sales.   \n",
    "Explain how you would use covariance and correlation to explore this relationship.  \n",
    "Write Python code to compute the correlation between the two lists:   \n",
    " advertising_spend = [200, 250, 300, 400, 500] \n",
    " daily_sales = [2200, 2450, 2750, 3200, 4000]\n",
    "\n",
    " -> To explore the relationship between advertising spend and daily sales, we \n",
    "can use: \n",
    " Covariance: Measures how two variables change together. A positive covariance \n",
    "means that when advertising spend increases, sales also increase. \n",
    " Correlation: Standardizes covariance to a scale between -1 and 1. \n",
    "A correlation close to +1 means a strong positive relationship. \n",
    "A correlation close to -1 means a strong negative relationship. \n",
    "A correlation near 0 means no linear relationship.\n"
   ]
  },
  {
   "cell_type": "code",
   "execution_count": 5,
   "id": "9858793c-1f55-4001-aa95-4924e42b2822",
   "metadata": {},
   "outputs": [
    {
     "name": "stdout",
     "output_type": "stream",
     "text": [
      "Covariance Matrix:\n",
      " [[ 14500.  84875.]\n",
      " [ 84875. 503250.]]\n",
      "Correlation Coefficient:\n",
      " [[1.         0.99358241]\n",
      " [0.99358241 1.        ]]\n"
     ]
    }
   ],
   "source": [
    "import numpy as np \n",
    "advertising_spend = [200, 250, 300, 400, 500] \n",
    "daily_sales = [2200, 2450, 2750, 3200, 4000] \n",
    "cov_matrix = np.cov(advertising_spend, daily_sales) \n",
    "correlation = np.corrcoef(advertising_spend, daily_sales) \n",
    "print(\"Covariance Matrix:\\n\", cov_matrix) \n",
    "print(\"Correlation Coefficient:\\n\", correlation)"
   ]
  },
  {
   "cell_type": "markdown",
   "id": "07710b94-26dd-4f19-aebb-0a2c5aa3b315",
   "metadata": {},
   "source": [
    "Explanation : \n",
    "Covariance (84,875) : Positive value shows both variables move in the same \n",
    "direction. \n",
    "Correlation (0.9936) : Very close to 1, which indicates a very strong positive \n",
    "relationship between advertising spend and daily sales."
   ]
  },
  {
   "cell_type": "markdown",
   "id": "ebc6de84-de30-4141-b3e4-0bc0a2b227b7",
   "metadata": {},
   "source": [
    "Q 9.  Your team has collected customer satisfaction survey data on a scale of 1-10 and \n",
    "wants to understand its distribution before launching a new product. \n",
    "● Explain which summary statistics and visualizations (e.g. mean, standard deviation, \n",
    "histogram) you’d use.  \n",
    "● Write Python code to create a histogram using Matplotlib for the survey data:  \n",
    "survey_scores = [7, 8, 5, 9, 6, 7, 8, 9, 10, 4, 7, 6, 9, 8, 7]\n",
    "\n",
    "-> In this question, customer satisfaction survey data is collected on a scale of \n",
    "1–10. To understand the distribution of scores before launching a new product, we calculate \n",
    "summary statistics and create a histogram.\n",
    "\n",
    "Summary Statistics \n",
    "Mean (Average): 7.47 \n",
    "Median: 7 \n",
    "Mode: 7 \n",
    "Standard Deviation: 1.58 \n",
    "Minimum Score: 4 \n",
    "Maximum Score: 10 \n",
    "These values show that most customers gave scores around 7–8, which means the majority \n",
    "of customers are satisfied."
   ]
  },
  {
   "cell_type": "code",
   "execution_count": null,
   "id": "27dbdffb-40c9-40c3-993d-34a7deb3bbe9",
   "metadata": {},
   "outputs": [],
   "source": [
    "import numpy as np \n",
    "import matplotlib.pyplot as plt \n",
    "from statistics import mean, median, mode, stdev \n",
    "survey_scores = [7, 8, 5, 9, 6, 7, 8, 9, 10, 4, 7, 6, 9, 8, 7] \n",
    "mean_value = mean(survey_scores) \n",
    "median_value = median(survey_scores) \n",
    "Statistics Basics Assignment Answer  \n",
    "mode_value = mode(survey_scores) \n",
    "std_dev = stdev(survey_scores) \n",
    "min_value = min(survey_scores) \n",
    "max_value = max(survey_scores) \n",
    "print(\"Mean:\", mean_value) \n",
    "print(\"Median:\", median_value) \n",
    "print(\"Mode:\", mode_value) \n",
    "print(\"Standard Deviation:\", std_dev) \n",
    "print(\"Minimum:\", min_value) \n",
    "print(\"Maximum:\", max_value) \n",
    "plt.hist(survey_scores, bins=6, color='skyblue', edgecolor='black') \n",
    "plt.title(\"Customer Satisfaction Survey Distribution\") \n",
    "plt.xlabel(\"Satisfaction Score\") \n",
    "plt.ylabel(\"Frequency\") \n",
    "plt.show() "
   ]
  },
  {
   "cell_type": "markdown",
   "id": "d4f659d0-cf71-4e44-af0f-b6bfbe9bce77",
   "metadata": {},
   "source": [
    "Explanation : \n",
    "The average satisfaction score is around 7.5, showing customers are mostly \n",
    "satisfied. \n",
    "The most common score is 7, which means many customers rated satisfaction at this \n",
    "level. \n",
    "The range is from 4 to 10, showing that while some customers were less satisfied, \n",
    "most gave higher ratings. \n",
    "The histogram would show a clear concentration of scores between 7 and 9, \n",
    "indicating strong positive satisfaction overall."
   ]
  },
  {
   "cell_type": "code",
   "execution_count": null,
   "id": "29790585-4bb9-4a7f-a71f-efcb9a933b2b",
   "metadata": {},
   "outputs": [],
   "source": []
  }
 ],
 "metadata": {
  "kernelspec": {
   "display_name": "Python 3 (ipykernel)",
   "language": "python",
   "name": "python3"
  },
  "language_info": {
   "codemirror_mode": {
    "name": "ipython",
    "version": 3
   },
   "file_extension": ".py",
   "mimetype": "text/x-python",
   "name": "python",
   "nbconvert_exporter": "python",
   "pygments_lexer": "ipython3",
   "version": "3.13.5"
  }
 },
 "nbformat": 4,
 "nbformat_minor": 5
}
