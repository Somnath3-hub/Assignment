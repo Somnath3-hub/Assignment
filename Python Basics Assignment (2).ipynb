{
 "cells": [
  {
   "cell_type": "markdown",
   "id": "7535f594",
   "metadata": {},
   "source": [
    "# PYTHON BASIC QUESTIONS AND ANSWERS\n"
   ]
  },
  {
   "cell_type": "markdown",
   "id": "4c2249be-e1f5-4265-953b-0bc893e31da3",
   "metadata": {},
   "source": [
    "Q1: What is Python, and why is it popular?\n",
    "\n",
    "-> Python is a programming language that is very simple and easy to learn. It’s popular because the syntax is clean, and it has a lot of libraries for everything, and python is big community."
   ]
  },
  {
   "cell_type": "markdown",
   "id": "02f3bdc5-f635-480b-a76b-92b8a9f76349",
   "metadata": {},
   "source": [
    "Q2: What is an interpreter in Python?\n",
    "\n",
    "->  An interpreter runs Python code line by line instead of compiling the whole program at once."
   ]
  },
  {
   "cell_type": "markdown",
   "id": "4dd024f0-3771-430e-8ea2-4e5257d0fe0f",
   "metadata": {},
   "source": [
    "Q3: What are pre-defined keywords in Python?\n",
    "\n",
    "->  These are reserved words in Python which have special meaning. Example: `if`,`def`."
   ]
  },
  {
   "cell_type": "markdown",
   "id": "660ea35b-1d71-44a0-b139-e6dea3482cd7",
   "metadata": {},
   "source": [
    "Q4: Can keywords be used as variable names?\n",
    "\n",
    "->  No, because keywords are reserved by Python and using them as variable names will give an error."
   ]
  },
  {
   "cell_type": "markdown",
   "id": "981eb3b0-2eee-4591-8d98-9b8c1ce9b471",
   "metadata": {},
   "source": [
    "Q5: What is mutability in Python?\n",
    "\n",
    "->  Mutability means if an object can be changed after it’s created. If yes, it’s mutable, otherwise immutable."
   ]
  },
  {
   "cell_type": "markdown",
   "id": "9b9ad83f-e882-4f25-ad0d-b6b84b5e8fe0",
   "metadata": {},
   "source": [
    "Q6: Why are lists mutable, but tuples are immutable?\n",
    "\n",
    "->  Lists allow adding, removing, or changing elements, so they are mutable. Tuples cannot be changed once created, so they are immutable."
   ]
  },
  {
   "cell_type": "markdown",
   "id": "f4c86451-46cc-4c78-b10a-8bc68d6cde5e",
   "metadata": {},
   "source": [
    "Q7: What is the difference between `==` and `is` operators in Python?\n",
    "\n",
    "->  `==` checks if two values are equal. `is` checks if two variables refer to the same object in memory."
   ]
  },
  {
   "cell_type": "markdown",
   "id": "d5ba0b65-83f5-4b97-aea5-9a255c90da02",
   "metadata": {},
   "source": [
    "Q8: What are logical operators in Python?\n",
    "\n",
    "->  They are `and`, `or`, `not` – used to combine conditions."
   ]
  },
  {
   "cell_type": "raw",
   "id": "865c1b3d-e514-4a39-8c5d-915de868f5b7",
   "metadata": {},
   "source": [
    "Q9: What is type casting in Python?\n",
    "\n",
    "->  It means converting one data type into another, like string to int using `int()`."
   ]
  },
  {
   "cell_type": "raw",
   "id": "47f90e79-2bb3-4fb5-9275-01f381d0f487",
   "metadata": {},
   "source": [
    "Q10: What is the difference between implicit and explicit type casting?\n",
    "\n",
    "->   Implicit is done by Python automatically. Explicit is done by us using functions like `int()`, `float()`."
   ]
  },
  {
   "cell_type": "raw",
   "id": "3b79db67-325c-473a-b339-c8c5d1134f9a",
   "metadata": {},
   "source": [
    "Q11: What is the purpose of conditional statements in Python?\n",
    "\n",
    "->   They are used to make decisions so the program can run different code based on conditions."
   ]
  },
  {
   "cell_type": "raw",
   "id": "ae0ddba5-4f74-47c3-9ee9-bef0131583a8",
   "metadata": {},
   "source": [
    "Q12: How does the `elif` statement work?\n",
    "\n",
    "->  `elif` means else if. It lets us check another condition if the first `if` is false."
   ]
  },
  {
   "cell_type": "raw",
   "id": "ed5f2b2f-abcd-4da6-a01f-52c3b4cfbda7",
   "metadata": {},
   "source": [
    "Q13: What is the difference between `for` and `while` loops?\n",
    "\n",
    "->   `for` loop is used when we know how many times to run. `while` loop runs until a condition becomes false."
   ]
  },
  {
   "cell_type": "markdown",
   "id": "46157adc-aed5-469c-8577-ebabdbf8246b",
   "metadata": {},
   "source": [
    "Q14: Describe a scenario where a while loop is more suitable than a for loop.\n",
    "\n",
    "->   When we don’t know the exact number of times to loop. For example, keep asking the user for input until they type “exit”."
   ]
  },
  {
   "cell_type": "markdown",
   "id": "3ae1130b-bb12-4acc-9add-60b416facc5c",
   "metadata": {},
   "source": [
    "# Practical Questons And Answers"
   ]
  },
  {
   "cell_type": "code",
   "execution_count": 3,
   "id": "8d713e08-3411-43eb-bfb9-e97e90fa80cc",
   "metadata": {},
   "outputs": [
    {
     "name": "stdout",
     "output_type": "stream",
     "text": [
      "Hello, World!\n"
     ]
    }
   ],
   "source": [
    "# 1. write a python program to print \"Hello, World!\"\n",
    "print(\"Hello, World!\")"
   ]
  },
  {
   "cell_type": "code",
   "execution_count": 5,
   "id": "2c401deb-08ca-48e1-9e1a-3911adb39a98",
   "metadata": {},
   "outputs": [
    {
     "name": "stdout",
     "output_type": "stream",
     "text": [
      "Somnath\n",
      "25\n"
     ]
    }
   ],
   "source": [
    "# 2. Write a python program that displays your name and Age.\n",
    "print(\"Somnath\")\n",
    "print(\"25\")"
   ]
  },
  {
   "cell_type": "code",
   "execution_count": 14,
   "id": "64084052-0e4c-4e46-a360-dd2f8f58ea81",
   "metadata": {
    "scrolled": true
   },
   "outputs": [
    {
     "name": "stdout",
     "output_type": "stream",
     "text": [
      "all python keywords\n",
      "False\n",
      "None\n",
      "True\n",
      "and\n",
      "as\n",
      "assert\n",
      "async\n",
      "await\n",
      "break\n",
      "class\n",
      "continue\n",
      "def\n",
      "del\n",
      "elif\n",
      "else\n",
      "except\n",
      "finally\n",
      "for\n",
      "from\n",
      "global\n",
      "if\n",
      "import\n",
      "in\n",
      "is\n",
      "lambda\n",
      "nonlocal\n",
      "not\n",
      "or\n",
      "pass\n",
      "raise\n",
      "return\n",
      "try\n",
      "while\n",
      "with\n",
      "yield\n"
     ]
    }
   ],
   "source": [
    "# 3.  Write code to print all the pre-defined keywords in Python using the keyword library\n",
    "import keyword\n",
    "print(\"all python keywords\")\n",
    "for kw in keyword.kwlist:\n",
    "    print(kw)"
   ]
  },
  {
   "cell_type": "code",
   "execution_count": null,
   "id": "810fdd33-812f-4e47-a84a-32db8a18b991",
   "metadata": {},
   "outputs": [],
   "source": [
    "# 4. Write a program that checks if a given word is a Python keyword.\n",
    "import keyword\n",
    "a = \"if\"\n",
    "if keyword.iskeyword(a):\n",
    "    print(\"keyword\")\n",
    "else:\n",
    "    print(\"not a keyword\")"
   ]
  },
  {
   "cell_type": "code",
   "execution_count": 11,
   "id": "62b87407-b328-4f2d-a24d-d745c76e2467",
   "metadata": {},
   "outputs": [
    {
     "name": "stdout",
     "output_type": "stream",
     "text": [
      "[10, 2, 3]\n",
      "tuple can't change\n"
     ]
    }
   ],
   "source": [
    "# 5.  Create a list and tuple in Python, and demonstrate how attempting to change an element works differently for each.\n",
    "a = [1, 2, 3]\n",
    "b = (1, 2, 3)\n",
    "a[0] = 10\n",
    "print(a)\n",
    "try:\n",
    "    b[0] = 10\n",
    "except:\n",
    "    print(\"tuple can't change\")\n",
    "\n",
    "\n"
   ]
  },
  {
   "cell_type": "code",
   "execution_count": 15,
   "id": "573c9d28-5489-4ca5-8a00-7ab853fc3841",
   "metadata": {},
   "outputs": [
    {
     "name": "stdout",
     "output_type": "stream",
     "text": [
      "15 [1, 2, 50]\n",
      "10 [1, 2, 50]\n"
     ]
    }
   ],
   "source": [
    "# 6.  Write a function to demonstrate the behavior of mutable and immutable arguments.\n",
    "def demo(a, b):\n",
    "    a = a + 5\n",
    "    b.append(50)\n",
    "    print(a, b)\n",
    "a = 10\n",
    "b = [1, 2]\n",
    "demo(a, b)\n",
    "print(a, b)"
   ]
  },
  {
   "cell_type": "raw",
   "id": "8867c798-5f2a-4f17-97a7-d863da4cf847",
   "metadata": {},
   "source": [
    "# a is immutable\n",
    "# b is mutable"
   ]
  },
  {
   "cell_type": "code",
   "execution_count": 18,
   "id": "04e6fe9c-2720-4bdc-9b8e-c2bc7a22cd49",
   "metadata": {},
   "outputs": [
    {
     "name": "stdout",
     "output_type": "stream",
     "text": [
      "11\n",
      "5\n",
      "24\n",
      "2.6666666666666665\n"
     ]
    }
   ],
   "source": [
    "# 7.  Write a program that performs basic arithmetic operations on two user-input numbers.\n",
    "x = 8\n",
    "y = 3\n",
    "print(x+y)\n",
    "print(x-y)\n",
    "print(x*y)\n",
    "print(x/y)"
   ]
  },
  {
   "cell_type": "code",
   "execution_count": 20,
   "id": "cfb441af-b08e-4aff-b965-ed50dfa29a34",
   "metadata": {},
   "outputs": [
    {
     "name": "stdout",
     "output_type": "stream",
     "text": [
      "7\n",
      "4\n",
      "False\n"
     ]
    }
   ],
   "source": [
    "# 8.  Write a program to demonstrate the use of logical operators.\n",
    "a = 4\n",
    "b = 7\n",
    "print(a and b)\n",
    "print(a or b)\n",
    "print(not a)"
   ]
  },
  {
   "cell_type": "code",
   "execution_count": 22,
   "id": "7b20fa85-3f1a-4b15-94dc-76dd177ff2b8",
   "metadata": {},
   "outputs": [
    {
     "name": "stdout",
     "output_type": "stream",
     "text": [
      "5\n",
      "5\n",
      "5.0\n",
      "True\n"
     ]
    }
   ],
   "source": [
    "# 9.  Write a Python program to convert user input from string to integer, float, and boolean types.\n",
    "a = \"5\"\n",
    "print(str(a))\n",
    "print(int(a))\n",
    "print(float(a))\n",
    "print(bool(a))"
   ]
  },
  {
   "cell_type": "code",
   "execution_count": 28,
   "id": "fbe98766-78b9-4488-a51c-7122f3e3dede",
   "metadata": {},
   "outputs": [
    {
     "name": "stdout",
     "output_type": "stream",
     "text": [
      "[8, 8, 8, 8]\n",
      "[8.0, 8.0, 8.0, 8.0]\n"
     ]
    }
   ],
   "source": [
    "# 10.  Write code to demonstrate type casting with list elements.\n",
    "numbers = [1, 2, 3, 4]\n",
    "a = [int(x) for s in numbers]\n",
    "print(a)\n",
    "b = [float(s) for s in a]\n",
    "print(b)"
   ]
  },
  {
   "cell_type": "code",
   "execution_count": 29,
   "id": "ea16aba5-65de-4a4c-8daf-5ee7ec9587a2",
   "metadata": {},
   "outputs": [
    {
     "name": "stdout",
     "output_type": "stream",
     "text": [
      "positive\n"
     ]
    }
   ],
   "source": [
    "# 11.  Write a program that checks if a number is positive, negative, or zero.\n",
    "b = 5\n",
    "if b>0:\n",
    "    print(\"positive\")\n",
    "elif a<0:\n",
    "    print(\"negative\")\n",
    "else:\n",
    "    print(\"zero\")"
   ]
  },
  {
   "cell_type": "code",
   "execution_count": 33,
   "id": "5a8ba30d-20be-4bd4-959f-603773c01798",
   "metadata": {},
   "outputs": [
    {
     "name": "stdout",
     "output_type": "stream",
     "text": [
      "1\n",
      "2\n",
      "3\n",
      "4\n",
      "5\n",
      "6\n",
      "7\n",
      "8\n",
      "9\n",
      "10\n"
     ]
    }
   ],
   "source": [
    "# 12.  Write a for loop to print numbers from 1 to 10.\n",
    "for i in range(1, 11):\n",
    "    print(i)\n"
   ]
  },
  {
   "cell_type": "code",
   "execution_count": 43,
   "id": "1c49a668-2b9a-42a8-b241-0b844c990065",
   "metadata": {},
   "outputs": [
    {
     "name": "stdout",
     "output_type": "stream",
     "text": [
      "2\n",
      "6\n",
      "12\n",
      "20\n",
      "30\n",
      "42\n",
      "56\n",
      "72\n",
      "90\n",
      "110\n",
      "132\n",
      "156\n",
      "182\n",
      "210\n",
      "240\n",
      "272\n",
      "306\n",
      "342\n",
      "380\n",
      "420\n",
      "462\n",
      "506\n",
      "552\n",
      "600\n",
      "650\n"
     ]
    }
   ],
   "source": [
    "# 13.  Write a Python program to find the sum of all even numbers between 1 and 50.\n",
    "s = 0\n",
    "for i in range(1, 51):\n",
    "    if i % 2 == 0:\n",
    "        s += i\n",
    "        print(s)"
   ]
  },
  {
   "cell_type": "code",
   "execution_count": 51,
   "id": "af045c87-8a21-4726-920f-30ac86d9ba37",
   "metadata": {},
   "outputs": [
    {
     "name": "stdout",
     "output_type": "stream",
     "text": [
      " o\n",
      " ol\n",
      " oll\n",
      " olle\n",
      " olleh\n"
     ]
    }
   ],
   "source": [
    "# 14. Write a program to reverse a string using a while loop.\n",
    "s = \"hello\"\n",
    "row = \" \"\n",
    "i = len(s) - 1\n",
    "while i >= 0:\n",
    "    row = row + s[i]\n",
    "    i = i - 1\n",
    "    print(row)"
   ]
  },
  {
   "cell_type": "code",
   "execution_count": 56,
   "id": "e3833125-bb0b-4a0a-bb24-3d247f1b4e32",
   "metadata": {},
   "outputs": [
    {
     "name": "stdout",
     "output_type": "stream",
     "text": [
      "5\n",
      "20\n",
      "60\n",
      "120\n",
      "120\n"
     ]
    }
   ],
   "source": [
    "# 15.  Write a Python program to calculate the factorial of a number provided by the user using a while loop.\n",
    "a = 5\n",
    "b = 1\n",
    "while a > 0:\n",
    "    b *= a\n",
    "    a -= 1\n",
    "    print(b)"
   ]
  },
  {
   "cell_type": "code",
   "execution_count": null,
   "id": "dcafd8e1-67e7-4983-9f45-ff48600acf16",
   "metadata": {},
   "outputs": [],
   "source": []
  }
 ],
 "metadata": {
  "colab": {
   "name": "Python_Basics_Separate_QnA.ipynb"
  },
  "kernelspec": {
   "display_name": "Python 3 (ipykernel)",
   "language": "python",
   "name": "python3"
  },
  "language_info": {
   "codemirror_mode": {
    "name": "ipython",
    "version": 3
   },
   "file_extension": ".py",
   "mimetype": "text/x-python",
   "name": "python",
   "nbconvert_exporter": "python",
   "pygments_lexer": "ipython3",
   "version": "3.13.5"
  }
 },
 "nbformat": 4,
 "nbformat_minor": 5
}
