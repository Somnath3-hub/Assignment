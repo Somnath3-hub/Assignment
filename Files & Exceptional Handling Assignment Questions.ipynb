{
 "cells": [
  {
   "cell_type": "markdown",
   "id": "2ad07b1f-3a0c-423c-9ae1-6b8fea0b1584",
   "metadata": {},
   "source": [
    "# Files & Exceptional Handling Assignment"
   ]
  },
  {
   "cell_type": "markdown",
   "id": "f36091c5-a0b1-40f1-a929-b98ec83e52ea",
   "metadata": {},
   "source": [
    "1. What is the difference between interpreted and compiled languages?\n",
    "\n",
    "->  Interpreted languages execute code line by line directly by an interpreter, making them slower but\n",
    " easier to test and debug since you do not need to compile the program before running it. Compiled\n",
    " languages convert the entire program into machine code before execution, which makes them\n",
    " faster but more difficult to debug. In interpreted languages like Python, code is executed\n",
    " immediately, whereas compiled languages like C or Java require compilation before running. Both\n",
    " approaches have their uses depending on speed, flexibility, and development needs."
   ]
  },
  {
   "cell_type": "markdown",
   "id": "bbf34cd7-9a4b-4e82-b7d3-5cb5605da422",
   "metadata": {},
   "source": [
    "2. What is exception handling in Python?\n",
    "\n",
    "->  Exception handling is a way to manage errors in Python programs so they do not crash. It allows\n",
    " the programmer to catch errors using try-except blocks and take specific actions when something\n",
    " goes wrong. By using exception handling, programs can continue running smoothly even when an\n",
    " error occurs. This makes code safer, more reliable, and easier to debug, as errors can be caught\n",
    " and handled in a controlled manner."
   ]
  },
  {
   "cell_type": "markdown",
   "id": "3fb60270-e694-48f4-9574-7e85922d99d6",
   "metadata": {},
   "source": [
    "3. What is the purpose of the finally block in exception handling?\n",
    "\n",
    "->  The finally block in Python is used to write code that should run no matter what happens in a\n",
    " try-except block. It is typically used for cleanup tasks such as closing files, disconnecting from\n",
    " databases, or freeing up resources. Whether an error occurs or not, the code inside finally is always\n",
    " executed. This ensures that important operations are not skipped, making programs more stable\n",
    " and reliable."
   ]
  },
  {
   "cell_type": "markdown",
   "id": "0a2963f4-5e70-4224-9ac0-1c90640873fe",
   "metadata": {},
   "source": [
    "4. What is logging in Python?\n",
    "\n",
    "->  Logging is a feature in Python that helps developers track events, errors, and messages while a\n",
    " program is running. It provides detailed information about how a program behaves, which is very\n",
    " helpful for debugging and maintenance. Instead of printing messages to the console, logging allows\n",
    " you to save them to a file or show them in different formats. This helps you analyze and solve\n",
    " problems later, especially in large projects."
   ]
  },
  {
   "cell_type": "markdown",
   "id": "69241d0e-399b-4d9d-9aad-fa7ff61f6ca2",
   "metadata": {},
   "source": [
    "5. What is the significance of the __del__ method in Python?\n",
    "\n",
    "-> The __del__ method in Python is called a destructor and is executed when an object is deleted or\n",
    " goes out of scope. It is used to release resources like memory or close file connections. While it is\n",
    " rarely used in simple programs, it is helpful in applications where resource management is\n",
    " important. It ensures that cleanup operations are performed automatically when objects are no\n",
    " longer needed."
   ]
  },
  {
   "cell_type": "markdown",
   "id": "04cf0812-91b4-47cd-adce-6f4ed9df14c2",
   "metadata": {},
   "source": [
    "6. What is the difference between import and from ... import in Python?\n",
    "\n",
    "-> The import statement loads the entire module, meaning you must refer to its functions or variables\n",
    " using the module name. On the other hand, from ... import lets you bring only specific functions,\n",
    " variables, or classes from a module, making them easier to use. Both are helpful, but using import\n",
    " is safer for larger projects because it avoids name conflicts."
   ]
  },
  {
   "cell_type": "markdown",
   "id": "78d6f2f3-425a-4688-9517-2e573423c24c",
   "metadata": {},
   "source": [
    "7. How can you handle multiple exceptions in Python?\n",
    "\n",
    "->  To handle multiple exceptions, you can write multiple except blocks for different error types.\n",
    " Another way is to use a single except block with a tuple of exceptions to catch them together. This\n",
    " allows programmers to manage different kinds of errors more effectively, ensuring the program runs\n",
    " smoothly without crashing."
   ]
  },
  {
   "cell_type": "markdown",
   "id": "aac04b56-e0c9-4fdb-ab1e-c8bd54a85fa3",
   "metadata": {},
   "source": [
    "8. What is the purpose of the with statement when handling files in Python?\n",
    "\n",
    "->  The with statement is used for resource management, especially when working with files. It ensures\n",
    " that files are automatically closed after their use, even if errors occur. This makes programs safer,\n",
    " reduces the chances of file corruption, and keeps code simple and clean."
   ]
  },
  {
   "cell_type": "markdown",
   "id": "909b1f27-a663-4b64-82f0-c972fa27c518",
   "metadata": {},
   "source": [
    "9. What is the difference between multithreading and multiprocessing?\n",
    "\n",
    "->  Multithreading means running multiple threads within a single process, allowing tasks to share\n",
    " memory and resources. Multiprocessing, however, uses multiple processes, each with its own\n",
    " memory, making it suitable for CPU-heavy tasks. Multithreading is useful for input/output tasks,\n",
    " while multiprocessing is better for tasks that require high computation."
   ]
  },
  {
   "cell_type": "markdown",
   "id": "6114b571-e2b7-44b6-8b80-1864b8ed3ebf",
   "metadata": {},
   "source": [
    "10. What are the advantages of using logging in a program?\n",
    "\n",
    "->  Logging helps developers monitor programs, find bugs faster, and track what happens during\n",
    " execution. It allows you to save logs for future analysis and makes debugging easier. Logging is\n",
    " essential for large applications, as it provides insights into performance and errors without stopping\n",
    " the program."
   ]
  },
  {
   "cell_type": "markdown",
   "id": "67b54559-5f34-4a6f-82e5-ae82a7fea987",
   "metadata": {},
   "source": [
    "11. What is memory management in Python?\n",
    "\n",
    "->  Memory management is how Python organizes and allocates memory for objects. It uses reference\n",
    " counting and a garbage collector to free memory when objects are no longer needed. This system\n",
    " keeps Python programs efficient and prevents memory leaks by automatically managing memory\n",
    " allocation."
   ]
  },
  {
   "cell_type": "markdown",
   "id": "142cf9c7-903b-4525-b1b6-aa4be41a84d8",
   "metadata": {},
   "source": [
    "12. What are the basic steps involved in exception handling in Python?\n",
    "\n",
    "->  The main steps are: write risky code in a try block, handle errors with except, use else for code that\n",
    " runs if no error happens, and finally for cleanup code. This process keeps your program safe and\n",
    " prevents it from stopping unexpectedly."
   ]
  },
  {
   "cell_type": "markdown",
   "id": "f7f84f54-33e8-4637-bf18-cffb72089ca1",
   "metadata": {},
   "source": [
    "13. Why is memory management important in Python?\n",
    "\n",
    "->  Memory management ensures that programs use memory efficiently, preventing memory waste\n",
    " and leaks. It keeps programs stable, especially when working with large datasets or long-running\n",
    " applications. Good memory management improves speed and reduces crashes."
   ]
  },
  {
   "cell_type": "markdown",
   "id": "7dce22f1-1297-4f29-8465-0b03efe8108a",
   "metadata": {},
   "source": [
    "14. What is the role of try and except in exception handling?\n",
    "\n",
    "->  The try block contains code that might produce errors, and the except block handles those errors.\n",
    " This prevents the program from crashing and lets developers control what happens when\n",
    " something goes wrong. It improves error handling and program reliability."
   ]
  },
  {
   "cell_type": "markdown",
   "id": "4d45df42-c83c-4bd4-a470-1cbbd5c650ba",
   "metadata": {},
   "source": [
    "15. How does Python's garbage collection system work?\n",
    "\n",
    "->  Python automatically manages memory through garbage collection. It uses reference counting to\n",
    " track how many variables point to an object. When no references remain, the garbage collector\n",
    " frees that memory. It also detects circular references, making memory management automatic and\n",
    " efficient."
   ]
  },
  {
   "cell_type": "markdown",
   "id": "1504314b-6558-45a7-b0de-7f505f632671",
   "metadata": {},
   "source": [
    "16. What is the purpose of the else block in exception handling?\n",
    "\n",
    "->  The else block runs when no error occurs in the try block. This allows developers to separate\n",
    " normal code from error-handling code. It makes programs more organized and easier to read."
   ]
  },
  {
   "cell_type": "markdown",
   "id": "800745ed-a7c1-4463-834c-5522bcf84f3a",
   "metadata": {},
   "source": [
    "17. What are the common logging levels in Python?\n",
    "\n",
    "->  Python has five main logging levels: DEBUG for detailed information, INFO for general updates,\n",
    " WARNING for potential issues, ERROR for problems that need attention, and CRITICAL for severe\n",
    " issues. Using these levels helps organize logs based on importance."
   ]
  },
  {
   "cell_type": "markdown",
   "id": "c02b0191-8b29-441e-b2f4-f03e021052c7",
   "metadata": {},
   "source": [
    "18. What is the difference between os.fork() and multiprocessing in Python?\n",
    "\n",
    "->  os.fork() is a Unix-specific method that creates new processes, while multiprocessing works on all\n",
    " platforms and is easier to use. Multiprocessing is preferred for cross-platform development, while\n",
    " os.fork() is used for system-level tasks."
   ]
  },
  {
   "cell_type": "markdown",
   "id": "2bfd723d-42da-4075-a437-044cf2f6044f",
   "metadata": {},
   "source": [
    "19. What is the importance of closing a file in Python?\n",
    "\n",
    "->   Closing a file ensures that all changes are saved and memory is released. It prevents data\n",
    " corruption and avoids using unnecessary resources. The with statement is often used to handle this\n",
    " automatically."
   ]
  },
  {
   "cell_type": "markdown",
   "id": "c6e2bbd4-ac87-46ac-9961-b5678dd8130a",
   "metadata": {},
   "source": [
    "20. What is the difference between file.read() and file.readline() in Python?\n",
    "\n",
    "->  file.read() reads the entire file at once and returns it as a single string. file.readline() reads one line\n",
    " at a time, making it better for large files. The choice depends on the size of the file and the task."
   ]
  },
  {
   "cell_type": "markdown",
   "id": "aa1f9dd4-48aa-49ae-b55c-a3de9d3c6395",
   "metadata": {},
   "source": [
    "21. What is the logging module in Python used for?\n",
    "\n",
    "->  The logging module helps record messages about a program's execution. It is widely used in\n",
    " debugging, error tracking, and application monitoring. It is more advanced than print statements,\n",
    " making it suitable for large projects."
   ]
  },
  {
   "cell_type": "markdown",
   "id": "9d198997-3ea6-4bab-b543-e217ea859e9d",
   "metadata": {},
   "source": [
    "22. What is the os module in Python used for in file handling?\n",
    "\n",
    "->  The os module provides functions to interact with the operating system. It can create, delete,\n",
    " rename, and navigate through files and directories. This makes automation and file management\n",
    " tasks easier."
   ]
  },
  {
   "cell_type": "markdown",
   "id": "8dd7369f-dce1-45d1-a619-1c08be2932a2",
   "metadata": {},
   "source": [
    "23. What are the challenges associated with memory management in Python?\n",
    "\n",
    "->  Some challenges include handling circular references, avoiding memory leaks, and working with\n",
    " large datasets. Although Python’s garbage collector helps, developers still need to write efficient\n",
    " code to manage memory well."
   ]
  },
  {
   "cell_type": "markdown",
   "id": "7481982d-1b42-4db7-8d87-b6df4241aaba",
   "metadata": {},
   "source": [
    "24. How do you raise an exception manually in Python?\n",
    "\n",
    "->  An exception can be raised manually using the raise keyword. This is useful when you want to stop\n",
    " the program and indicate an error if some condition is not met. It gives more control over program\n",
    " flow and error messages."
   ]
  },
  {
   "cell_type": "markdown",
   "id": "5406c9fb-94c9-41fd-89bf-4961e3356d5b",
   "metadata": {},
   "source": [
    "25. Why is it important to use multithreading in certain applications?\n",
    "\n",
    "->  Multithreading is important when a program needs to handle multiple tasks simultaneously, such as\n",
    " downloading files or processing user input. It makes programs faster and more responsive,\n",
    " improving the user experience. It is commonly used in applications like web servers and games."
   ]
  },
  {
   "cell_type": "markdown",
   "id": "ae370cc7-a349-47f1-b1f4-820b6fa65f75",
   "metadata": {},
   "source": [
    "# Practical Questions"
   ]
  },
  {
   "cell_type": "code",
   "execution_count": 3,
   "id": "45683771-53b5-48ab-94d1-62690ebf1006",
   "metadata": {},
   "outputs": [
    {
     "name": "stdout",
     "output_type": "stream",
     "text": [
      "Hello, this is a test string!\n"
     ]
    }
   ],
   "source": [
    "# 1. How can you open a file for writing in Python and write a string to it?\n",
    "with open(\"example1.txt\", \"w\") as file:\n",
    "    file.write(\"Hello, this is a test string!\")\n",
    "with open(\"example1.txt\", \"r\") as file:\n",
    "    print(file.read())"
   ]
  },
  {
   "cell_type": "code",
   "execution_count": 2,
   "id": "453ad50c-3f36-4f0d-8ba0-7bbcc3d1cf13",
   "metadata": {},
   "outputs": [
    {
     "name": "stdout",
     "output_type": "stream",
     "text": [
      "Hello, this is a test string!\n"
     ]
    }
   ],
   "source": [
    "# 2. Write a Python program to read the contents of a file and print each line.\n",
    "with open(\"example1.txt\", \"r\") as file:\n",
    "    for line in file:\n",
    "        print(line.strip())"
   ]
  },
  {
   "cell_type": "code",
   "execution_count": 4,
   "id": "49fd888e-7090-4e03-9303-c24fe2555175",
   "metadata": {},
   "outputs": [
    {
     "name": "stdout",
     "output_type": "stream",
     "text": [
      "Error: non_existent.txt not found!\n"
     ]
    }
   ],
   "source": [
    "# 3. How would you handle a case where the file doesn't exist while trying to open it for reading?\n",
    "filename = \"non_existent.txt\"\n",
    "try:\n",
    "    with open(filename, \"r\") as file:\n",
    "        print(file.read())\n",
    "except FileNotFoundError:\n",
    "    print(f\"Error: {filename} not found!\")"
   ]
  },
  {
   "cell_type": "code",
   "execution_count": 5,
   "id": "a964035e-f4f0-43d7-bf07-d01d6f12b1d1",
   "metadata": {},
   "outputs": [
    {
     "name": "stdout",
     "output_type": "stream",
     "text": [
      "Hello, this is a test string!\n"
     ]
    }
   ],
   "source": [
    "# 4. Write a Python script that reads from one file and writes its content to another file.\n",
    "with open(\"example1.txt\", \"r\") as src, open(\"copy_example1.txt\", \"w\") as dest:\n",
    "    for line in src:\n",
    "        dest.write(line)\n",
    "with open(\"copy_example1.txt\", \"r\") as file:\n",
    "    print(file.read())"
   ]
  },
  {
   "cell_type": "code",
   "execution_count": 6,
   "id": "03f7c6e7-7d85-4dbe-8f62-f72d73157007",
   "metadata": {},
   "outputs": [
    {
     "name": "stdout",
     "output_type": "stream",
     "text": [
      "Error: Division by zero is not allowed!\n"
     ]
    }
   ],
   "source": [
    "# 5. How would you catch and handle division by zero error in Python?\n",
    "try:\n",
    "    result = 10 / 0\n",
    "    print(result)\n",
    "except ZeroDivisionError:\n",
    "    print(\"Error: Division by zero is not allowed!\")"
   ]
  },
  {
   "cell_type": "code",
   "execution_count": 7,
   "id": "9f0e562c-8527-4935-b8d1-2b8cb05f7c84",
   "metadata": {},
   "outputs": [
    {
     "name": "stdout",
     "output_type": "stream",
     "text": [
      "Error logged to app.log\n"
     ]
    }
   ],
   "source": [
    "# 6. Write a Python program that logs an error message to a log file when a division by zero exception occurs.\n",
    "import logging\n",
    "\n",
    "logging.basicConfig(filename=\"app.log\", level=logging.ERROR,\n",
    "                    format=\"%(asctime)s - %(levelname)s - %(message)s\")\n",
    "try:\n",
    "    x = 5 / 0\n",
    "except ZeroDivisionError:\n",
    "    logging.error(\"Division by zero occurred!\")\n",
    "    print(\"Error logged to app.log\")"
   ]
  },
  {
   "cell_type": "code",
   "execution_count": 1,
   "id": "51f00550-216e-4ed7-9b00-d8ca0802f0ca",
   "metadata": {},
   "outputs": [
    {
     "name": "stdout",
     "output_type": "stream",
     "text": [
      "Logged INFO, WARNING, ERROR to app.log\n"
     ]
    }
   ],
   "source": [
    "# 7. How do you log information at different levels (INFO, ERROR, WARNING) in Python using the logging module?\n",
    "import logging\n",
    "logging.basicConfig(filename=\"app.log\", level=logging.DEBUG,\n",
    "                    format=\"%(asctime)s - %(levelname)s - %(message)s\")\n",
    "logging.info(\"This is an INFO message\")\n",
    "logging.warning(\"This is a WARNING message\")\n",
    "logging.error(\"This is an ERROR message\")\n",
    "print(\"Logged INFO, WARNING, ERROR to app.log\")\n"
   ]
  },
  {
   "cell_type": "code",
   "execution_count": 2,
   "id": "bf0ade59-42e7-48d4-81e2-ecb846609c2a",
   "metadata": {},
   "outputs": [
    {
     "name": "stdout",
     "output_type": "stream",
     "text": [
      "Error: File not found!\n"
     ]
    }
   ],
   "source": [
    "# 8. Write a program to handle a file opening error using exception handling.\n",
    "try:\n",
    "    with open(\"missing.txt\", \"r\") as file:\n",
    "        data = file.read()\n",
    "except FileNotFoundError:\n",
    "    print(\"Error: File not found!\")"
   ]
  },
  {
   "cell_type": "code",
   "execution_count": 3,
   "id": "b6d86b14-3109-4e47-90ef-0cf97c6ea3b8",
   "metadata": {},
   "outputs": [
    {
     "name": "stdout",
     "output_type": "stream",
     "text": [
      "['Hello, this is a test string!']\n"
     ]
    }
   ],
   "source": [
    "# 9. How can you read a file line by line and store its content in a list in Python?\n",
    "with open(\"example1.txt\", \"r\") as file:\n",
    "    lines = [line.strip() for line in file]\n",
    "print(lines)"
   ]
  },
  {
   "cell_type": "code",
   "execution_count": 4,
   "id": "afb1b9c1-c1d3-49f3-b544-7d38f300dbe1",
   "metadata": {},
   "outputs": [
    {
     "name": "stdout",
     "output_type": "stream",
     "text": [
      "Hello, this is a test string!\n",
      "This is a new line!\n"
     ]
    }
   ],
   "source": [
    "# 10. How can you append data to an existing file in Python?\n",
    "with open(\"example1.txt\", \"a\") as file:\n",
    "    file.write(\"\\nThis is a new line!\")\n",
    "with open(\"example1.txt\", \"r\") as file:\n",
    "    print(file.read())"
   ]
  },
  {
   "cell_type": "code",
   "execution_count": 6,
   "id": "8ba3538a-9a7d-41fc-9d96-824d15a7feeb",
   "metadata": {},
   "outputs": [
    {
     "name": "stdout",
     "output_type": "stream",
     "text": [
      "Error: Key not found!\n"
     ]
    }
   ],
   "source": [
    "# 11. Write a Python program that uses a try-except block to handle an error when attempting to access a dictionary key that doesn't exist.\n",
    "data = {\"name\": \"Sam\"}\n",
    "try:\n",
    "    print(data[\"age\"])\n",
    "except KeyError:\n",
    "    print(\"Error: Key not found!\")"
   ]
  },
  {
   "cell_type": "code",
   "execution_count": 7,
   "id": "2a21f270-1ae5-4a82-a38f-c739195f6416",
   "metadata": {},
   "outputs": [
    {
     "name": "stdout",
     "output_type": "stream",
     "text": [
      "Error: Invalid value!\n"
     ]
    }
   ],
   "source": [
    "# 12. Write a program that demonstrates using multiple except blocks to handle different types of exceptions.\n",
    "try:\n",
    "    num = int(\"abc\")\n",
    "except ValueError:\n",
    "    print(\"Error: Invalid value!\")\n",
    "except TypeError:\n",
    "    print(\"Error: Type mismatch!\")"
   ]
  },
  {
   "cell_type": "code",
   "execution_count": 8,
   "id": "8eb68b43-1441-4cf7-bf17-285a450f0ede",
   "metadata": {},
   "outputs": [
    {
     "name": "stdout",
     "output_type": "stream",
     "text": [
      "File exists!\n"
     ]
    }
   ],
   "source": [
    "# 13. How would you check if a file exists before attempting to read it in Python?\n",
    "import os\n",
    "filename = \"example1.txt\"\n",
    "if os.path.exists(filename):\n",
    "    print(\"File exists!\")\n",
    "else:\n",
    "    print(\"File does not exist!\")"
   ]
  },
  {
   "cell_type": "code",
   "execution_count": 9,
   "id": "b5e2d752-cd47-4751-af91-c78b455ced28",
   "metadata": {},
   "outputs": [
    {
     "name": "stdout",
     "output_type": "stream",
     "text": [
      "Logged info and error to logfile.log\n"
     ]
    }
   ],
   "source": [
    "# 14. Write a program that uses the logging module to log both informational and error messages.\n",
    "import logging\n",
    "logging.basicConfig(filename=\"logfile.log\", level=logging.DEBUG,\n",
    "                    format=\"%(asctime)s - %(levelname)s - %(message)s\")\n",
    "logging.info(\"Program started\")\n",
    "logging.error(\"An error occurred\")\n",
    "print(\"Logged info and error to logfile.log\")"
   ]
  },
  {
   "cell_type": "code",
   "execution_count": 10,
   "id": "95bba0f3-3654-4411-a733-c1b71ad78b64",
   "metadata": {},
   "outputs": [
    {
     "name": "stdout",
     "output_type": "stream",
     "text": [
      "Hello, this is a test string!\n",
      "This is a new line!\n"
     ]
    }
   ],
   "source": [
    "# 15. Write a Python program that prints the content of a file and handles the case when the file is empty.\n",
    "filename = \"example1.txt\"\n",
    "if os.stat(filename).st_size == 0:\n",
    "    print(\"File is empty!\")\n",
    "else:\n",
    "    with open(filename, \"r\") as file:\n",
    "        print(file.read())"
   ]
  },
  {
   "cell_type": "code",
   "execution_count": 16,
   "id": "9b21d940-2667-4a92-b34d-1be80b98cbc0",
   "metadata": {
    "scrolled": true
   },
   "outputs": [
    {
     "name": "stdout",
     "output_type": "stream",
     "text": [
      "Memory used by list: 85176 bytes\n"
     ]
    }
   ],
   "source": [
    "# 16. Demonstrate how to use memory profiling to check the memory usage of a small program.\n",
    "import sys\n",
    "data = [i for i in range(10000)]\n",
    "print(f\"Memory used by list: {sys.getsizeof(data)} bytes\")"
   ]
  },
  {
   "cell_type": "code",
   "execution_count": 17,
   "id": "89546fa2-ad51-498b-b36c-290a6d762477",
   "metadata": {},
   "outputs": [
    {
     "name": "stdout",
     "output_type": "stream",
     "text": [
      "1\n",
      "2\n",
      "3\n",
      "4\n",
      "5\n",
      "\n"
     ]
    }
   ],
   "source": [
    "# 17. Write a Python program to create and write a list of numbers to a file, one number per line.\n",
    "with open(\"numbers.txt\", \"w\") as f:\n",
    "    for i in range(1, 6):\n",
    "        f.write(f\"{i}\\n\")\n",
    "with open(\"numbers.txt\") as f:\n",
    "    print(f.read())"
   ]
  },
  {
   "cell_type": "code",
   "execution_count": 18,
   "id": "37cfe4c1-9581-462b-8139-f86d38915e09",
   "metadata": {},
   "outputs": [
    {
     "name": "stdout",
     "output_type": "stream",
     "text": [
      "Logs rotated\n"
     ]
    }
   ],
   "source": [
    "# 18. How would you implement a basic logging setup that logs to a file with rotation after 1MB?\n",
    "import logging\n",
    "from logging.handlers import RotatingFileHandler\n",
    "handler = RotatingFileHandler(\"rotate.log\", maxBytes=1000, backupCount=2)\n",
    "logging.basicConfig(handlers=[handler], level=logging.INFO)\n",
    "for i in range(20):\n",
    "    logging.info(f\"Log entry {i}\")\n",
    "print(\"Logs rotated\")"
   ]
  },
  {
   "cell_type": "code",
   "execution_count": 19,
   "id": "da9c7a5a-5ce4-4f43-a148-2d23eeec95cf",
   "metadata": {},
   "outputs": [
    {
     "name": "stdout",
     "output_type": "stream",
     "text": [
      "Error: Index out of range!\n",
      "Error: Key not found!\n"
     ]
    }
   ],
   "source": [
    "# 19. Write a program that handles both IndexError and KeyError using a try-except block.\n",
    "try:\n",
    "    lst = [1, 2, 3]\n",
    "    print(lst[5])\n",
    "except IndexError:\n",
    "    print(\"Error: Index out of range!\")\n",
    "data = {\"a\": 1}\n",
    "try:\n",
    "    print(data[\"b\"])\n",
    "except KeyError:\n",
    "    print(\"Error: Key not found!\")"
   ]
  },
  {
   "cell_type": "code",
   "execution_count": 20,
   "id": "dd9f8324-82eb-45d2-b6ea-209f52a6a7af",
   "metadata": {},
   "outputs": [
    {
     "name": "stdout",
     "output_type": "stream",
     "text": [
      "Hello, this is a test string!\n",
      "This is a new line!\n"
     ]
    }
   ],
   "source": [
    "# 20. How would you open a file and read its contents using a context manager in Python?\n",
    "with open(\"example1.txt\", \"r\") as file:\n",
    "    print(file.read())"
   ]
  },
  {
   "cell_type": "code",
   "execution_count": 21,
   "id": "cbfc09dd-fc5f-4322-ac4d-fa254628bf1e",
   "metadata": {},
   "outputs": [
    {
     "name": "stdout",
     "output_type": "stream",
     "text": [
      "The word 'Hello' occurs 1 times.\n"
     ]
    }
   ],
   "source": [
    "# 21. Write a Python program that reads a file and prints the number of occurrences of a specific word.\n",
    "word_to_count = \"Hello\"\n",
    "with open(\"example1.txt\", \"r\") as file:\n",
    "    text = file.read()\n",
    "count = text.count(word_to_count)\n",
    "print(f\"The word '{word_to_count}' occurs {count} times.\")"
   ]
  },
  {
   "cell_type": "code",
   "execution_count": 22,
   "id": "0ea9ee95-33ad-47fa-9c02-f9821d9d3dbe",
   "metadata": {},
   "outputs": [
    {
     "name": "stdout",
     "output_type": "stream",
     "text": [
      "File is not empty!\n"
     ]
    }
   ],
   "source": [
    "# 22. How can you check if a file is empty before attempting to read its contents?\n",
    "filename = \"example1.txt\"\n",
    "if os.path.getsize(filename) == 0:\n",
    "    print(\"File is empty!\")\n",
    "else:\n",
    "    print(\"File is not empty!\")"
   ]
  },
  {
   "cell_type": "code",
   "execution_count": 25,
   "id": "2c08c078-2e68-4fe3-b2aa-b10d81f6147a",
   "metadata": {},
   "outputs": [
    {
     "name": "stdout",
     "output_type": "stream",
     "text": [
      "First line\n",
      "Second line\n",
      "Third line\n",
      "\n"
     ]
    }
   ],
   "source": [
    "# 23.Write a Python program that writes to a log file when an error occurs during file handling.\n",
    "import logging\n",
    "logging.basicConfig(filename=\"error.log\", level=logging.ERROR)\n",
    "try:\n",
    "    with open(\"sample.txt\", \"r\") as f:\n",
    "        data = f.read()\n",
    "        print(data)\n",
    "except FileNotFoundError:\n",
    "    logging.error(\"File not found!\")\n",
    "    print(\"Error logged to error.log\")"
   ]
  },
  {
   "cell_type": "code",
   "execution_count": null,
   "id": "754e90a3-6a06-466b-8645-b2d98ef185be",
   "metadata": {},
   "outputs": [],
   "source": []
  }
 ],
 "metadata": {
  "kernelspec": {
   "display_name": "Python 3 (ipykernel)",
   "language": "python",
   "name": "python3"
  },
  "language_info": {
   "codemirror_mode": {
    "name": "ipython",
    "version": 3
   },
   "file_extension": ".py",
   "mimetype": "text/x-python",
   "name": "python",
   "nbconvert_exporter": "python",
   "pygments_lexer": "ipython3",
   "version": "3.13.5"
  }
 },
 "nbformat": 4,
 "nbformat_minor": 5
}
