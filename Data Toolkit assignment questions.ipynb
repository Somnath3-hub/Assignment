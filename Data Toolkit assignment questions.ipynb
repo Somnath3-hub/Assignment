{
 "cells": [
  {
   "cell_type": "markdown",
   "id": "076ef80a-037d-4150-9f9e-b3dbfa761cf3",
   "metadata": {},
   "source": [
    "# Data Toolkit assignment questions"
   ]
  },
  {
   "cell_type": "markdown",
   "id": "387b88ea-d4e0-4d7f-9c98-af97b9c1d847",
   "metadata": {},
   "source": [
    "1. What is NumPy, and why is it widely used in Python?\n",
    "\n",
    "->  NumPy (Numerical Python) is a library used for handling arrays and mathematical operations. It is\n",
    " widely used because it is much faster than Python lists, saves memory, and supports vectorized\n",
    " operations. It also provides built-in functions for linear algebra, statistics, and random numbers.\n",
    " Many libraries like Pandas and TensorFlow are built on top of NumPy."
   ]
  },
  {
   "cell_type": "markdown",
   "id": "b60edf71-d421-4d82-a370-05d418904226",
   "metadata": {},
   "source": [
    "2. How does broadcasting work in NumPy?\n",
    "\n",
    "->  Broadcasting allows NumPy to perform operations on arrays of different shapes without writing\n",
    " loops. A smaller array is automatically expanded to match the size of a larger array during\n",
    " calculations. For example, adding a scalar to an array applies the operation to every element of the\n",
    " array."
   ]
  },
  {
   "cell_type": "markdown",
   "id": "a4185c5f-4e24-4fd3-8980-d2b11064d126",
   "metadata": {},
   "source": [
    "3. What is a Pandas DataFrame?\n",
    "\n",
    "->  A Pandas DataFrame is a two-dimensional table-like data structure with rows and columns. Each\n",
    " column can hold different types of data, and rows have index labels. It is widely used for data\n",
    " analysis because it allows filtering, grouping, merging, and summarizing data easily."
   ]
  },
  {
   "cell_type": "markdown",
   "id": "efa214c5-9f5b-43a2-bde3-f9e0a1edbe66",
   "metadata": {},
   "source": [
    "4. Explain the use of the groupby() method in Pandas.\n",
    "\n",
    "->  The groupby() method is used to split data into groups, apply a function like sum, mean, or count,\n",
    " and then combine the results. For example, it can calculate total sales per region from a large\n",
    " dataset. It follows the split–apply–combine approach."
   ]
  },
  {
   "cell_type": "markdown",
   "id": "c5b335af-d2a3-4157-b806-267dc05d58e0",
   "metadata": {},
   "source": [
    "5. Why is Seaborn preferred for statistical visualizations?\n",
    "\n",
    "-> Seaborn is preferred because it creates attractive and informative plots with less code. It has built-in\n",
    " themes, works well with Pandas DataFrames, and provides advanced charts such as heatmaps,\n",
    " pairplots, and distribution plots."
   ]
  },
  {
   "cell_type": "markdown",
   "id": "b72504bc-3d42-40c1-87ee-dbfd2d91db2e",
   "metadata": {},
   "source": [
    "6. What are the differences between NumPy arrays and Python lists?\n",
    "\n",
    "-> NumPy arrays are faster, memory efficient, and support vectorized operations. They can only store\n",
    " one data type, while Python lists can store mixed data types. Arrays are mainly used for numerical\n",
    " and scientific computing."
   ]
  },
  {
   "cell_type": "markdown",
   "id": "f9c114f6-0fcc-4822-9a81-370bae6a6623",
   "metadata": {},
   "source": [
    "7. What is a heatmap, and when should it be used?\n",
    "\n",
    "-> A heatmap is a visualization technique where data values are represented using different colors in a\n",
    " matrix-like format. It is very useful when we want to identify correlations, trends, or patterns in data\n",
    " at a glance. For example, in a correlation matrix, a heatmap makes it easy to see which variables\n",
    " are strongly related."
   ]
  },
  {
   "cell_type": "markdown",
   "id": "efb6b8df-00df-4229-9971-35c25fc874d7",
   "metadata": {},
   "source": [
    "8. What does the term “vectorized operation” mean in NumPy?\n",
    "\n",
    "-> Vectorized operation means applying an operation directly on whole arrays instead of looping\n",
    " through elements one by one. This makes the execution much faster and more efficient because\n",
    " the operations are internally handled by optimized C code. For example, multiplying an array by 2\n",
    " applies the calculation to all elements at once."
   ]
  },
  {
   "cell_type": "markdown",
   "id": "bbed11e1-32ff-40bc-8800-9bb5169b6b7c",
   "metadata": {},
   "source": [
    "9. How does Matplotlib differ from Plotly?\n",
    "\n",
    "-> Matplotlib is a traditional library mainly used for static plots that are suitable for research papers and\n",
    " simple data exploration. Plotly, on the other hand, provides interactive plots where users can zoom,\n",
    " hover, and interact with data points, which makes it more suitable for dashboards and\n",
    " presentations. Therefore, Matplotlib is good for static reporting, while Plotly is preferred for dynamic\n",
    " and interactive use cases."
   ]
  },
  {
   "cell_type": "markdown",
   "id": "e2722b14-88e4-4dad-b7cc-53245a3c96d9",
   "metadata": {},
   "source": [
    "10. What is the significance of hierarchical indexing in Pandas?\n",
    "\n",
    "-> Hierarchical indexing means having multiple levels of index on rows or columns. This is important\n",
    " when working with complex datasets because it allows grouping and subsetting data in a more\n",
    " structured way. For example, in sales data, we can index by Region and then by City, which helps\n",
    " in detailed analysis."
   ]
  },
  {
   "cell_type": "markdown",
   "id": "68c251b7-09f4-406d-bef4-f871d0cf8c40",
   "metadata": {},
   "source": [
    "11. What is the role of Seaborn’s pairplot() function?\n",
    "\n",
    "-> The pairplot() function in Seaborn is used to plot pairwise relationships between different variables\n",
    " in a dataset. It generates scatterplots for numeric variables and histograms for distributions, making\n",
    " it easy to understand correlations and spot trends among multiple variables at once."
   ]
  },
  {
   "cell_type": "markdown",
   "id": "1da935c1-e0c5-4f79-a49e-effa8a9f2352",
   "metadata": {},
   "source": [
    "12. What is the purpose of the describe() function in Pandas?\n",
    "\n",
    "-> The describe() function provides summary statistics for numerical columns in a DataFrame. It\n",
    " includes count, mean, standard deviation, minimum, maximum, and quartile values. This function is\n",
    " helpful when we want to quickly understand the overall distribution and spread of the dataset."
   ]
  },
  {
   "cell_type": "markdown",
   "id": "3be2e5a9-5a60-4140-a23e-bfd15c295d87",
   "metadata": {},
   "source": [
    "13. Why is handling missing data important in Pandas?\n",
    "\n",
    "-> Handling missing data is very important because missing values can cause errors and incorrect\n",
    " results in analysis or machine learning models. Pandas provides several methods to deal with\n",
    " missing values such as dropna() to remove them and fillna() to replace them with default values.\n",
    " This ensures that the dataset is clean and reliable."
   ]
  },
  {
   "cell_type": "markdown",
   "id": "3d7e78a7-5a63-4547-8287-4e173090b8f5",
   "metadata": {},
   "source": [
    "14. What are the benefits of using Plotly for data visualization?\n",
    "\n",
    "-> Plotly provides interactive and visually appealing charts that allow zooming, panning, and tooltips. It\n",
    " is highly useful for building dashboards and sharing results in web applications. One of the main\n",
    " benefits is that it helps users explore data more deeply through interaction rather than just static\n",
    " viewing."
   ]
  },
  {
   "cell_type": "markdown",
   "id": "4ea15e2e-92fc-4881-b60e-2034cf07ae88",
   "metadata": {},
   "source": [
    "15. How does NumPy handle multidimensional arrays?\n",
    "\n",
    "-> NumPy handles multidimensional arrays using the ndarray object, which can represent arrays of\n",
    " any dimension. This allows operations not only on 1D arrays but also on 2D (matrices) and higher\n",
    " dimensions like 3D or more. This makes NumPy extremely powerful for scientific and engineering\n",
    " problems where multi-axis data is common."
   ]
  },
  {
   "cell_type": "markdown",
   "id": "55776ee3-51cb-4e1a-83f8-e9f85de8aecc",
   "metadata": {},
   "source": [
    "16. What is the role of Bokeh in data visualization?\n",
    "\n",
    "-> Bokeh is a Python library designed to create interactive and web-friendly visualizations. It supports\n",
    " zooming, panning, and selection tools, which makes it great for dashboards and web apps. Unlike\n",
    " Matplotlib, Bokeh directly outputs to HTML and JavaScript, making it ideal for online data sharing."
   ]
  },
  {
   "cell_type": "markdown",
   "id": "6c1349b3-e573-4f93-8f8f-59fc0f70132c",
   "metadata": {},
   "source": [
    "17. Explain the difference between apply() and map() in Pandas.\n",
    "\n",
    "-> The map() function is mainly used for element-wise transformations on a Pandas Series, meaning it\n",
    " applies a function to each element individually. The apply() function, however, can be used on both\n",
    " Series and DataFrames. It allows applying functions across rows or columns, making it more\n",
    " flexible and powerful than map()."
   ]
  },
  {
   "cell_type": "markdown",
   "id": "702c74af-711c-49de-8b73-b8da049afd83",
   "metadata": {},
   "source": [
    "18. What are some advanced features of NumPy?\n",
    "\n",
    "-> Some advanced features of NumPy include broadcasting, vectorized operations, random number\n",
    " generation, linear algebra operations, and Fourier transforms. It also provides functions for\n",
    " reshaping, stacking, and splitting arrays. These features make NumPy suitable for high-level\n",
    " mathematical and scientific computations."
   ]
  },
  {
   "cell_type": "markdown",
   "id": "15e4de63-8f9c-4fde-9524-e70f46e02bb4",
   "metadata": {},
   "source": [
    "19. How does Pandas simplify time series analysis?\n",
    "\n",
    "-> Pandas simplifies time series analysis by providing built-in support for date and time data. It allows\n",
    " setting datetime objects as index, resampling data by different time frequencies, and performing\n",
    " operations like shifting or rolling averages. This makes working with financial, weather, or sensor\n",
    " data much easier."
   ]
  },
  {
   "cell_type": "markdown",
   "id": "b2a0feb3-0e6d-48a2-b81a-970bea858563",
   "metadata": {},
   "source": [
    "20. What is the role of a pivot table in Pandas?\n",
    "\n",
    "-> A pivot table is used to reorganize and summarize data in a DataFrame. It allows grouping by one\n",
    " or more keys and applying aggregation functions like sum, mean, or count. For example, it can\n",
    " show sales totals per region and product in a structured table format."
   ]
  },
  {
   "cell_type": "markdown",
   "id": "fc5f861f-7fc6-4dac-acdb-2018d126978d",
   "metadata": {},
   "source": [
    "21. Why is NumPy’s array slicing faster than Python’s list slicing?\n",
    "\n",
    "-> NumPy’s slicing is faster because NumPy arrays are stored in contiguous memory blocks and are\n",
    " implemented in optimized C code. Python lists, on the other hand, store references to objects,\n",
    " which makes slicing slower and less memory efficient. This is why NumPy is preferred for handling\n",
    " large datasets."
   ]
  },
  {
   "cell_type": "markdown",
   "id": "d9731f41-a276-4b91-bd07-082162af58a0",
   "metadata": {},
   "source": [
    "22. What are some common use cases for Seaborn?\n",
    "\n",
    "-> Seaborn is commonly used for creating statistical visualizations such as heatmaps, pairplots,\n",
    " regression plots, and categorical plots. It is especially useful when we want to explore relationships\n",
    " between variables or visualize distributions. Because of its simplicity and integration with Pandas, it\n",
    " is often the first choice for quick and attractive data visualization."
   ]
  },
  {
   "cell_type": "markdown",
   "id": "8387c9ad-dcbd-4796-bc20-5d2fd83b8885",
   "metadata": {},
   "source": [
    "#  Practical Questions"
   ]
  },
  {
   "cell_type": "code",
   "execution_count": 11,
   "id": "ffa78ec5-3034-40c2-b87f-2d714258396a",
   "metadata": {},
   "outputs": [
    {
     "name": "stdout",
     "output_type": "stream",
     "text": [
      "Row-wise sum: [ 6 15 24]\n"
     ]
    }
   ],
   "source": [
    "# 1. How do you create a 2D NumPy array and calculate the sum of each row?\n",
    "import numpy as np\n",
    "arr = np.array([[1, 2, 3],\n",
    "                [4, 5, 6],\n",
    "                [7, 8, 9]])\n",
    "row_sum = np.sum(arr, axis=1)\n",
    "print(\"Row-wise sum:\", row_sum)"
   ]
  },
  {
   "cell_type": "code",
   "execution_count": 12,
   "id": "e7f60863-fdca-4560-8c4e-3c6ee1756a1d",
   "metadata": {},
   "outputs": [
    {
     "name": "stdout",
     "output_type": "stream",
     "text": [
      "Mean of Marks column: 80.0\n"
     ]
    }
   ],
   "source": [
    "# 2. Write a Pandas script to find the mean of a specific column in a DataFrame.\n",
    "import pandas as pd\n",
    "data = {'Name': ['A', 'B', 'C'],\n",
    "        'Marks': [80, 90, 70]}\n",
    "df = pd.DataFrame(data)\n",
    "mean_value = df['Marks'].mean()\n",
    "print(\"Mean of Marks column:\", mean_value)"
   ]
  },
  {
   "cell_type": "code",
   "execution_count": 13,
   "id": "af47107d-16ae-4c08-8951-cafb532fc7fd",
   "metadata": {},
   "outputs": [
    {
     "data": {
      "image/png": "[encoded data removed]",
      "text/plain": [
       "<Figure size 640x480 with 1 Axes>"
      ]
     },
     "metadata": {},
     "output_type": "display_data"
    }
   ],
   "source": [
    "# 3.Create a scatter plot using Matplotlib.\n",
    "import matplotlib.pyplot as plt\n",
    "x = [5, 7, 8, 7, 6, 9]\n",
    "y = [99, 86, 87, 88, 100, 86]\n",
    "plt.scatter(x, y)\n",
    "plt.xlabel(\"X-axis\")\n",
    "plt.ylabel(\"Y-axis\")\n",
    "plt.title(\"Scatter Plot\")\n",
    "plt.show()"
   ]
  },
  {
   "cell_type": "code",
   "execution_count": 14,
   "id": "470c5835-3fee-49b1-b461-611e2be8a1fd",
   "metadata": {},
   "outputs": [
    {
     "name": "stdout",
     "output_type": "stream",
     "text": [
      "          A         B         C         D         E\n",
      "A  1.000000 -0.399840  0.784090 -0.435274  0.026407\n",
      "B -0.399840  1.000000  0.231389  0.313335  0.338195\n",
      "C  0.784090  0.231389  1.000000 -0.408134  0.393784\n",
      "D -0.435274  0.313335 -0.408134  1.000000 -0.637741\n",
      "E  0.026407  0.338195  0.393784 -0.637741  1.000000\n"
     ]
    },
    {
     "data": {
      "text/plain": [
       "<Axes: >"
      ]
     },
     "execution_count": 14,
     "metadata": {},
     "output_type": "execute_result"
    },
    {
     "data": {
      "image/png": "[encoded data removed]",
      "text/plain": [
       "<Figure size 640x480 with 2 Axes>"
      ]
     },
     "metadata": {},
     "output_type": "display_data"
    }
   ],
   "source": [
    "# 4. How do you calculate the correlation matrix using Seaborn and visualize it with a heatmap?\n",
    "import seaborn as sns\n",
    "import pandas as pd\n",
    "import numpy as np\n",
    "data = np.random.rand(5, 5)\n",
    "df = pd.DataFrame(data, columns=list('ABCDE'))\n",
    "corr = df.corr()\n",
    "print(corr)\n",
    "sns.heatmap(corr, annot=True, cmap=\"coolwarm\")"
   ]
  },
  {
   "cell_type": "code",
   "execution_count": 17,
   "id": "888dc8ab-4a0f-4b10-ac97-6ada585c66b8",
   "metadata": {},
   "outputs": [
    {
     "data": {
      "application/vnd.plotly.v1+json": {
       "config": {
        "plotlyServerURL": "https://plot.ly"
       },
       "data": [
        {
         "hovertemplate": "Names=%{x}<br>Scores=%{y}<extra></extra>",
         "legendgroup": "",
         "marker": {
          "color": "#636efa",
          "pattern": {
           "shape": ""
          }
         },
         "name": "",
         "orientation": "v",
         "showlegend": false,
         "textposition": "auto",
         "type": "bar",
         "x": [
          "A",
          "B",
          "C"
         ],
         "xaxis": "x",
         "y": {
          "bdata": "WkZV",
          "dtype": "i1"
         },
         "yaxis": "y"
        }
       ],
       "layout": {
        "barmode": "relative",
        "legend": {
         "tracegroupgap": 0
        },
        "template": {
         "data": {
          "bar": [
           {
            "error_x": {
             "color": "#2a3f5f"
            },
            "error_y": {
             "color": "#2a3f5f"
            },
            "marker": {
             "line": {
              "color": "#E5ECF6",
              "width": 0.5
             },
             "pattern": {
              "fillmode": "overlay",
              "size": 10,
              "solidity": 0.2
             }
            },
            "type": "bar"
           }
          ],
          "barpolar": [
           {
            "marker": {
             "line": {
              "color": "#E5ECF6",
              "width": 0.5
             },
             "pattern": {
              "fillmode": "overlay",
              "size": 10,
              "solidity": 0.2
             }
            },
            "type": "barpolar"
           }
          ],
          "carpet": [
           {
            "aaxis": {
             "endlinecolor": "#2a3f5f",
             "gridcolor": "white",
             "linecolor": "white",
             "minorgridcolor": "white",
             "startlinecolor": "#2a3f5f"
            },
            "baxis": {
             "endlinecolor": "#2a3f5f",
             "gridcolor": "white",
             "linecolor": "white",
             "minorgridcolor": "white",
             "startlinecolor": "#2a3f5f"
            },
            "type": "carpet"
           }
          ],
          "choropleth": [
           {
            "colorbar": {
             "outlinewidth": 0,
             "ticks": ""
            },
            "type": "choropleth"
           }
          ],
          "contour": [
           {
            "colorbar": {
             "outlinewidth": 0,
             "ticks": ""
            },
            "colorscale": [
             [
              0,
              "#0d0887"
             ],
             [
              0.1111111111111111,
              "#46039f"
             ],
             [
              0.2222222222222222,
              "#7201a8"
             ],
             [
              0.3333333333333333,
              "#9c179e"
             ],
             [
              0.4444444444444444,
              "#bd3786"
             ],
             [
              0.5555555555555556,
              "#d8576b"
             ],
             [
              0.6666666666666666,
              "#ed7953"
             ],
             [
              0.7777777777777778,
              "#fb9f3a"
             ],
             [
              0.8888888888888888,
              "#fdca26"
             ],
             [
              1,
              "#f0f921"
             ]
            ],
            "type": "contour"
           }
          ],
          "contourcarpet": [
           {
            "colorbar": {
             "outlinewidth": 0,
             "ticks": ""
            },
            "type": "contourcarpet"
           }
          ],
          "heatmap": [
           {
            "colorbar": {
             "outlinewidth": 0,
             "ticks": ""
            },
            "colorscale": [
             [
              0,
              "#0d0887"
             ],
             [
              0.1111111111111111,
              "#46039f"
             ],
             [
              0.2222222222222222,
              "#7201a8"
             ],
             [
              0.3333333333333333,
              "#9c179e"
             ],
             [
              0.4444444444444444,
              "#bd3786"
             ],
             [
              0.5555555555555556,
              "#d8576b"
             ],
             [
              0.6666666666666666,
              "#ed7953"
             ],
             [
              0.7777777777777778,
              "#fb9f3a"
             ],
             [
              0.8888888888888888,
              "#fdca26"
             ],
             [
              1,
              "#f0f921"
             ]
            ],
            "type": "heatmap"
           }
          ],
          "histogram": [
           {
            "marker": {
             "pattern": {
              "fillmode": "overlay",
              "size": 10,
              "solidity": 0.2
             }
            },
            "type": "histogram"
           }
          ],
          "histogram2d": [
           {
            "colorbar": {
             "outlinewidth": 0,
             "ticks": ""
            },
            "colorscale": [
             [
              0,
              "#0d0887"
             ],
             [
              0.1111111111111111,
              "#46039f"
             ],
             [
              0.2222222222222222,
              "#7201a8"
             ],
             [
              0.3333333333333333,
              "#9c179e"
             ],
             [
              0.4444444444444444,
              "#bd3786"
             ],
             [
              0.5555555555555556,
              "#d8576b"
             ],
             [
              0.6666666666666666,
              "#ed7953"
             ],
             [
              0.7777777777777778,
              "#fb9f3a"
             ],
             [
              0.8888888888888888,
              "#fdca26"
             ],
             [
              1,
              "#f0f921"
             ]
            ],
            "type": "histogram2d"
           }
          ],
          "histogram2dcontour": [
           {
            "colorbar": {
             "outlinewidth": 0,
             "ticks": ""
            },
            "colorscale": [
             [
              0,
              "#0d0887"
             ],
             [
              0.1111111111111111,
              "#46039f"
             ],
             [
              0.2222222222222222,
              "#7201a8"
             ],
             [
              0.3333333333333333,
              "#9c179e"
             ],
             [
              0.4444444444444444,
              "#bd3786"
             ],
             [
              0.5555555555555556,
              "#d8576b"
             ],
             [
              0.6666666666666666,
              "#ed7953"
             ],
             [
              0.7777777777777778,
              "#fb9f3a"
             ],
             [
              0.8888888888888888,
              "#fdca26"
             ],
             [
              1,
              "#f0f921"
             ]
            ],
            "type": "histogram2dcontour"
           }
          ],
          "mesh3d": [
           {
            "colorbar": {
             "outlinewidth": 0,
             "ticks": ""
            },
            "type": "mesh3d"
           }
          ],
          "parcoords": [
           {
            "line": {
             "colorbar": {
              "outlinewidth": 0,
              "ticks": ""
             }
            },
            "type": "parcoords"
           }
          ],
          "pie": [
           {
            "automargin": true,
            "type": "pie"
           }
          ],
          "scatter": [
           {
            "fillpattern": {
             "fillmode": "overlay",
             "size": 10,
             "solidity": 0.2
            },
            "type": "scatter"
           }
          ],
          "scatter3d": [
           {
            "line": {
             "colorbar": {
              "outlinewidth": 0,
              "ticks": ""
             }
            },
            "marker": {
             "colorbar": {
              "outlinewidth": 0,
              "ticks": ""
             }
            },
            "type": "scatter3d"
           }
          ],
          "scattercarpet": [
           {
            "marker": {
             "colorbar": {
              "outlinewidth": 0,
              "ticks": ""
             }
            },
            "type": "scattercarpet"
           }
          ],
          "scattergeo": [
           {
            "marker": {
             "colorbar": {
              "outlinewidth": 0,
              "ticks": ""
             }
            },
            "type": "scattergeo"
           }
          ],
          "scattergl": [
           {
            "marker": {
             "colorbar": {
              "outlinewidth": 0,
              "ticks": ""
             }
            },
            "type": "scattergl"
           }
          ],
          "scattermap": [
           {
            "marker": {
             "colorbar": {
              "outlinewidth": 0,
              "ticks": ""
             }
            },
            "type": "scattermap"
           }
          ],
          "scattermapbox": [
           {
            "marker": {
             "colorbar": {
              "outlinewidth": 0,
              "ticks": ""
             }
            },
            "type": "scattermapbox"
           }
          ],
          "scatterpolar": [
           {
            "marker": {
             "colorbar": {
              "outlinewidth": 0,
              "ticks": ""
             }
            },
            "type": "scatterpolar"
           }
          ],
          "scatterpolargl": [
           {
            "marker": {
             "colorbar": {
              "outlinewidth": 0,
              "ticks": ""
             }
            },
            "type": "scatterpolargl"
           }
          ],
          "scatterternary": [
           {
            "marker": {
             "colorbar": {
              "outlinewidth": 0,
              "ticks": ""
             }
            },
            "type": "scatterternary"
           }
          ],
          "surface": [
           {
            "colorbar": {
             "outlinewidth": 0,
             "ticks": ""
            },
            "colorscale": [
             [
              0,
              "#0d0887"
             ],
             [
              0.1111111111111111,
              "#46039f"
             ],
             [
              0.2222222222222222,
              "#7201a8"
             ],
             [
              0.3333333333333333,
              "#9c179e"
             ],
             [
              0.4444444444444444,
              "#bd3786"
             ],
             [
              0.5555555555555556,
              "#d8576b"
             ],
             [
              0.6666666666666666,
              "#ed7953"
             ],
             [
              0.7777777777777778,
              "#fb9f3a"
             ],
             [
              0.8888888888888888,
              "#fdca26"
             ],
             [
              1,
              "#f0f921"
             ]
            ],
            "type": "surface"
           }
          ],
          "table": [
           {
            "cells": {
             "fill": {
              "color": "#EBF0F8"
             },
             "line": {
              "color": "white"
             }
            },
            "header": {
             "fill": {
              "color": "#C8D4E3"
             },
             "line": {
              "color": "white"
             }
            },
            "type": "table"
           }
          ]
         },
         "layout": {
          "annotationdefaults": {
           "arrowcolor": "#2a3f5f",
           "arrowhead": 0,
           "arrowwidth": 1
          },
          "autotypenumbers": "strict",
          "coloraxis": {
           "colorbar": {
            "outlinewidth": 0,
            "ticks": ""
           }
          },
          "colorscale": {
           "diverging": [
            [
             0,
             "#8e0152"
            ],
            [
             0.1,
             "#c51b7d"
            ],
            [
             0.2,
             "#de77ae"
            ],
            [
             0.3,
             "#f1b6da"
            ],
            [
             0.4,
             "#fde0ef"
            ],
            [
             0.5,
             "#f7f7f7"
            ],
            [
             0.6,
             "#e6f5d0"
            ],
            [
             0.7,
             "#b8e186"
            ],
            [
             0.8,
             "#7fbc41"
            ],
            [
             0.9,
             "#4d9221"
            ],
            [
             1,
             "#276419"
            ]
           ],
           "sequential": [
            [
             0,
             "#0d0887"
            ],
            [
             0.1111111111111111,
             "#46039f"
            ],
            [
             0.2222222222222222,
             "#7201a8"
            ],
            [
             0.3333333333333333,
             "#9c179e"
            ],
            [
             0.4444444444444444,
             "#bd3786"
            ],
            [
             0.5555555555555556,
             "#d8576b"
            ],
            [
             0.6666666666666666,
             "#ed7953"
            ],
            [
             0.7777777777777778,
             "#fb9f3a"
            ],
            [
             0.8888888888888888,
             "#fdca26"
            ],
            [
             1,
             "#f0f921"
            ]
           ],
           "sequentialminus": [
            [
             0,
             "#0d0887"
            ],
            [
             0.1111111111111111,
             "#46039f"
            ],
            [
             0.2222222222222222,
             "#7201a8"
            ],
            [
             0.3333333333333333,
             "#9c179e"
            ],
            [
             0.4444444444444444,
             "#bd3786"
            ],
            [
             0.5555555555555556,
             "#d8576b"
            ],
            [
             0.6666666666666666,
             "#ed7953"
            ],
            [
             0.7777777777777778,
             "#fb9f3a"
            ],
            [
             0.8888888888888888,
             "#fdca26"
            ],
            [
             1,
             "#f0f921"
            ]
           ]
          },
          "colorway": [
           "#636efa",
           "#EF553B",
           "#00cc96",
           "#ab63fa",
           "#FFA15A",
           "#19d3f3",
           "#FF6692",
           "#B6E880",
           "#FF97FF",
           "#FECB52"
          ],
          "font": {
           "color": "#2a3f5f"
          },
          "geo": {
           "bgcolor": "white",
           "lakecolor": "white",
           "landcolor": "#E5ECF6",
           "showlakes": true,
           "showland": true,
           "subunitcolor": "white"
          },
          "hoverlabel": {
           "align": "left"
          },
          "hovermode": "closest",
          "mapbox": {
           "style": "light"
          },
          "paper_bgcolor": "white",
          "plot_bgcolor": "#E5ECF6",
          "polar": {
           "angularaxis": {
            "gridcolor": "white",
            "linecolor": "white",
            "ticks": ""
           },
           "bgcolor": "#E5ECF6",
           "radialaxis": {
            "gridcolor": "white",
            "linecolor": "white",
            "ticks": ""
           }
          },
          "scene": {
           "xaxis": {
            "backgroundcolor": "#E5ECF6",
            "gridcolor": "white",
            "gridwidth": 2,
            "linecolor": "white",
            "showbackground": true,
            "ticks": "",
            "zerolinecolor": "white"
           },
           "yaxis": {
            "backgroundcolor": "#E5ECF6",
            "gridcolor": "white",
            "gridwidth": 2,
            "linecolor": "white",
            "showbackground": true,
            "ticks": "",
            "zerolinecolor": "white"
           },
           "zaxis": {
            "backgroundcolor": "#E5ECF6",
            "gridcolor": "white",
            "gridwidth": 2,
            "linecolor": "white",
            "showbackground": true,
            "ticks": "",
            "zerolinecolor": "white"
           }
          },
          "shapedefaults": {
           "line": {
            "color": "#2a3f5f"
           }
          },
          "ternary": {
           "aaxis": {
            "gridcolor": "white",
            "linecolor": "white",
            "ticks": ""
           },
           "baxis": {
            "gridcolor": "white",
            "linecolor": "white",
            "ticks": ""
           },
           "bgcolor": "#E5ECF6",
           "caxis": {
            "gridcolor": "white",
            "linecolor": "white",
            "ticks": ""
           }
          },
          "title": {
           "x": 0.05
          },
          "xaxis": {
           "automargin": true,
           "gridcolor": "white",
           "linecolor": "white",
           "ticks": "",
           "title": {
            "standoff": 15
           },
           "zerolinecolor": "white",
           "zerolinewidth": 2
          },
          "yaxis": {
           "automargin": true,
           "gridcolor": "white",
           "linecolor": "white",
           "ticks": "",
           "title": {
            "standoff": 15
           },
           "zerolinecolor": "white",
           "zerolinewidth": 2
          }
         }
        },
        "title": {
         "text": "Bar Plot Example"
        },
        "xaxis": {
         "anchor": "y",
         "domain": [
          0,
          1
         ],
         "title": {
          "text": "Names"
         }
        },
        "yaxis": {
         "anchor": "x",
         "domain": [
          0,
          1
         ],
         "title": {
          "text": "Scores"
         }
        }
       }
      },
      "image/png": "[encoded data removed]"
     },
     "metadata": {},
     "output_type": "display_data"
    }
   ],
   "source": [
    "# 5. Generate a bar plot using Plotly.\n",
    "import plotly.express as px\n",
    "data = {'Names': ['A', 'B', 'C'],\n",
    "        'Scores': [90, 70, 85]}\n",
    "fig = px.bar(data, x='Names', y='Scores', title=\"Bar Plot Example\")\n",
    "fig.show()"
   ]
  },
  {
   "cell_type": "code",
   "execution_count": 18,
   "id": "7c9498c3-4537-4e4a-a8ad-17ae3e8608dc",
   "metadata": {},
   "outputs": [
    {
     "name": "stdout",
     "output_type": "stream",
     "text": [
      "  Name  Marks  Double_Marks\n",
      "0    A     50           100\n",
      "1    B     60           120\n",
      "2    C     70           140\n"
     ]
    }
   ],
   "source": [
    "# 6. Create a DataFrame and add a new column based on an existing column.\n",
    "import pandas as pd\n",
    "df = pd.DataFrame({'Name': ['A', 'B', 'C'],\n",
    "                   'Marks': [50, 60, 70]})\n",
    "df['Double_Marks'] = df['Marks'] * 2\n",
    "print(df)"
   ]
  },
  {
   "cell_type": "code",
   "execution_count": 19,
   "id": "cda28bdb-a57a-47c5-87ab-3bde121e8d8e",
   "metadata": {},
   "outputs": [
    {
     "name": "stdout",
     "output_type": "stream",
     "text": [
      "Element-wise multiplication: [ 4 10 18]\n"
     ]
    }
   ],
   "source": [
    "# 7. Write a program to perform element-wise multiplication of two NumPy arrays.\n",
    "import numpy as np\n",
    "a = np.array([1, 2, 3])\n",
    "b = np.array([4, 5, 6])\n",
    "result = a * b\n",
    "print(\"Element-wise multiplication:\", result)"
   ]
  },
  {
   "cell_type": "code",
   "execution_count": 20,
   "id": "31a0ae58-620a-43ee-8edd-444b54eb5342",
   "metadata": {},
   "outputs": [
    {
     "data": {
      "image/png": "[encoded data removed]",
      "text/plain": [
       "<Figure size 640x480 with 1 Axes>"
      ]
     },
     "metadata": {},
     "output_type": "display_data"
    }
   ],
   "source": [
    "# 8. Create a line plot with multiple lines using Matplotlib.\n",
    "import matplotlib.pyplot as plt\n",
    "x = [1, 2, 3, 4, 5]\n",
    "y1 = [2, 4, 6, 8, 10]\n",
    "y2 = [1, 3, 5, 7, 9]\n",
    "plt.plot(x, y1, label=\"Line 1\")\n",
    "plt.plot(x, y2, label=\"Line 2\")\n",
    "plt.xlabel(\"X-axis\")\n",
    "plt.ylabel(\"Y-axis\")\n",
    "plt.title(\"Multiple Line Plot\")\n",
    "plt.legend()\n",
    "plt.show()"
   ]
  },
  {
   "cell_type": "code",
   "execution_count": 21,
   "id": "b9ae601b-51fd-435c-b96f-4ef274f7d663",
   "metadata": {},
   "outputs": [
    {
     "name": "stdout",
     "output_type": "stream",
     "text": [
      "  Name  Score\n",
      "1    B     67\n",
      "2    C     89\n"
     ]
    }
   ],
   "source": [
    "# 9. Generate a Pandas DataFrame and filter rows where a column value is greater than a threshold.\n",
    "import pandas as pd\n",
    "df = pd.DataFrame({'Name': ['A', 'B', 'C', 'D'],\n",
    "                   'Score': [45, 67, 89, 30]})\n",
    "filtered = df[df['Score'] > 50]\n",
    "print(filtered)"
   ]
  },
  {
   "cell_type": "code",
   "execution_count": 22,
   "id": "40aa1253-7569-42e2-a3a5-60918bc171f5",
   "metadata": {},
   "outputs": [
    {
     "data": {
      "image/png": "[encoded data removed]",
      "text/plain": [
       "<Figure size 640x480 with 1 Axes>"
      ]
     },
     "metadata": {},
     "output_type": "display_data"
    }
   ],
   "source": [
    "# 10. Create a histogram using Seaborn to visualize a distribution.\n",
    "import seaborn as sns\n",
    "import matplotlib.pyplot as plt\n",
    "data = [5, 7, 8, 7, 6, 9, 5, 6, 7, 8, 9, 6, 7]\n",
    "sns.histplot(data, kde=True)\n",
    "plt.title(\"Histogram with Seaborn\")\n",
    "plt.show()"
   ]
  },
  {
   "cell_type": "code",
   "execution_count": 23,
   "id": "12daa88e-a2fd-41ce-881f-125dc3836042",
   "metadata": {},
   "outputs": [
    {
     "name": "stdout",
     "output_type": "stream",
     "text": [
      "Matrix Multiplication:\n",
      " [[19 22]\n",
      " [43 50]]\n"
     ]
    }
   ],
   "source": [
    "# 11. Perform matrix multiplication using NumPy.\n",
    "import numpy as np\n",
    "a = np.array([[1, 2],\n",
    "              [3, 4]])\n",
    "b = np.array([[5, 6],\n",
    "              [7, 8]])\n",
    "result = np.dot(a, b)\n",
    "print(\"Matrix Multiplication:\\n\", result)"
   ]
  },
  {
   "cell_type": "code",
   "execution_count": 35,
   "id": "fc82546f-c836-4ba3-849c-0181e256c1ef",
   "metadata": {},
   "outputs": [
    {
     "name": "stdout",
     "output_type": "stream",
     "text": [
      "File created successfully in: C:\\Users\\skada\n"
     ]
    }
   ],
   "source": [
    "import pandas as pd\n",
    "data = {\n",
    "    \"Name\": [\"Sam\",\"Rahul\",\"Priya\",\"Aman\",\"Neha\",\"Vikas\"],\n",
    "    \"Age\":  [21,22"
   ]
  },
  {
   "cell_type": "code",
   "execution_count": 33,
   "id": "1563d483-0082-4e0a-892f-2f34118e76bd",
   "metadata": {},
   "outputs": [],
   "source": [
    "# 12. Use Pandas to load a CSV file and display its first 5 rows.\n"
   ]
  },
  {
   "cell_type": "code",
   "execution_count": 26,
   "id": "b0fa425b-f9ac-41be-9578-3b56284a6376",
   "metadata": {},
   "outputs": [
    {
     "data": {
      "application/vnd.plotly.v1+json": {
       "config": {
        "plotlyServerURL": "https://plot.ly"
       },
       "data": [
        {
         "hovertemplate": "x=%{x}<br>y=%{y}<br>z=%{marker.color}<extra></extra>",
         "legendgroup": "",
         "marker": {
          "color": {
           "bdata": "BQ8ZIy0=",
           "dtype": "i1"
          },
          "coloraxis": "coloraxis",
          "size": {
           "bdata": "BQ8ZIy0=",
           "dtype": "i1"
          },
          "sizemode": "area",
          "sizeref": 0.1125,
          "symbol": "circle"
         },
         "mode": "markers",
         "name": "",
         "scene": "scene",
         "showlegend": false,
         "type": "scatter3d",
         "x": {
          "bdata": "AQIDBAU=",
          "dtype": "i1"
         },
         "y": {
          "bdata": "ChQeKDI=",
          "dtype": "i1"
         },
         "z": {
          "bdata": "BQ8ZIy0=",
          "dtype": "i1"
         }
        }
       ],
       "layout": {
        "coloraxis": {
         "colorbar": {
          "title": {
           "text": "z"
          }
         },
         "colorscale": [
          [
           0,
           "#0d0887"
          ],
          [
           0.1111111111111111,
           "#46039f"
          ],
          [
           0.2222222222222222,
           "#7201a8"
          ],
          [
           0.3333333333333333,
           "#9c179e"
          ],
          [
           0.4444444444444444,
           "#bd3786"
          ],
          [
           0.5555555555555556,
           "#d8576b"
          ],
          [
           0.6666666666666666,
           "#ed7953"
          ],
          [
           0.7777777777777778,
           "#fb9f3a"
          ],
          [
           0.8888888888888888,
           "#fdca26"
          ],
          [
           1,
           "#f0f921"
          ]
         ]
        },
        "legend": {
         "itemsizing": "constant",
         "tracegroupgap": 0
        },
        "scene": {
         "domain": {
          "x": [
           0,
           1
          ],
          "y": [
           0,
           1
          ]
         },
         "xaxis": {
          "title": {
           "text": "x"
          }
         },
         "yaxis": {
          "title": {
           "text": "y"
          }
         },
         "zaxis": {
          "title": {
           "text": "z"
          }
         }
        },
        "template": {
         "data": {
          "bar": [
           {
            "error_x": {
             "color": "#2a3f5f"
            },
            "error_y": {
             "color": "#2a3f5f"
            },
            "marker": {
             "line": {
              "color": "#E5ECF6",
              "width": 0.5
             },
             "pattern": {
              "fillmode": "overlay",
              "size": 10,
              "solidity": 0.2
             }
            },
            "type": "bar"
           }
          ],
          "barpolar": [
           {
            "marker": {
             "line": {
              "color": "#E5ECF6",
              "width": 0.5
             },
             "pattern": {
              "fillmode": "overlay",
              "size": 10,
              "solidity": 0.2
             }
            },
            "type": "barpolar"
           }
          ],
          "carpet": [
           {
            "aaxis": {
             "endlinecolor": "#2a3f5f",
             "gridcolor": "white",
             "linecolor": "white",
             "minorgridcolor": "white",
             "startlinecolor": "#2a3f5f"
            },
            "baxis": {
             "endlinecolor": "#2a3f5f",
             "gridcolor": "white",
             "linecolor": "white",
             "minorgridcolor": "white",
             "startlinecolor": "#2a3f5f"
            },
            "type": "carpet"
           }
          ],
          "choropleth": [
           {
            "colorbar": {
             "outlinewidth": 0,
             "ticks": ""
            },
            "type": "choropleth"
           }
          ],
          "contour": [
           {
            "colorbar": {
             "outlinewidth": 0,
             "ticks": ""
            },
            "colorscale": [
             [
              0,
              "#0d0887"
             ],
             [
              0.1111111111111111,
              "#46039f"
             ],
             [
              0.2222222222222222,
              "#7201a8"
             ],
             [
              0.3333333333333333,
              "#9c179e"
             ],
             [
              0.4444444444444444,
              "#bd3786"
             ],
             [
              0.5555555555555556,
              "#d8576b"
             ],
             [
              0.6666666666666666,
              "#ed7953"
             ],
             [
              0.7777777777777778,
              "#fb9f3a"
             ],
             [
              0.8888888888888888,
              "#fdca26"
             ],
             [
              1,
              "#f0f921"
             ]
            ],
            "type": "contour"
           }
          ],
          "contourcarpet": [
           {
            "colorbar": {
             "outlinewidth": 0,
             "ticks": ""
            },
            "type": "contourcarpet"
           }
          ],
          "heatmap": [
           {
            "colorbar": {
             "outlinewidth": 0,
             "ticks": ""
            },
            "colorscale": [
             [
              0,
              "#0d0887"
             ],
             [
              0.1111111111111111,
              "#46039f"
             ],
             [
              0.2222222222222222,
              "#7201a8"
             ],
             [
              0.3333333333333333,
              "#9c179e"
             ],
             [
              0.4444444444444444,
              "#bd3786"
             ],
             [
              0.5555555555555556,
              "#d8576b"
             ],
             [
              0.6666666666666666,
              "#ed7953"
             ],
             [
              0.7777777777777778,
              "#fb9f3a"
             ],
             [
              0.8888888888888888,
              "#fdca26"
             ],
             [
              1,
              "#f0f921"
             ]
            ],
            "type": "heatmap"
           }
          ],
          "histogram": [
           {
            "marker": {
             "pattern": {
              "fillmode": "overlay",
              "size": 10,
              "solidity": 0.2
             }
            },
            "type": "histogram"
           }
          ],
          "histogram2d": [
           {
            "colorbar": {
             "outlinewidth": 0,
             "ticks": ""
            },
            "colorscale": [
             [
              0,
              "#0d0887"
             ],
             [
              0.1111111111111111,
              "#46039f"
             ],
             [
              0.2222222222222222,
              "#7201a8"
             ],
             [
              0.3333333333333333,
              "#9c179e"
             ],
             [
              0.4444444444444444,
              "#bd3786"
             ],
             [
              0.5555555555555556,
              "#d8576b"
             ],
             [
              0.6666666666666666,
              "#ed7953"
             ],
             [
              0.7777777777777778,
              "#fb9f3a"
             ],
             [
              0.8888888888888888,
              "#fdca26"
             ],
             [
              1,
              "#f0f921"
             ]
            ],
            "type": "histogram2d"
           }
          ],
          "histogram2dcontour": [
           {
            "colorbar": {
             "outlinewidth": 0,
             "ticks": ""
            },
            "colorscale": [
             [
              0,
              "#0d0887"
             ],
             [
              0.1111111111111111,
              "#46039f"
             ],
             [
              0.2222222222222222,
              "#7201a8"
             ],
             [
              0.3333333333333333,
              "#9c179e"
             ],
             [
              0.4444444444444444,
              "#bd3786"
             ],
             [
              0.5555555555555556,
              "#d8576b"
             ],
             [
              0.6666666666666666,
              "#ed7953"
             ],
             [
              0.7777777777777778,
              "#fb9f3a"
             ],
             [
              0.8888888888888888,
              "#fdca26"
             ],
             [
              1,
              "#f0f921"
             ]
            ],
            "type": "histogram2dcontour"
           }
          ],
          "mesh3d": [
           {
            "colorbar": {
             "outlinewidth": 0,
             "ticks": ""
            },
            "type": "mesh3d"
           }
          ],
          "parcoords": [
           {
            "line": {
             "colorbar": {
              "outlinewidth": 0,
              "ticks": ""
             }
            },
            "type": "parcoords"
           }
          ],
          "pie": [
           {
            "automargin": true,
            "type": "pie"
           }
          ],
          "scatter": [
           {
            "fillpattern": {
             "fillmode": "overlay",
             "size": 10,
             "solidity": 0.2
            },
            "type": "scatter"
           }
          ],
          "scatter3d": [
           {
            "line": {
             "colorbar": {
              "outlinewidth": 0,
              "ticks": ""
             }
            },
            "marker": {
             "colorbar": {
              "outlinewidth": 0,
              "ticks": ""
             }
            },
            "type": "scatter3d"
           }
          ],
          "scattercarpet": [
           {
            "marker": {
             "colorbar": {
              "outlinewidth": 0,
              "ticks": ""
             }
            },
            "type": "scattercarpet"
           }
          ],
          "scattergeo": [
           {
            "marker": {
             "colorbar": {
              "outlinewidth": 0,
              "ticks": ""
             }
            },
            "type": "scattergeo"
           }
          ],
          "scattergl": [
           {
            "marker": {
             "colorbar": {
              "outlinewidth": 0,
              "ticks": ""
             }
            },
            "type": "scattergl"
           }
          ],
          "scattermap": [
           {
            "marker": {
             "colorbar": {
              "outlinewidth": 0,
              "ticks": ""
             }
            },
            "type": "scattermap"
           }
          ],
          "scattermapbox": [
           {
            "marker": {
             "colorbar": {
              "outlinewidth": 0,
              "ticks": ""
             }
            },
            "type": "scattermapbox"
           }
          ],
          "scatterpolar": [
           {
            "marker": {
             "colorbar": {
              "outlinewidth": 0,
              "ticks": ""
             }
            },
            "type": "scatterpolar"
           }
          ],
          "scatterpolargl": [
           {
            "marker": {
             "colorbar": {
              "outlinewidth": 0,
              "ticks": ""
             }
            },
            "type": "scatterpolargl"
           }
          ],
          "scatterternary": [
           {
            "marker": {
             "colorbar": {
              "outlinewidth": 0,
              "ticks": ""
             }
            },
            "type": "scatterternary"
           }
          ],
          "surface": [
           {
            "colorbar": {
             "outlinewidth": 0,
             "ticks": ""
            },
            "colorscale": [
             [
              0,
              "#0d0887"
             ],
             [
              0.1111111111111111,
              "#46039f"
             ],
             [
              0.2222222222222222,
              "#7201a8"
             ],
             [
              0.3333333333333333,
              "#9c179e"
             ],
             [
              0.4444444444444444,
              "#bd3786"
             ],
             [
              0.5555555555555556,
              "#d8576b"
             ],
             [
              0.6666666666666666,
              "#ed7953"
             ],
             [
              0.7777777777777778,
              "#fb9f3a"
             ],
             [
              0.8888888888888888,
              "#fdca26"
             ],
             [
              1,
              "#f0f921"
             ]
            ],
            "type": "surface"
           }
          ],
          "table": [
           {
            "cells": {
             "fill": {
              "color": "#EBF0F8"
             },
             "line": {
              "color": "white"
             }
            },
            "header": {
             "fill": {
              "color": "#C8D4E3"
             },
             "line": {
              "color": "white"
             }
            },
            "type": "table"
           }
          ]
         },
         "layout": {
          "annotationdefaults": {
           "arrowcolor": "#2a3f5f",
           "arrowhead": 0,
           "arrowwidth": 1
          },
          "autotypenumbers": "strict",
          "coloraxis": {
           "colorbar": {
            "outlinewidth": 0,
            "ticks": ""
           }
          },
          "colorscale": {
           "diverging": [
            [
             0,
             "#8e0152"
            ],
            [
             0.1,
             "#c51b7d"
            ],
            [
             0.2,
             "#de77ae"
            ],
            [
             0.3,
             "#f1b6da"
            ],
            [
             0.4,
             "#fde0ef"
            ],
            [
             0.5,
             "#f7f7f7"
            ],
            [
             0.6,
             "#e6f5d0"
            ],
            [
             0.7,
             "#b8e186"
            ],
            [
             0.8,
             "#7fbc41"
            ],
            [
             0.9,
             "#4d9221"
            ],
            [
             1,
             "#276419"
            ]
           ],
           "sequential": [
            [
             0,
             "#0d0887"
            ],
            [
             0.1111111111111111,
             "#46039f"
            ],
            [
             0.2222222222222222,
             "#7201a8"
            ],
            [
             0.3333333333333333,
             "#9c179e"
            ],
            [
             0.4444444444444444,
             "#bd3786"
            ],
            [
             0.5555555555555556,
             "#d8576b"
            ],
            [
             0.6666666666666666,
             "#ed7953"
            ],
            [
             0.7777777777777778,
             "#fb9f3a"
            ],
            [
             0.8888888888888888,
             "#fdca26"
            ],
            [
             1,
             "#f0f921"
            ]
           ],
           "sequentialminus": [
            [
             0,
             "#0d0887"
            ],
            [
             0.1111111111111111,
             "#46039f"
            ],
            [
             0.2222222222222222,
             "#7201a8"
            ],
            [
             0.3333333333333333,
             "#9c179e"
            ],
            [
             0.4444444444444444,
             "#bd3786"
            ],
            [
             0.5555555555555556,
             "#d8576b"
            ],
            [
             0.6666666666666666,
             "#ed7953"
            ],
            [
             0.7777777777777778,
             "#fb9f3a"
            ],
            [
             0.8888888888888888,
             "#fdca26"
            ],
            [
             1,
             "#f0f921"
            ]
           ]
          },
          "colorway": [
           "#636efa",
           "#EF553B",
           "#00cc96",
           "#ab63fa",
           "#FFA15A",
           "#19d3f3",
           "#FF6692",
           "#B6E880",
           "#FF97FF",
           "#FECB52"
          ],
          "font": {
           "color": "#2a3f5f"
          },
          "geo": {
           "bgcolor": "white",
           "lakecolor": "white",
           "landcolor": "#E5ECF6",
           "showlakes": true,
           "showland": true,
           "subunitcolor": "white"
          },
          "hoverlabel": {
           "align": "left"
          },
          "hovermode": "closest",
          "mapbox": {
           "style": "light"
          },
          "paper_bgcolor": "white",
          "plot_bgcolor": "#E5ECF6",
          "polar": {
           "angularaxis": {
            "gridcolor": "white",
            "linecolor": "white",
            "ticks": ""
           },
           "bgcolor": "#E5ECF6",
           "radialaxis": {
            "gridcolor": "white",
            "linecolor": "white",
            "ticks": ""
           }
          },
          "scene": {
           "xaxis": {
            "backgroundcolor": "#E5ECF6",
            "gridcolor": "white",
            "gridwidth": 2,
            "linecolor": "white",
            "showbackground": true,
            "ticks": "",
            "zerolinecolor": "white"
           },
           "yaxis": {
            "backgroundcolor": "#E5ECF6",
            "gridcolor": "white",
            "gridwidth": 2,
            "linecolor": "white",
            "showbackground": true,
            "ticks": "",
            "zerolinecolor": "white"
           },
           "zaxis": {
            "backgroundcolor": "#E5ECF6",
            "gridcolor": "white",
            "gridwidth": 2,
            "linecolor": "white",
            "showbackground": true,
            "ticks": "",
            "zerolinecolor": "white"
           }
          },
          "shapedefaults": {
           "line": {
            "color": "#2a3f5f"
           }
          },
          "ternary": {
           "aaxis": {
            "gridcolor": "white",
            "linecolor": "white",
            "ticks": ""
           },
           "baxis": {
            "gridcolor": "white",
            "linecolor": "white",
            "ticks": ""
           },
           "bgcolor": "#E5ECF6",
           "caxis": {
            "gridcolor": "white",
            "linecolor": "white",
            "ticks": ""
           }
          },
          "title": {
           "x": 0.05
          },
          "xaxis": {
           "automargin": true,
           "gridcolor": "white",
           "linecolor": "white",
           "ticks": "",
           "title": {
            "standoff": 15
           },
           "zerolinecolor": "white",
           "zerolinewidth": 2
          },
          "yaxis": {
           "automargin": true,
           "gridcolor": "white",
           "linecolor": "white",
           "ticks": "",
           "title": {
            "standoff": 15
           },
           "zerolinecolor": "white",
           "zerolinewidth": 2
          }
         }
        },
        "title": {
         "text": "3D Scatter Plot"
        }
       }
      },
      "image/png": "[encoded data removed]"
     },
     "metadata": {},
     "output_type": "display_data"
    }
   ],
   "source": [
    "# 13. Create a 3D scatter plot using Plotly.\n",
    "import plotly.express as px\n",
    "import pandas as pd\n",
    "data = {\n",
    "    'x': [1, 2, 3, 4, 5],\n",
    "    'y': [10, 20, 30, 40, 50],\n",
    "    'z': [5, 15, 25, 35, 45]}\n",
    "df = pd.DataFrame(data)\n",
    "\n",
    "fig = px.scatter_3d(df, x='x', y='y', z='z',\n",
    "                    title=\"3D Scatter Plot\",\n",
    "                    color='z', size='z')\n",
    "fig.show()"
   ]
  },
  {
   "cell_type": "code",
   "execution_count": null,
   "id": "16429d22-a5d2-469d-bbab-2b7008b2b92d",
   "metadata": {},
   "outputs": [],
   "source": []
  }
 ],
 "metadata": {
  "kernelspec": {
   "display_name": "Python 3 (ipykernel)",
   "language": "python",
   "name": "python3"
  },
  "language_info": {
   "codemirror_mode": {
    "name": "ipython",
    "version": 3
   },
   "file_extension": ".py",
   "mimetype": "text/x-python",
   "name": "python",
   "nbconvert_exporter": "python",
   "pygments_lexer": "ipython3",
   "version": "3.13.5"
  }
 },
 "nbformat": 4,
 "nbformat_minor": 5
}
