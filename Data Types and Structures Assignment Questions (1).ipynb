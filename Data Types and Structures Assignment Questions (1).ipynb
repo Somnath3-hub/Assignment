{
 "cells": [
  {
   "cell_type": "markdown",
   "id": "738ca129-8a3f-45cc-9753-8b936eaef899",
   "metadata": {},
   "source": [
    "# Data Types and Structures Questions"
   ]
  },
  {
   "cell_type": "raw",
   "id": "202cdabe-c9b3-437c-823e-de20f97c6837",
   "metadata": {},
   "source": [
    "1. What are data structures, and why are they important?\n",
    "-> data structures are specialized formats for organizing, storing, and accessing collections of data. They are important becausethey make programs faster, simplify data handling, improve searching, and save memory."
   ]
  },
  {
   "cell_type": "raw",
   "id": "0ce38ba4-7d93-4461-b35b-624353618e9e",
   "metadata": {},
   "source": [
    "2. Explain the difference between mutable and immutable data types with examples.\n",
    "-> Mutable>>can be changed after creation.ex. lists, sets, dictionary\n",
    "    immutable>> cannot be changed after creation.ex.tuple, string"
   ]
  },
  {
   "cell_type": "code",
   "execution_count": 8,
   "id": "af184c8f-0fb2-45bc-9f6c-89a2794751ab",
   "metadata": {},
   "outputs": [
    {
     "name": "stdout",
     "output_type": "stream",
     "text": [
      "[10, 2, 3, 4]\n"
     ]
    }
   ],
   "source": [
    "# mutable example\n",
    "list1 = [1, 2, 3, 4]\n",
    "list1[0] = 10\n",
    "print(list1)"
   ]
  },
  {
   "cell_type": "code",
   "execution_count": 10,
   "id": "cc2d9a0d-8e22-4d14-bdf1-0e29c5ddfb23",
   "metadata": {},
   "outputs": [
    {
     "ename": "TypeError",
     "evalue": "'type' object does not support item assignment",
     "output_type": "error",
     "traceback": [
      "\u001b[31m---------------------------------------------------------------------------\u001b[39m",
      "\u001b[31mTypeError\u001b[39m                                 Traceback (most recent call last)",
      "\u001b[36mCell\u001b[39m\u001b[36m \u001b[39m\u001b[32mIn[10]\u001b[39m\u001b[32m, line 3\u001b[39m\n\u001b[32m      1\u001b[39m \u001b[38;5;66;03m# immutable example\u001b[39;00m\n\u001b[32m      2\u001b[39m tuple1 = (\u001b[32m1\u001b[39m, \u001b[32m2\u001b[39m, \u001b[32m3\u001b[39m, \u001b[32m4\u001b[39m)\n\u001b[32m----> \u001b[39m\u001b[32m3\u001b[39m \u001b[38;5;28;43mtuple\u001b[39;49m\u001b[43m[\u001b[49m\u001b[32;43m0\u001b[39;49m\u001b[43m]\u001b[49m = \u001b[32m10\u001b[39m\n\u001b[32m      4\u001b[39m \u001b[38;5;28mprint\u001b[39m(\u001b[38;5;28mlist\u001b[39m)\n",
      "\u001b[31mTypeError\u001b[39m: 'type' object does not support item assignment"
     ]
    }
   ],
   "source": [
    "# immutable example\n",
    "tuple1 = (1, 2, 3, 4)\n",
    "tuple[0] = 10\n",
    "print(list)"
   ]
  },
  {
   "cell_type": "raw",
   "id": "be263746-0227-4468-86a2-233fb6454e0e",
   "metadata": {},
   "source": [
    "3. What are the main differences between lists and tuples in Python?\n",
    "-> lists are mutable,so their elements can be changed, added, or removed after creation.\n",
    "    tuples are immutable, so once created their values cannot be modified.\n",
    "    list use square brackets [] while tuples use round brackets (). list are slightly slower but flexible, whereas tuples are faster and used for fixed data."
   ]
  },
  {
   "cell_type": "raw",
   "id": "5eb3e4d5-2fbd-4aa1-b842-6f49b4e47cc7",
   "metadata": {},
   "source": [
    "4. Describe how dictionaries store data.\n",
    "-> dictionaries store data in key and value pairs. each key is linked to one value. the key helps to find value easily. this make searchimng faster compared to lists."
   ]
  },
  {
   "cell_type": "raw",
   "id": "3d257190-d323-4297-b553-a8ca5a3ee430",
   "metadata": {},
   "source": [
    "5. Why might you use a set instead of a list in Python?\n",
    "-> we used a set when we want to store unique values, because a set does not allow duplicates. sets are also faster than lists for checking if an item is present."
   ]
  },
  {
   "cell_type": "raw",
   "id": "2c29cd8f-a281-4d94-94d5-4ac89824f810",
   "metadata": {},
   "source": [
    "6. What is a string in Python, and how is it different from a list?\n",
    "-> A string is a sequence of characters and is immutable. \n",
    "   A list is a sequence of elements and is mutable. "
   ]
  },
  {
   "cell_type": "raw",
   "id": "5b8ec051-364a-4269-895c-1097af261164",
   "metadata": {},
   "source": [
    "7. How do tuples ensure data integrity in Python?\n",
    "-> Tuples are immutable, so once data is stored, it cannot be modified. This ensures the data remains safe and unchanged. "
   ]
  },
  {
   "cell_type": "raw",
   "id": "ae11df3e-a869-412e-9c63-0b6ce7fc3699",
   "metadata": {},
   "source": [
    "8. What is a hash table, and how does it relate to dictionaries in Python?\n",
    "-> A hash table is a structure that stores data as key–value pairs using a hashing function. Python dictionaries are implemented using hash tables. "
   ]
  },
  {
   "cell_type": "raw",
   "id": "73e59065-76b1-4516-bfa5-6e8c66546c58",
   "metadata": {},
   "source": [
    "9. Can lists contain different data types in Python?\n",
    "-> Yes. A list can store different data types together. Example: [1, \"ram\", 2.5, True] "
   ]
  },
  {
   "cell_type": "raw",
   "id": "9fe75231-cbc6-4a96-96f7-aed6d46a48a8",
   "metadata": {},
   "source": [
    "10. Explain why strings are immutable in Python.\n",
    "->  Strings are immutable for reasons of security, memory efficiency, and so that they can be used as keys in dictionaries. "
   ]
  },
  {
   "cell_type": "raw",
   "id": "e1b365b9-28ea-45b3-9c6e-23f73e48565c",
   "metadata": {},
   "source": [
    "11. What advantages do dictionaries offer over lists for certain tasks?\n",
    "->  Dictionaries allow fast lookup by keys. \n",
    "    Lists require scanning each element to find a value. "
   ]
  },
  {
   "cell_type": "raw",
   "id": "d7282424-edc5-41b9-a868-0072ae2f9153",
   "metadata": {},
   "source": [
    "12. Describe a scenario where using a tuple would be preferable over a list.\n",
    "->  Sets automatically remove duplicate values and store only unique items. "
   ]
  },
  {
   "cell_type": "raw",
   "id": "4ca85208-f02f-4fc8-b2ec-54daf4693af5",
   "metadata": {},
   "source": [
    "13. How do sets handle duplicate values in Python?\n",
    "->  When data should not change, such as storing coordinates (x, y) or fixed settings. "
   ]
  },
  {
   "cell_type": "raw",
   "id": "9d31307d-dc02-49b2-8df7-241b6fa11140",
   "metadata": {},
   "source": [
    "14. How does the “in” keyword work differently for lists and dictionaries?\n",
    "->  For a list, 'in' checks whether a value exists. \n",
    "    For a dictionary, 'in' checks for the presence of a key. "
   ]
  },
  {
   "cell_type": "raw",
   "id": "5d1e0521-50fc-4d36-91d5-1d68e9e550ba",
   "metadata": {},
   "source": [
    "15. Can you modify the elements of a tuple? Explain why or why not.\n",
    "->  No. Tuples are immutable, so their elements cannot be changed once created. "
   ]
  },
  {
   "cell_type": "raw",
   "id": "e89fdbbe-2010-421a-8254-ba61e85861f2",
   "metadata": {},
   "source": [
    "16. What is a nested dictionary, and give an example of its use case?\n",
    "->  A dictionary inside another dictionary is called a nested dictionary. "
   ]
  },
  {
   "cell_type": "code",
   "execution_count": 6,
   "id": "bdb39650-74ee-43de-bf88-bce7fa22a04f",
   "metadata": {},
   "outputs": [
    {
     "name": "stdout",
     "output_type": "stream",
     "text": [
      "{1: {'name': 'Sam', 'age': 25}, 2: {'name': 'durga', 'age': 24}}\n",
      "Sam\n",
      "24\n"
     ]
    }
   ],
   "source": [
    "# Example\n",
    "student = { 1: {\"name\": \"Sam\", \"age\": 25}, 2: {\"name\": \"durga\", \"age\": 24}}\n",
    "print(student)\n",
    "print(student[1][\"name\"])\n",
    "print(student[2][\"age\"])"
   ]
  },
  {
   "cell_type": "raw",
   "id": "bbba6739-706c-4797-9f2e-6f41d46855ed",
   "metadata": {},
   "source": [
    "17. Describe the time complexity of accessing elements in a dictionary.\n",
    "->  in python accessing elements in a dictionary is O(1) on avarage, because dictioaries use hashing.\n",
    "    in rare cases, it take O(n), but normally it is considered constant time."
   ]
  },
  {
   "cell_type": "raw",
   "id": "71e280e9-5b8e-421f-8d20-389d59ca5d04",
   "metadata": {},
   "source": [
    "18. In what situations are lists preferred over dictionaries?\n",
    "-> When the order of elements matters. \n",
    "   When data does not need key–value pairs. "
   ]
  },
  {
   "cell_type": "raw",
   "id": "bf91b341-ee1a-4b9f-883d-bbea0c6d2ea1",
   "metadata": {},
   "source": [
    "19. Why are dictionaries considered unordered, and how does that affect data retrieval?\n",
    "->  Dictionaries are considered unordered because items are stored by hashing their keys, not by index."
   ]
  },
  {
   "cell_type": "raw",
   "id": "f0d5efd4-c775-49ef-8933-c222811d7161",
   "metadata": {},
   "source": [
    "20. Explain the difference between a list and a dictionary in terms of data retrieval.\n",
    "-> In a list, data is accessed using an index numbers. \n",
    "   In a dictionary, Data is accessed using a key."
   ]
  },
  {
   "cell_type": "markdown",
   "id": "1c38b829-b776-46b9-8aee-2dd7d2768edd",
   "metadata": {},
   "source": [
    "#  Practical Questions"
   ]
  },
  {
   "cell_type": "code",
   "execution_count": 7,
   "id": "180de9be-4e65-4071-b330-e10190923f0f",
   "metadata": {},
   "outputs": [
    {
     "name": "stdout",
     "output_type": "stream",
     "text": [
      "somnath\n"
     ]
    }
   ],
   "source": [
    "# 1. Write a code to create a string with your name and print it.\n",
    "name = \"somnath\"\n",
    "print(name)"
   ]
  },
  {
   "cell_type": "code",
   "execution_count": 8,
   "id": "15dc0730-ce46-47d6-9672-eb4905049ca5",
   "metadata": {},
   "outputs": [
    {
     "name": "stdout",
     "output_type": "stream",
     "text": [
      "11\n"
     ]
    }
   ],
   "source": [
    "# 2. Write a code to find the length of the string \"Hello World\".\n",
    "a = \"Hello World\"\n",
    "print(len(a))"
   ]
  },
  {
   "cell_type": "code",
   "execution_count": 9,
   "id": "67243eaa-e2fc-44a6-84fe-dd56b8d6d69c",
   "metadata": {},
   "outputs": [
    {
     "name": "stdout",
     "output_type": "stream",
     "text": [
      "Pyt\n"
     ]
    }
   ],
   "source": [
    "# 3. Write a code to slice the first 3 characters from the string \"Python Programming\". \n",
    "s = \"Python Programming\"\n",
    "print(s[:3])"
   ]
  },
  {
   "cell_type": "code",
   "execution_count": 10,
   "id": "17537a71-0e0a-4273-9bfa-f2af39deac34",
   "metadata": {},
   "outputs": [
    {
     "name": "stdout",
     "output_type": "stream",
     "text": [
      "HELLO\n"
     ]
    }
   ],
   "source": [
    "# 4. Write a code to convert the string \"hello\" to uppercase.\n",
    "s = \"hello\"\n",
    "print(s.upper())"
   ]
  },
  {
   "cell_type": "code",
   "execution_count": 11,
   "id": "a6f54974-51fb-4272-8728-cbaf9fe28b43",
   "metadata": {},
   "outputs": [
    {
     "name": "stdout",
     "output_type": "stream",
     "text": [
      "I like orange\n"
     ]
    }
   ],
   "source": [
    "# 5. Write a code to replace the word \"apple\" with \"orange\" in the string \"I like apple\".\n",
    "f = \"I like apple\"\n",
    "print(f.replace(\"apple\", \"orange\"))"
   ]
  },
  {
   "cell_type": "code",
   "execution_count": 12,
   "id": "4e91221f-81c9-40ca-83d5-6507fef5303c",
   "metadata": {},
   "outputs": [
    {
     "name": "stdout",
     "output_type": "stream",
     "text": [
      "[1, 2, 3, 4, 5]\n"
     ]
    }
   ],
   "source": [
    "# 6. Write a code to create a list with numbers 1 to 5 and print it.\n",
    "numbers = [1, 2, 3, 4, 5]\n",
    "print(numbers)"
   ]
  },
  {
   "cell_type": "code",
   "execution_count": 13,
   "id": "da6c3e93-3dcc-4a55-934a-c8c07304a145",
   "metadata": {},
   "outputs": [
    {
     "name": "stdout",
     "output_type": "stream",
     "text": [
      "[1, 2, 3, 4, 10]\n"
     ]
    }
   ],
   "source": [
    "# 7. Write a code to append the number 10 to the list [1, 2, 3, 4].\n",
    "lst = [1, 2, 3, 4]\n",
    "lst.append(10)\n",
    "print(lst)"
   ]
  },
  {
   "cell_type": "code",
   "execution_count": 14,
   "id": "b7f5bd07-aed3-4d6f-a4a9-18a0d012b852",
   "metadata": {},
   "outputs": [
    {
     "name": "stdout",
     "output_type": "stream",
     "text": [
      "[1, 2, 4, 5]\n"
     ]
    }
   ],
   "source": [
    "# 8.Write a code to remove the number 3 from the list [1, 2, 3, 4, 5].\n",
    "lst = [1, 2, 3, 4, 5]\n",
    "lst.remove(3)\n",
    "print(lst)"
   ]
  },
  {
   "cell_type": "code",
   "execution_count": 16,
   "id": "838b9dd6-98a6-454a-a9aa-6decc03cac57",
   "metadata": {},
   "outputs": [
    {
     "name": "stdout",
     "output_type": "stream",
     "text": [
      "b\n"
     ]
    }
   ],
   "source": [
    "# 9. Write a code to access the second element in the list ['a', 'b', 'c', 'd'].\n",
    "l = ['a', 'b', 'c', 'd']\n",
    "print(l[1])"
   ]
  },
  {
   "cell_type": "code",
   "execution_count": 17,
   "id": "44da4f5f-3507-4c10-9cee-bc289c5bd213",
   "metadata": {},
   "outputs": [
    {
     "name": "stdout",
     "output_type": "stream",
     "text": [
      "[50, 40, 30, 20, 10]\n"
     ]
    }
   ],
   "source": [
    "# 10. Write a code to reverse the list [10, 20, 30, 40, 50].\n",
    "num = [10, 20, 30, 40, 50]\n",
    "num.reverse()\n",
    "print(num)"
   ]
  },
  {
   "cell_type": "code",
   "execution_count": 18,
   "id": "3dd923e4-cdd3-4c70-a841-f3242bc95a43",
   "metadata": {},
   "outputs": [
    {
     "name": "stdout",
     "output_type": "stream",
     "text": [
      "(100, 200, 300)\n"
     ]
    }
   ],
   "source": [
    "# 11. Write a code to create a tuple with the elements 100, 200, 300 and print it.\n",
    "tuple1 = (100, 200, 300)\n",
    "print(tuple1)"
   ]
  },
  {
   "cell_type": "code",
   "execution_count": 19,
   "id": "6c1afdc4-a3d3-48e5-9939-0a5159753035",
   "metadata": {},
   "outputs": [
    {
     "name": "stdout",
     "output_type": "stream",
     "text": [
      "blue\n"
     ]
    }
   ],
   "source": [
    "# 12. Write a code to access the second-to-last element of the tuple ('red', 'green', 'blue', 'yellow').\n",
    "t2 = ('red', 'green', 'blue', 'yellow')\n",
    "print(t2[-2])"
   ]
  },
  {
   "cell_type": "code",
   "execution_count": 21,
   "id": "6a8b00bf-f36c-472d-ab5b-42dac2f31063",
   "metadata": {},
   "outputs": [
    {
     "name": "stdout",
     "output_type": "stream",
     "text": [
      "5\n"
     ]
    }
   ],
   "source": [
    "# 13. Write a code to find the minimum number in the tuple (10, 20, 5, 15).\n",
    "num = (10, 20, 5, 15)\n",
    "print(min(num))"
   ]
  },
  {
   "cell_type": "code",
   "execution_count": 22,
   "id": "758cab38-5095-4bd5-8ae5-41a7338dbb49",
   "metadata": {},
   "outputs": [
    {
     "name": "stdout",
     "output_type": "stream",
     "text": [
      "1\n"
     ]
    }
   ],
   "source": [
    "# 14. Write a code to find the index of the element \"cat\" in the tuple ('dog', 'cat', 'rabbit').\n",
    "a = ('dog', 'cat', 'rabbit')\n",
    "print(a.index(\"cat\"))"
   ]
  },
  {
   "cell_type": "code",
   "execution_count": 23,
   "id": "64aa37c7-899c-43ef-b3a4-fc0f17adbbbe",
   "metadata": {},
   "outputs": [
    {
     "name": "stdout",
     "output_type": "stream",
     "text": [
      "False\n"
     ]
    }
   ],
   "source": [
    "# 15. Write a code to create a tuple containing three different fruits and check if \"kiwi\" is in it.\n",
    "fruits = (\"apple\", \"banana\", \"mango\")\n",
    "print(\"kiwi\" in fruits)"
   ]
  },
  {
   "cell_type": "code",
   "execution_count": 24,
   "id": "475168ea-746d-4e8f-98ce-00af52d25d2a",
   "metadata": {},
   "outputs": [
    {
     "name": "stdout",
     "output_type": "stream",
     "text": [
      "{'b', 'c', 'a'}\n"
     ]
    }
   ],
   "source": [
    "# 16. Write a code to create a set with the elements 'a', 'b', 'c' and print it.\n",
    "s = {'a', 'b', 'c'}\n",
    "print(s)"
   ]
  },
  {
   "cell_type": "code",
   "execution_count": 25,
   "id": "0508a2ee-0f6c-4acb-9809-727cfbf6e8bd",
   "metadata": {},
   "outputs": [
    {
     "name": "stdout",
     "output_type": "stream",
     "text": [
      "set()\n"
     ]
    }
   ],
   "source": [
    "# 17. Write a code to clear all elements from the set {1, 2, 3, 4, 5}.\n",
    "s1 = {1, 2, 3, 4, 5}\n",
    "s1.clear()\n",
    "print(s1)"
   ]
  },
  {
   "cell_type": "code",
   "execution_count": 26,
   "id": "0fab054a-8e90-4375-8054-3366f5b7c05f",
   "metadata": {},
   "outputs": [
    {
     "name": "stdout",
     "output_type": "stream",
     "text": [
      "{1, 2, 3}\n"
     ]
    }
   ],
   "source": [
    "# 18. Write a code to remove the element 4 from the set {1, 2, 3, 4}.\n",
    "s2 = {1, 2, 3, 4}\n",
    "s2.remove(4)\n",
    "print(s2)"
   ]
  },
  {
   "cell_type": "code",
   "execution_count": 27,
   "id": "c4a200ab-ed76-4a15-b88d-59a7234193e0",
   "metadata": {},
   "outputs": [
    {
     "name": "stdout",
     "output_type": "stream",
     "text": [
      "{1, 2, 3, 4, 5}\n"
     ]
    }
   ],
   "source": [
    "# 19. Write a code to find the union of two sets {1, 2, 3} and {3, 4, 5}.\n",
    "a = {1, 2, 3}\n",
    "b = {3, 4, 5}\n",
    "print(a.union(b))"
   ]
  },
  {
   "cell_type": "code",
   "execution_count": 28,
   "id": "d549fff8-a95f-4d1a-b1cb-041bb6f2ae7b",
   "metadata": {},
   "outputs": [
    {
     "name": "stdout",
     "output_type": "stream",
     "text": [
      "{2, 3}\n"
     ]
    }
   ],
   "source": [
    "# 20. Write a code to find the intersection of two sets {1, 2, 3} and {2, 3, 4}.\n",
    "c = {1, 2, 3}\n",
    "d = {2, 3, 4}\n",
    "print(c.intersection(d))"
   ]
  },
  {
   "cell_type": "code",
   "execution_count": 30,
   "id": "421f8a95-d2e1-4fd8-955c-1a5a8743cef5",
   "metadata": {},
   "outputs": [
    {
     "name": "stdout",
     "output_type": "stream",
     "text": [
      "{'name': 'somnath', 'age': 25, 'city': 'pune'}\n"
     ]
    }
   ],
   "source": [
    "# 21. Write a code to create a dictionary with the keys \"name\", \"age\", and \"city\", and print it.\n",
    "s = {\"name\": 'somnath', \"age\": 25, \"city\": 'pune'}\n",
    "print(s)"
   ]
  },
  {
   "cell_type": "code",
   "execution_count": 37,
   "id": "69aec286-0e9c-4599-927e-3b2c28e944c7",
   "metadata": {},
   "outputs": [
    {
     "name": "stdout",
     "output_type": "stream",
     "text": [
      "{'name': 'John', 'age': 25, 'country': 'USA'}\n"
     ]
    }
   ],
   "source": [
    "# 22. Write a code to add a new key-value pair \"country\": \"USA\" to the dictionary {'name': 'John', 'age': 25}.\n",
    "p = {'name': 'John', 'age': 25}\n",
    "p[\"country\"] = \"USA\"\n",
    "print(p)"
   ]
  },
  {
   "cell_type": "code",
   "execution_count": 36,
   "id": "ed853bc4-58f9-4978-9986-fd773b8f4efb",
   "metadata": {},
   "outputs": [
    {
     "name": "stdout",
     "output_type": "stream",
     "text": [
      "Alice\n"
     ]
    }
   ],
   "source": [
    "# 23. Write a code to access the value associated with the key \"name\" in the dictionary {'name': 'Alice', 'age': 30}.\n",
    "r = {'name': 'Alice', 'age': 30}\n",
    "print(r[\"name\"])"
   ]
  },
  {
   "cell_type": "code",
   "execution_count": 38,
   "id": "5b7d25cc-b212-4491-a631-400a9804f78e",
   "metadata": {},
   "outputs": [
    {
     "name": "stdout",
     "output_type": "stream",
     "text": [
      "{'name': 'Bob', 'city': 'New York'}\n"
     ]
    }
   ],
   "source": [
    "# 24. Write a code to remove the key \"age\" from the dictionary {'name': 'Bob', 'age': 22, 'city': 'New York'}.\n",
    "x = {'name': 'Bob', 'age': 22, 'city': 'New York'}\n",
    "x.pop(\"age\")\n",
    "print(x)"
   ]
  },
  {
   "cell_type": "code",
   "execution_count": 39,
   "id": "ffbc3cfb-1e35-476b-8e2a-a91fca42b84f",
   "metadata": {},
   "outputs": [
    {
     "name": "stdout",
     "output_type": "stream",
     "text": [
      "True\n"
     ]
    }
   ],
   "source": [
    "# 25. Write a code to check if the key \"city\" exists in the dictionary {'name': 'Alice', 'city': 'Paris'}.\n",
    "c2 = {'name': 'Alice', 'city': 'Paris'}\n",
    "print(\"city\" in c2)"
   ]
  },
  {
   "cell_type": "code",
   "execution_count": 40,
   "id": "a33a90d5-ca43-469f-9b15-9676ceedd89c",
   "metadata": {},
   "outputs": [
    {
     "name": "stdout",
     "output_type": "stream",
     "text": [
      "[10, 20, 30, 40, 50] ('a', 'b', 'c') {'mom', 'dad', 'brother'}\n"
     ]
    }
   ],
   "source": [
    "# 26.Write a code to create a list, a tuple, and a dictionary, and print them all.\n",
    "lst = [10, 20, 30, 40, 50]\n",
    "tpl = (\"a\", \"b\", \"c\")\n",
    "dic = {\"mom\", \"dad\",\"brother\"}\n",
    "print(lst, tpl, dic)"
   ]
  },
  {
   "cell_type": "code",
   "execution_count": 42,
   "id": "575d7861-2acd-4759-8bbe-ce6e2da19ad2",
   "metadata": {},
   "outputs": [
    {
     "name": "stdout",
     "output_type": "stream",
     "text": [
      "[19, 28, 39, 42, 91]\n"
     ]
    }
   ],
   "source": [
    "# 27. Write a code to create a list of 5 random numbers between 1 and 100, sort it in ascending order, and print the result.(replaced).\n",
    "import random\n",
    "rand_list = random.sample(range(1, 101), 5)\n",
    "rand_list.sort()\n",
    "print(rand_list)"
   ]
  },
  {
   "cell_type": "code",
   "execution_count": 43,
   "id": "defc8d7a-5dfd-43c2-b596-4e41c33dfde4",
   "metadata": {},
   "outputs": [
    {
     "name": "stdout",
     "output_type": "stream",
     "text": [
      "[17, 28, 43, 45, 100]\n"
     ]
    }
   ],
   "source": [
    "import random\n",
    "rand_list = random.sample(range(1, 101), 5)\n",
    "rand_list.sort()\n",
    "print(rand_list)"
   ]
  },
  {
   "cell_type": "code",
   "execution_count": 44,
   "id": "d84acb6a-b7af-4290-a0ff-acbce9af6d91",
   "metadata": {},
   "outputs": [
    {
     "name": "stdout",
     "output_type": "stream",
     "text": [
      "mango\n"
     ]
    }
   ],
   "source": [
    "# 28. Write a code to create a list with strings and print the element at the third index.\n",
    "lst = [\"apple\", \"cake\", \"juice\", \"mango\", \"tea\"]\n",
    "print(lst[3])"
   ]
  },
  {
   "cell_type": "code",
   "execution_count": 45,
   "id": "af4ba1a6-47c6-4427-b3c8-14a20b65eb81",
   "metadata": {},
   "outputs": [
    {
     "name": "stdout",
     "output_type": "stream",
     "text": [
      "{'dad': 50, 'mom': 49, 'broter': 27, 'sister': 23}\n"
     ]
    }
   ],
   "source": [
    "# 29. Write a code to combine two dictionaries into one and print the result.\n",
    "dict1 = {\"dad\": 50, \"mom\": 49}\n",
    "dict2 = {\"broter\": 27, \"sister\": 23}\n",
    "combined = {**dict1, **dict2}\n",
    "print(combined)"
   ]
  },
  {
   "cell_type": "code",
   "execution_count": 46,
   "id": "04741d1b-e66d-4616-b07e-32b001f637a9",
   "metadata": {},
   "outputs": [
    {
     "name": "stdout",
     "output_type": "stream",
     "text": [
      "{'apple', 'kiwi', 'mango', 'banana'}\n"
     ]
    }
   ],
   "source": [
    "# 30. Write a code to convert a list of strings into a set.\n",
    "s = [\"apple\", \"banana\", \"kiwi\", \"banana\", \"mango\", \"mango\"]\n",
    "print(set(s))"
   ]
  }
 ],
 "metadata": {
  "kernelspec": {
   "display_name": "Python 3 (ipykernel)",
   "language": "python",
   "name": "python3"
  },
  "language_info": {
   "codemirror_mode": {
    "name": "ipython",
    "version": 3
   },
   "file_extension": ".py",
   "mimetype": "text/x-python",
   "name": "python",
   "nbconvert_exporter": "python",
   "pygments_lexer": "ipython3",
   "version": "3.13.5"
  }
 },
 "nbformat": 4,
 "nbformat_minor": 5
}
