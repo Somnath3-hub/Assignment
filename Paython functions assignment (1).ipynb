{
 "cells": [
  {
   "cell_type": "markdown",
   "id": "3a394723-135f-4d37-98e8-2cf8a466f340",
   "metadata": {},
   "source": [
    "# Functions Theory Questions"
   ]
  },
  {
   "cell_type": "markdown",
   "id": "235d02a0-35be-4d29-863f-16074d6cc833",
   "metadata": {},
   "source": [
    "1. What is the difference between a function and a method in Python?\n",
    "\n",
    "-> A function is a block of code that works on its own and can be called directly. \n",
    "A method is also a function but it always belongs to an object. \n",
    "So, a function is independent, but a method is tied with an object."
   ]
  },
  {
   "cell_type": "code",
   "execution_count": 4,
   "id": "fcfb46c5-f3d7-4f03-a912-2e56084c1ad2",
   "metadata": {},
   "outputs": [
    {
     "name": "stdout",
     "output_type": "stream",
     "text": [
      "Hello World\n"
     ]
    }
   ],
   "source": [
    "# Function Example\n",
    "def greet(): \n",
    "    return 'Hello World' \n",
    " \n",
    "print(greet())"
   ]
  },
  {
   "cell_type": "code",
   "execution_count": 5,
   "id": "ac74db0b-9105-43bf-8d6b-c4a74a173d47",
   "metadata": {},
   "outputs": [
    {
     "name": "stdout",
     "output_type": "stream",
     "text": [
      "Hi, I am a student\n"
     ]
    }
   ],
   "source": [
    "# Method Example\n",
    "class Student: \n",
    "    def say_hi(self): \n",
    "        return 'Hi, I am a student' \n",
    " \n",
    "obj = Student() \n",
    "print(obj.say_hi())"
   ]
  },
  {
   "cell_type": "markdown",
   "id": "29bb175d-f1dc-40a2-b6dc-abe653228449",
   "metadata": {},
   "source": [
    "1. Explain the concept of function arguments and parameters in Python.\n",
    "\n",
    "-> When we define a function, the variables inside it are called parameters.When we call the function and give actual values, those values are arguments."
   ]
  },
  {
   "cell_type": "code",
   "execution_count": 6,
   "id": "e6dfc3c1-1640-4d88-b544-927eebe0d9d8",
   "metadata": {},
   "outputs": [
    {
     "name": "stdout",
     "output_type": "stream",
     "text": [
      "16\n"
     ]
    }
   ],
   "source": [
    "# Example\n",
    "def add(a, b): \n",
    "    return a + b \n",
    " \n",
    "print(add(9, 7))"
   ]
  },
  {
   "cell_type": "markdown",
   "id": "cfee2cbf-d9c9-47ca-a299-077e9b39c40d",
   "metadata": {},
   "source": [
    "3. What are the different ways to define and call a function in Python?\n",
    "\n",
    "->There are mainly three ways to make a function in Python. The first is the normal function, which we write using the def keyword. The second is a function with default arguments, where if we don’t give a value, Python will use the default value. The third is a lambda function, which is a small function written in one line without a name.\n",
    "To call a function, we write its name and give values inside round brackets. "
   ]
  },
  {
   "cell_type": "code",
   "execution_count": 7,
   "id": "e2473280-967f-43bf-9717-2aaa6c9dc839",
   "metadata": {},
   "outputs": [
    {
     "name": "stdout",
     "output_type": "stream",
     "text": [
      "25\n"
     ]
    }
   ],
   "source": [
    "# Example Normal Function \n",
    "def square(a): \n",
    "    return a * a \n",
    "print(square(5))"
   ]
  },
  {
   "cell_type": "code",
   "execution_count": 9,
   "id": "c4acad60-3911-4944-b946-1ee0076a0de4",
   "metadata": {},
   "outputs": [
    {
     "name": "stdout",
     "output_type": "stream",
     "text": [
      "Hello Somnath\n"
     ]
    }
   ],
   "source": [
    "# example function with default argument \n",
    "def greet(name='Somnath'): \n",
    "    return 'Hello ' + name \n",
    "print(greet())"
   ]
  },
  {
   "cell_type": "code",
   "execution_count": 10,
   "id": "f761b80c-36fa-4aa1-9bb9-0cd344241e91",
   "metadata": {},
   "outputs": [
    {
     "name": "stdout",
     "output_type": "stream",
     "text": [
      "12\n"
     ]
    }
   ],
   "source": [
    "# example lambda function \n",
    "f = lambda b: b+7 \n",
    "print(f(5))"
   ]
  },
  {
   "cell_type": "markdown",
   "id": "c2808b22-ac7b-4031-b735-cb5ab6c7d048",
   "metadata": {},
   "source": [
    "4. What is the purpose of the `return` statement in a Python function?\n",
    "\n",
    "-> The return statement is used inside a function to send back the result. If we don’t write return, the function will finish its work but will give None. When we use return, the output can be stored in a variable or can be used in other calculations. This makes the function more useful because we can use the result again."
   ]
  },
  {
   "cell_type": "markdown",
   "id": "64f1f469-4b67-440e-b7bc-5644ee4eba04",
   "metadata": {},
   "source": [
    "# example\n",
    "def multiply(a, b): \n",
    "    return a * b \n",
    " \n",
    "result = multiply(3, 7) \n",
    "print(result)"
   ]
  },
  {
   "cell_type": "markdown",
   "id": "43dbeb27-fd96-449b-baf4-2620d8dacbc1",
   "metadata": {},
   "source": [
    "5. What are iterators in Python and how do they differ from iterables?\n",
    "\n",
    "-> An iterable is something we can loop through, like a list, tuple, dictionary, or string. An iterator is an object that helps us take elements from an iterable one by one. With an iterator, we use the next() function to get the next element. The main difference is that an iterable is just a collection, while an iterator is used to fetch items from that collection step by step."
   ]
  },
  {
   "cell_type": "code",
   "execution_count": 15,
   "id": "c03f7160-2037-484d-b86e-1a40ba769251",
   "metadata": {},
   "outputs": [
    {
     "name": "stdout",
     "output_type": "stream",
     "text": [
      "1\n"
     ]
    }
   ],
   "source": [
    "# example\n",
    "nums = [1, 2, 3] \n",
    " \n",
    "it = iter(nums) \n",
    "print(next(it))"
   ]
  },
  {
   "cell_type": "code",
   "execution_count": 16,
   "id": "6eaed9b0-5355-43db-be04-854d8fc6599e",
   "metadata": {},
   "outputs": [
    {
     "name": "stdout",
     "output_type": "stream",
     "text": [
      "2\n"
     ]
    }
   ],
   "source": [
    " print(next(it))"
   ]
  },
  {
   "cell_type": "markdown",
   "id": "d78472f2-23b6-476d-b5b4-dd93a4d767c6",
   "metadata": {},
   "source": [
    "6. Explain the concept of generators in Python and how they are defined.\n",
    "\n",
    "-> A generator is a special type of function in Python that gives results one at a time instead of all together. It uses the yield keyword instead of return. When the generator is called again, it remembers where it stopped and continues from that point. This makes generators very useful when we want to handle large data but do not want to use too much memory."
   ]
  },
  {
   "cell_type": "code",
   "execution_count": 17,
   "id": "a75919a7-2c6b-4aac-b8f3-dc0726891091",
   "metadata": {},
   "outputs": [
    {
     "name": "stdout",
     "output_type": "stream",
     "text": [
      "1\n",
      "2\n",
      "3\n"
     ]
    }
   ],
   "source": [
    "# example\n",
    "def gen_numbers(): \n",
    "    yield 1 \n",
    "    yield 2 \n",
    "    yield 3 \n",
    " \n",
    "for i in gen_numbers(): \n",
    "    print(i)"
   ]
  },
  {
   "cell_type": "markdown",
   "id": "e066c6ab-83ef-4f41-9707-9de8a339af87",
   "metadata": {},
   "source": [
    "7. What are the advantages of using generators over regular functions?\n",
    "\n",
    "-> Generators are better than normal functions in some cases because:\n",
    "They use less memory since they don’t store all the data at once.\n",
    "They are fast for large amounts of data.\n",
    "They can also produce infinite sequences without running out of memory.\n",
    "Because of these reasons, generators are very helpful for data handling."
   ]
  },
  {
   "cell_type": "code",
   "execution_count": 18,
   "id": "8d49b0c3-0df9-4798-a65f-005ad3b282be",
   "metadata": {},
   "outputs": [
    {
     "name": "stdout",
     "output_type": "stream",
     "text": [
      "1\n"
     ]
    }
   ],
   "source": [
    "# example\n",
    "def gen_even(): \n",
    "    n = 1 \n",
    "    while True: \n",
    "        yield n \n",
    "        n += 4 \n",
    " \n",
    "it = gen_even() \n",
    "print(next(it)) "
   ]
  },
  {
   "cell_type": "code",
   "execution_count": 19,
   "id": "bd36a3e8-eb7f-4def-b0e3-305d74d4a310",
   "metadata": {},
   "outputs": [
    {
     "name": "stdout",
     "output_type": "stream",
     "text": [
      "5\n"
     ]
    }
   ],
   "source": [
    " print(next(it)) "
   ]
  },
  {
   "cell_type": "markdown",
   "id": "9ce03796-2d75-45af-9dd3-c5dc565e53f9",
   "metadata": {},
   "source": [
    "8. What is a lambda function in Python and when is it typically used?\n",
    "\n",
    "-> A lambda function is a small, nameless function written in one line using the lambda keyword. It is mostly used for short tasks where writing a full function is not needed. We often use lambda functions with other functions like map(), filter(), and reduce()."
   ]
  },
  {
   "cell_type": "code",
   "execution_count": 20,
   "id": "0f0116c0-e03c-49cc-95cc-facaf5b65d6f",
   "metadata": {},
   "outputs": [
    {
     "name": "stdout",
     "output_type": "stream",
     "text": [
      "12\n"
     ]
    }
   ],
   "source": [
    "# example\n",
    "f = lambda a, b: a + b \n",
    "print(f(5, 7))"
   ]
  },
  {
   "cell_type": "markdown",
   "id": "5e51506b-dc1e-4e05-b045-bf3f6f296195",
   "metadata": {},
   "source": [
    "9. Explain the purpose and usage of the `map()` function in Python.\n",
    "\n",
    "-> The map() function in Python is used to apply another function to each element of a sequence like a list. Instead of writing a loop, we can use map() to make the code shorter and easier. It gives us a new object containing all the results, which can be converted into a list if needed."
   ]
  },
  {
   "cell_type": "code",
   "execution_count": 21,
   "id": "e466c5df-5bf0-486b-be56-5c24ec04fc2c",
   "metadata": {},
   "outputs": [
    {
     "name": "stdout",
     "output_type": "stream",
     "text": [
      "[2, 4, 6, 8]\n"
     ]
    }
   ],
   "source": [
    "# example\n",
    "nums = [1, 2, 3, 4] \n",
    "new_nums = list(map(lambda a: a*2, nums)) \n",
    "print(new_nums)"
   ]
  },
  {
   "cell_type": "markdown",
   "id": "b4c28b3f-173a-4cfa-b9ed-3c4996a58afa",
   "metadata": {},
   "source": [
    "10. What is the difference between `map()`, `reduce()`, and `filter()` functions in Python?\n",
    "\n",
    "->  map(): applies a function to every element and gives a new sequence.\n",
    "   filter(): checks each element with a condition and only keeps the elements which are True.\n",
    "reduce(): takes all the elements of a sequence and combines them step by step into a single final value."
   ]
  },
  {
   "cell_type": "code",
   "execution_count": 25,
   "id": "0f9b47dc-4129-42e1-8bd5-50d5b964f733",
   "metadata": {},
   "outputs": [
    {
     "name": "stdout",
     "output_type": "stream",
     "text": [
      "[2, 3, 4, 5]\n"
     ]
    }
   ],
   "source": [
    "# example map\n",
    "nums = [1, 2, 3, 4] \n",
    "print(list(map(lambda x: x+1, nums)))"
   ]
  },
  {
   "cell_type": "code",
   "execution_count": 23,
   "id": "0f21531b-d285-4079-a210-d0207b8c883e",
   "metadata": {},
   "outputs": [
    {
     "name": "stdout",
     "output_type": "stream",
     "text": [
      "[2, 4]\n"
     ]
    }
   ],
   "source": [
    "# filter\n",
    "print(list(filter(lambda x: x%2==0, nums)))"
   ]
  },
  {
   "cell_type": "code",
   "execution_count": 24,
   "id": "ba9b7f3c-d0fa-4afa-82b6-e54c31555701",
   "metadata": {},
   "outputs": [
    {
     "name": "stdout",
     "output_type": "stream",
     "text": [
      "10\n"
     ]
    }
   ],
   "source": [
    "# reduce\n",
    "print(reduce(lambda x,y: x+y, nums))"
   ]
  },
  {
   "cell_type": "markdown",
   "id": "91f7ab32-aa40-4477-93de-4336d33228ca",
   "metadata": {},
   "source": [
    "11. Using pen & Paper write the internal mechanism for sum operation using reduce function on this given list:[47,11,42,13];\n",
    "\n",
    "->  answer write in normal paper, Paper Attach Doc"
   ]
  },
  {
   "cell_type": "markdown",
   "id": "bc9aa52e-eb86-4390-b5fa-a69021aca976",
   "metadata": {},
   "source": [
    "# Practical Questions"
   ]
  },
  {
   "cell_type": "code",
   "execution_count": 36,
   "id": "f6826d6a-b2ef-4fdd-8d58-495600920ba3",
   "metadata": {},
   "outputs": [
    {
     "name": "stdout",
     "output_type": "stream",
     "text": [
      "12\n"
     ]
    }
   ],
   "source": [
    "# 1. Write a Python function that takes a list of numbers as input and returns the sum of all even numbers in the list.\n",
    "def sum_even(numbers): \n",
    "    return sum(num for num in numbers if num % 2 == 0) \n",
    "print(sum_even([1, 2, 3, 4, 5, 6])) "
   ]
  },
  {
   "cell_type": "code",
   "execution_count": 37,
   "id": "1b9b39a5-915a-4c9b-abd3-426e1b88b833",
   "metadata": {},
   "outputs": [
    {
     "name": "stdout",
     "output_type": "stream",
     "text": [
      "nohtyP\n"
     ]
    }
   ],
   "source": [
    "# 2. Create a Python function that accepts a string and returns the reverse of that string.\n",
    "def reverse_string(s): \n",
    "    return s[::-1]\n",
    "print(reverse_string(\"Python\")) "
   ]
  },
  {
   "cell_type": "code",
   "execution_count": 38,
   "id": "3b2fb64d-8eba-4784-a1d9-5d2aee43fd7e",
   "metadata": {},
   "outputs": [
    {
     "name": "stdout",
     "output_type": "stream",
     "text": [
      "[1, 4, 9, 16]\n"
     ]
    }
   ],
   "source": [
    "# 3. Implement a Python function that takes a list of integers and returns a new list containing the squares of each number.\n",
    "def squares_list(numbers): \n",
    "    return [num**2 for num in numbers]\n",
    "print(squares_list([1, 2, 3, 4])) "
   ]
  },
  {
   "cell_type": "code",
   "execution_count": 39,
   "id": "90bdb5e2-b684-4552-a443-6c110781f6ff",
   "metadata": {},
   "outputs": [
    {
     "name": "stdout",
     "output_type": "stream",
     "text": [
      "[2, 3, 5, 7, 11, 13, 17, 19, 23, 29, 31, 37, 41, 43, 47, 53, 59, 61, 67, 71, 73, 79, 83, 89, 97, 101, 103, 107, 109, 113, 127, 131, 137, 139, 149, 151, 157, 163, 167, 173, 179, 181, 191, 193, 197, 199]\n"
     ]
    }
   ],
   "source": [
    "# 4. Write a Python function that checks if a given number is prime or not from 1 to 200.\n",
    "def is_prime(n): \n",
    "    if n < 2: \n",
    "        return False \n",
    "    for i in range(2, int(n**0.5) + 1): \n",
    "        if n % i == 0: \n",
    "            return False \n",
    "    return True \n",
    "primes = [n for n in range(1, 201) if is_prime(n)] \n",
    "print(primes) "
   ]
  },
  {
   "cell_type": "code",
   "execution_count": 40,
   "id": "a1feb386-ff77-4106-a9f2-5ab6a0805e3d",
   "metadata": {},
   "outputs": [
    {
     "name": "stdout",
     "output_type": "stream",
     "text": [
      "0 1 1 2 3 5 8 13 21 34 "
     ]
    }
   ],
   "source": [
    "# 5. Create an iterator class in Python that generates the Fibonacci sequence up to a specified number of terms.\n",
    "class Fibonacci: \n",
    "    def __init__(self, n_terms): \n",
    "        self.n_terms = n_terms \n",
    "        self.a, self.b = 0, 1 \n",
    "        self.count = 0 \n",
    "    def __iter__(self): \n",
    "        return self \n",
    "    def __next__(self): \n",
    "        if self.count < self.n_terms: \n",
    "            value = self.a \n",
    "            self.a, self.b = self.b, self.a + self.b \n",
    "            self.count += 1 \n",
    "            return value \n",
    "        else: \n",
    "            raise StopIteration\n",
    "for num in Fibonacci(10): \n",
    "    print(num, end=\" \") "
   ]
  },
  {
   "cell_type": "code",
   "execution_count": 41,
   "id": "363b4e67-1144-4b65-9723-b5ce99778f99",
   "metadata": {},
   "outputs": [
    {
     "name": "stdout",
     "output_type": "stream",
     "text": [
      "1\n",
      "2\n",
      "4\n",
      "8\n",
      "16\n",
      "32\n"
     ]
    }
   ],
   "source": [
    "# 6. Write a generator function in Python that yields the powers of 2 up to a given exponent.\n",
    "def powers_of_two(limit): \n",
    "    for i in range(limit + 1): \n",
    "        yield 2 ** i \n",
    "for val in powers_of_two(5): \n",
    "    print(val) "
   ]
  },
  {
   "cell_type": "code",
   "execution_count": 1,
   "id": "eaf4adc9-6ea0-4893-8d4f-71a42796adc8",
   "metadata": {
    "scrolled": true
   },
   "outputs": [
    {
     "name": "stdout",
     "output_type": "stream",
     "text": [
      "First line\n",
      "Second line\n",
      "Third line\n"
     ]
    }
   ],
   "source": [
    "# 7. Implement a generator function that reads a file line by line and yields each line as a string.\n",
    "def read_file_line_by_line(filename):\n",
    "    with open(filename, \"r\") as file:\n",
    "        for line in file:\n",
    "            yield line.strip()\n",
    "with open(\"sample.txt\", \"w\") as f:\n",
    "    f.write(\"First line\\n\")\n",
    "    f.write(\"Second line\\n\")\n",
    "    f.write(\"Third line\\n\")\n",
    "for line in read_file_line_by_line(\"sample.txt\"):\n",
    "    print(line)"
   ]
  },
  {
   "cell_type": "code",
   "execution_count": 10,
   "id": "e04ad592-1e02-4100-8ba7-26fc531df2f9",
   "metadata": {},
   "outputs": [
    {
     "name": "stdout",
     "output_type": "stream",
     "text": [
      "[(3, 1), (1, 4), (2, 6), (5, 9)]\n"
     ]
    }
   ],
   "source": [
    "# 8. Use a lambda function in Python to sort a list of tuples based on the second element of each tuple.\n",
    "data = [(1, 4), (3, 1), (5, 9), (2, 6)]\n",
    "sorted_data = sorted(data, key=lambda x: x[1])\n",
    "print(sorted_data)"
   ]
  },
  {
   "cell_type": "code",
   "execution_count": 13,
   "id": "590f7c8e-18a1-468f-b18b-66468dea660b",
   "metadata": {},
   "outputs": [
    {
     "name": "stdout",
     "output_type": "stream",
     "text": [
      "[32.0, 59.0, 95.0, 212.0]\n"
     ]
    }
   ],
   "source": [
    "# 9. Write a Python program that uses `map()` to convert a list of temperatures from Celsius to Fahrenheit.\n",
    "celsius = [0, 15, 35, 100]\n",
    "fahrenheit = list(map(lambda c: (c * 9/5) + 32, celsius))\n",
    "print(fahrenheit)"
   ]
  },
  {
   "cell_type": "code",
   "execution_count": 12,
   "id": "0c7d2d41-9554-4522-ad7d-e60237899389",
   "metadata": {},
   "outputs": [
    {
     "name": "stdout",
     "output_type": "stream",
     "text": [
      "Dt nlytcs wth Pythn\n"
     ]
    }
   ],
   "source": [
    "# 10. Create a Python program that uses `filter()` to remove all the vowels from a given string.\n",
    "text = \"Data Analytics with Python\"\n",
    "vowels = \"aeiouAEIOU\"\n",
    "result = \"\".join(filter(lambda ch: ch not in vowels, text))\n",
    "print(result)"
   ]
  },
  {
   "cell_type": "code",
   "execution_count": 2,
   "id": "30492d50-cbc1-40e7-81ac-7b8b739b6092",
   "metadata": {},
   "outputs": [
    {
     "name": "stdout",
     "output_type": "stream",
     "text": [
      "[(34587, 163.8), (98762, 284.0), (77226, 108.85000000000001), (88112, 84.97)]\n"
     ]
    }
   ],
   "source": [
    "# 11. Imagine an accounting routine used in a book shop. It works on a list with sublists, which look like this:Write a Python program, which returns a list with 2-tuples. Each tuple consists of the order number and the product of the price per item and the quantity. The product should be increased by 10,- € if the value of theorder is smaller than 100,00 €.Write a Python program using lambda and map\n",
    "orders = [\n",
    "    [34587, \"Learning Python, Mark Lutz\", 4, 40.95],\n",
    "    [98762, \"Programming Python, Mark Lutz\", 5, 56.80],\n",
    "    [77226, \"Head First Python, Paul Barry\", 3, 32.95],\n",
    "    [88112, \"Einführung in Python3, Bernd Klein\", 3, 24.99]]\n",
    "result = list(map(\n",
    "    lambda o: (o[0], o[2]*o[3] if o[2]*o[3] >= 100 else o[2]*o[3] + 10), orders))\n",
    "print(result)"
   ]
  },
  {
   "cell_type": "code",
   "execution_count": null,
   "id": "b2cc36f4-1989-4c71-aa3f-22712643b7c0",
   "metadata": {},
   "outputs": [],
   "source": []
  }
 ],
 "metadata": {
  "kernelspec": {
   "display_name": "Python 3 (ipykernel)",
   "language": "python",
   "name": "python3"
  },
  "language_info": {
   "codemirror_mode": {
    "name": "ipython",
    "version": 3
   },
   "file_extension": ".py",
   "mimetype": "text/x-python",
   "name": "python",
   "nbconvert_exporter": "python",
   "pygments_lexer": "ipython3",
   "version": "3.13.5"
  }
 },
 "nbformat": 4,
 "nbformat_minor": 5
}
