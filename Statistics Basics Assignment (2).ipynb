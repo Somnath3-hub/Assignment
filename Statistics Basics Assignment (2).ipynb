{
 "cells": [
  {
   "cell_type": "raw",
   "id": "9e6fcbda-ad12-4759-98ea-1b8b9dbeb255",
   "metadata": {},
   "source": [
    "# Statistics Basics Assignment"
   ]
  },
  {
   "cell_type": "markdown",
   "id": "711c6aac-ec7a-4315-87b3-f7767a712d7d",
   "metadata": {},
   "source": [
    "Q1.  What is the difference between descriptive statistics and inferential \n",
    "statistics? Explain with examples. \n",
    "\n",
    "->   Descriptive statistics is used to describe and summarize the data that is \n",
    "already collected. It helps us to understand the main features of the data by using average, \n",
    "median, mode, percentages, and graphs. It only explains the given data but does not go \n",
    "beyond it.\n",
    "Example: If we calculate the average marks of 100 students in a class, or show \n",
    "their marks in a bar chart, that is descriptive statistics.\n",
    "\n",
    "Inferential statistics is used to make conclusions or predictions about a large group by \n",
    "studying a small sample. It uses probability and testing methods to guess about the whole \n",
    "population.\n",
    "Example: If we take the marks of 30 students from one class and use them to \n",
    "predict the performance of the entire school, it is inferential statistics. "
   ]
  },
  {
   "cell_type": "markdown",
   "id": "ea5b96e0-19ee-4204-a88d-a9ac857c1527",
   "metadata": {},
   "source": [
    "Q 2.  What is sampling in statistics? Explain the differences between random \n",
    "and stratified sampling. \n",
    "    \n",
    "->  In statistics, sampling means choosing a small part of the population to study, \n",
    "instead of studying the entire population. It saves time, cost, and effort, but still gives useful \n",
    "results. \n",
    "Random Sampling: In this method, every member of the population has an equal \n",
    "chance to be selected. The selection is done by chance. \n",
    "Example: If there are 500 students in a school and we select 50 students using a \n",
    "lottery method, it is random sampling. \n",
    "\n",
    "Stratified Sampling: In this method, the population is divided into groups (like boys \n",
    "and girls, or different age groups). Then samples are taken from each group in proportion to \n",
    "their size. This gives a fair representation of all groups. \n",
    "Example: If a school has 300 boys and 200 girls, and we need 50 students, then we \n",
    "may take 30 boys and 20 girls. This is stratified sampling."
   ]
  },
  {
   "cell_type": "markdown",
   "id": "ae6b6099-4372-4784-bbb6-4c786d68f629",
   "metadata": {},
   "source": [
    "Q3. Define mean, median, and mode. Explain why these measures of central \n",
    "tendency are important.  \n",
    "    \n",
    "->   Mean: The arithmetic mean is the sum of all values divided by the number of \n",
    "values.\n",
    "    \n",
    "Median: The middle value when data is arranged in ascending or descending order. \n",
    "If the number of observations is even, the median is the average of the two middle values.\n",
    "    \n",
    "Mode: The value that appears most frequently in a dataset. \n",
    "    \n",
    "Importance of Central Tendency: These measures provide a single value that \n",
    "represents the entire dataset. They simplify large data and help in understanding patterns.- \n",
    "Mean is useful when data is evenly distributed.- Median is useful when data has outliers, as \n",
    "it is not affected by extreme values.- Mode is helpful when dealing with categorical data or \n",
    "identifying the most common observation. \n",
    "\n",
    "Example: If exam scores are [10, 20, 20, 30, 40], then: Mean = \n",
    "(10+20+20+30+40)/5 = 24 Median = 20 (middle value) Mode = 20 (most frequent) \n",
    "Conclusion: Mean, median, and mode help summarize the dataset and identify \n",
    "trends for decision-making."
   ]
  },
  {
   "cell_type": "code",
   "execution_count": null,
   "id": "5342a212-51df-4e8d-a5b7-bc4480beeec0",
   "metadata": {},
   "outputs": [],
   "source": [
    "Q4. Explain skewness and kurtosis. What does a positive skew imply about \n",
    "the data? \n",
    "->   Skewness: Skewness measures the asymmetry of the data distribution.- A \n",
    "value of 0 indicates perfect symmetry.- Positive skew means the data tail is longer on the \n",
    "right side.- Negative skew means the data tail is longer on the left side.\n",
    "    \n",
    "Kurtosis: Kurtosis measures the \"peakedness\" or \"flatness\" of a distribution \n",
    "compared to a normal distribution.- High kurtosis means more outliers and sharper peaks.- \n",
    "Low kurtosis means fewer outliers and flatter peaks. \n",
    "\n",
    "Positive Skew: When a distribution is positively skewed, most data values are \n",
    "concentrated on the left side, but a few large values pull the tail to the right.\n",
    "\n",
    "Example: Income distribution in a country, where most people earn moderate \n",
    "salaries, but a few earn very high incomes. \n",
    "Conclusion: Skewness tells us about the symmetry of data, while kurtosis tells us \n",
    "about the shape and outliers. Positive skew indicates a right-sided tail with extreme high \n",
    "values."
   ]
  },
  {
   "cell_type": "code",
   "execution_count": null,
   "id": "6b4439bc-ce4f-422a-ad6a-7ec059d51ec6",
   "metadata": {},
   "outputs": [],
   "source": []
  },
  {
   "cell_type": "code",
   "execution_count": null,
   "id": "364d51e5-a0c8-48f2-b7c3-4343d37cb79f",
   "metadata": {},
   "outputs": [],
   "source": []
  },
  {
   "cell_type": "code",
   "execution_count": null,
   "id": "5cb47dc2-4570-4e58-a49d-f960296614ed",
   "metadata": {},
   "outputs": [],
   "source": []
  },
  {
   "cell_type": "code",
   "execution_count": null,
   "id": "9631da24-020e-444d-989a-2a89efd26e08",
   "metadata": {},
   "outputs": [],
   "source": []
  },
  {
   "cell_type": "markdown",
   "id": "84a4a844-7d0d-462a-82ee-94c089055528",
   "metadata": {},
   "source": [
    " Q 5.  Implement a Python program to compute the mean, median, and mode of a given list of numbers. numbers = [12, 15, 12, 18, 19, 12, 20, 22, 19, 19, 24, 24, 24, 26, 28]\n",
    " \n",
    "->   We use Python’s statistics library to compute mean, median, and mode of the given dataset."
   ]
  },
  {
   "cell_type": "code",
   "execution_count": 1,
   "id": "33cb6b05-3e34-4c48-8ba1-348f4e567283",
   "metadata": {},
   "outputs": [
    {
     "name": "stdout",
     "output_type": "stream",
     "text": [
      "Mean: 19.6\n",
      "Median: 19\n",
      "Mode: 12\n"
     ]
    }
   ],
   "source": [
    "import statistics \n",
    "numbers = [12, 15, 12, 18, 19, 12, 20, 22, 19, 19, 24, 24, 24, 26, 28] \n",
    "mean_value = statistics.mean(numbers) \n",
    "median_value = statistics.median(numbers) \n",
    "mode_value = statistics.mode(numbers) \n",
    "print(\"Mean:\", mean_value) \n",
    "print(\"Median:\", median_value) \n",
    "print(\"Mode:\", mode_value)"
   ]
  },
  {
   "cell_type": "markdown",
   "id": "dee79629-4b34-48ba-9eeb-fb303e05f95c",
   "metadata": {},
   "source": [
    " Explanation: \n",
    "Mean (average) of the given list is 19.6, which is the sum of all values divided by count. Median (middle value) is 19 after sorting. Mode (most frequent value) is 12 because it appears most times. These three measures together summarize the central tendency of the data."
   ]
  },
  {
   "cell_type": "markdown",
   "id": "341b1afa-a982-4106-9ab5-580df0bba353",
   "metadata": {},
   "source": [
    " Q 6. Compute the covariance and correlation coefficient between the following two datasets provided as lists in Python: \n",
    "       list_x = [10, 20, 30, 40, 50] \n",
    "     list_y = [15, 25, 35, 45, 60] \n",
    "\n",
    "  ->  Concept:- Covariance shows how two variables change together. A positive covariance means when one variable increases, the other also tends to increase.- Correlation coefficient (r) measures the strength and direction of the linear relationship. It ranges from -1 to +1.\n"
   ]
  },
  {
   "cell_type": "code",
   "execution_count": 3,
   "id": "622c6667-4a1c-4692-af5b-cde3d1679314",
   "metadata": {},
   "outputs": [
    {
     "name": "stdout",
     "output_type": "stream",
     "text": [
      "Sample Covariance: 275.0\n",
      "Population Covariance: 220.0\n",
      "Correlation Coefficient: 0.995893206467704\n"
     ]
    }
   ],
   "source": [
    "import numpy as np \n",
    "list_x = [10, 20, 30, 40, 50] \n",
    "list_y = [15, 25, 35, 45, 60] \n",
    "cov_sample = np.cov(list_x, list_y)[0,1] \n",
    "cov_population = np.cov(list_x, list_y, ddof=0)[0,1] \n",
    "corr = np.corrcoef(list_x, list_y)[0,1] \n",
    "print(\"Sample Covariance:\", cov_sample) \n",
    "print(\"Population Covariance:\", cov_population) \n",
    "print(\"Correlation Coefficient:\", corr)"
   ]
  },
  {
   "cell_type": "markdown",
   "id": "818c84fc-296a-4ef6-b806-2ecbe5fe7bd5",
   "metadata": {},
   "source": [
    "Explanation: Covariance measures how two variables change together. The sample covariance here is 275.0 (population covariance is 220.0 depending on ddof). The Pearson correlation is about 0.996, which is very close to +1. This shows a very strong positive linear relationship between list_x and list_y: as x increases, y also increases almost proportionally."
   ]
  },
  {
   "cell_type": "code",
   "execution_count": 4,
   "id": "b134f44f-1c8b-404b-9989-8b5fbcc4af6b",
   "metadata": {},
   "outputs": [
    {
     "name": "stdout",
     "output_type": "stream",
     "text": [
      "Q1: 17.25\n",
      "Q3: 23.25\n",
      "IQR: 6.0\n",
      "Lower bound: 8.25\n",
      "Upper bound: 32.25\n",
      "Outliers detected: [35]\n"
     ]
    },
    {
     "data": {
      "image/png": "[encoded data removed]",
      "text/plain": [
       "<Figure size 640x480 with 1 Axes>"
      ]
     },
     "metadata": {},
     "output_type": "display_data"
    }
   ],
   "source": [
    "# Q 7. Write a Python script to draw a boxplot for the following numeric list and identify its outliers. Explain the result: \n",
    " #data = [12, 14, 14, 15, 18, 19, 19, 21, 22, 22, 23, 23, 24, 26, 29, 35] \n",
    "import numpy as np \n",
    "import matplotlib.pyplot as plt \n",
    "data = [12, 14, 14, 15, 18, 19, 19, 21, 22, 22, 23, 23, 24, 26, 29, 35] \n",
    "q1 = np.percentile(data, 25) \n",
    "q3 = np.percentile(data, 75) \n",
    "iqr = q3 - q1 \n",
    "lower_bound = q1 - 1.5 * iqr \n",
    "upper_bound = q3 + 1.5 * iqr \n",
    "outliers = [x for x in data if (x < lower_bound) or (x > upper_bound)] \n",
    "print(\"Q1:\", q1) \n",
    "print(\"Q3:\", q3) \n",
    "print(\"IQR:\", iqr) \n",
    "print(\"Lower bound:\", lower_bound) \n",
    "print(\"Upper bound:\", upper_bound) \n",
    "print(\"Outliers detected:\", outliers) \n",
    "plt.boxplot(data) \n",
    "plt.show()"
   ]
  },
  {
   "cell_type": "markdown",
   "id": "d4490884-629b-4304-b49b-72be6a84c761",
   "metadata": {},
   "source": [
    "Explanation: Using the IQR method we found Q1 = 17.25, Q3 = 23.25, IQR = 6.0. The acceptable range is [8.25, 32.25]. The value 35 lies above the upper bound, so 35 is an outlier. The boxplot visually confirms this."
   ]
  },
  {
   "cell_type": "markdown",
   "id": "49498a94-f728-4496-9717-ca7136852ea8",
   "metadata": {},
   "source": [
    "Q 8. You are working as a data analyst in an e-commerce company. The marketing team wants to know if there is a relationship between advertising spend and daily sales.   \n",
    "Explain how you would use covariance and correlation to explore this relationship.  \n",
    "Write Python code to compute the correlation between the two lists:   \n",
    " advertising_spend = [200, 250, 300, 400, 500] \n",
    " daily_sales = [2200, 2450, 2750, 3200, 4000]\n",
    "\n",
    " -> To explore the relationship between advertising spend and daily sales, we \n",
    "can use: \n",
    " Covariance: Measures how two variables change together. A positive covariance \n",
    "means that when advertising spend increases, sales also increase. \n",
    " Correlation: Standardizes covariance to a scale between -1 and 1. \n",
    "A correlation close to +1 means a strong positive relationship. \n",
    "A correlation close to -1 means a strong negative relationship. \n",
    "A correlation near 0 means no linear relationship.\n"
   ]
  },
  {
   "cell_type": "code",
   "execution_count": 5,
   "id": "9858793c-1f55-4001-aa95-4924e42b2822",
   "metadata": {},
   "outputs": [
    {
     "name": "stdout",
     "output_type": "stream",
     "text": [
      "Covariance Matrix:\n",
      " [[ 14500.  84875.]\n",
      " [ 84875. 503250.]]\n",
      "Correlation Coefficient:\n",
      " [[1.         0.99358241]\n",
      " [0.99358241 1.        ]]\n"
     ]
    }
   ],
   "source": [
    "import numpy as np \n",
    "advertising_spend = [200, 250, 300, 400, 500] \n",
    "daily_sales = [2200, 2450, 2750, 3200, 4000] \n",
    "cov_matrix = np.cov(advertising_spend, daily_sales) \n",
    "correlation = np.corrcoef(advertising_spend, daily_sales) \n",
    "print(\"Covariance Matrix:\\n\", cov_matrix) \n",
    "print(\"Correlation Coefficient:\\n\", correlation)"
   ]
  },
  {
   "cell_type": "markdown",
   "id": "07710b94-26dd-4f19-aebb-0a2c5aa3b315",
   "metadata": {},
   "source": [
    "Explanation : \n",
    "Covariance (84,875) : Positive value shows both variables move in the same \n",
    "direction. \n",
    "Correlation (0.9936) : Very close to 1, which indicates a very strong positive \n",
    "relationship between advertising spend and daily sales."
   ]
  },
  {
   "cell_type": "markdown",
   "id": "ebc6de84-de30-4141-b3e4-0bc0a2b227b7",
   "metadata": {},
   "source": [
    "Q 9.  Your team has collected customer satisfaction survey data on a scale of 1-10 and \n",
    "wants to understand its distribution before launching a new product. \n",
    "● Explain which summary statistics and visualizations (e.g. mean, standard deviation, \n",
    "histogram) you’d use.  \n",
    "● Write Python code to create a histogram using Matplotlib for the survey data:  \n",
    "survey_scores = [7, 8, 5, 9, 6, 7, 8, 9, 10, 4, 7, 6, 9, 8, 7]\n",
    "\n",
    "-> In this question, customer satisfaction survey data is collected on a scale of \n",
    "1–10. To understand the distribution of scores before launching a new product, we calculate \n",
    "summary statistics and create a histogram.\n",
    "\n",
    "Summary Statistics \n",
    "Mean (Average): 7.47 \n",
    "Median: 7 \n",
    "Mode: 7 \n",
    "Standard Deviation: 1.58 \n",
    "Minimum Score: 4 \n",
    "Maximum Score: 10 \n",
    "These values show that most customers gave scores around 7–8, which means the majority \n",
    "of customers are satisfied."
   ]
  },
  {
   "cell_type": "code",
   "execution_count": 2,
   "id": "27dbdffb-40c9-40c3-993d-34a7deb3bbe9",
   "metadata": {},
   "outputs": [
    {
     "name": "stdout",
     "output_type": "stream",
     "text": [
      "Mean: 7.333333333333333\n",
      "Median: 7\n",
      "Mode: 7\n",
      "Standard Deviation: 1.632993161855452\n",
      "Minimum: 4\n",
      "Maximum: 10\n"
     ]
    },
    {
     "data": {
      "image/png": "[encoded data removed]",
      "text/plain": [
       "<Figure size 640x480 with 1 Axes>"
      ]
     },
     "metadata": {},
     "output_type": "display_data"
    }
   ],
   "source": [
    "import numpy as np \n",
    "import matplotlib.pyplot as plt \n",
    "from statistics import mean, median, mode, stdev \n",
    "survey_scores = [7, 8, 5, 9, 6, 7, 8, 9, 10, 4, 7, 6, 9, 8, 7] \n",
    "mean_value = mean(survey_scores) \n",
    "median_value = median(survey_scores)  \n",
    "mode_value = mode(survey_scores) \n",
    "std_dev = stdev(survey_scores) \n",
    "min_value = min(survey_scores) \n",
    "max_value = max(survey_scores) \n",
    "print(\"Mean:\", mean_value) \n",
    "print(\"Median:\", median_value) \n",
    "print(\"Mode:\", mode_value) \n",
    "print(\"Standard Deviation:\", std_dev) \n",
    "print(\"Minimum:\", min_value) \n",
    "print(\"Maximum:\", max_value) \n",
    "plt.hist(survey_scores, bins=6, color='skyblue', edgecolor='black') \n",
    "plt.title(\"Customer Satisfaction Survey Distribution\") \n",
    "plt.xlabel(\"Satisfaction Score\") \n",
    "plt.ylabel(\"Frequency\") \n",
    "plt.show()"
   ]
  },
  {
   "cell_type": "markdown",
   "id": "d4f659d0-cf71-4e44-af0f-b6bfbe9bce77",
   "metadata": {},
   "source": [
    "Explanation : \n",
    "The average satisfaction score is around 7.5, showing customers are mostly \n",
    "satisfied. \n",
    "The most common score is 7, which means many customers rated satisfaction at this \n",
    "level. \n",
    "The range is from 4 to 10, showing that while some customers were less satisfied, \n",
    "most gave higher ratings. \n",
    "The histogram would show a clear concentration of scores between 7 and 9, \n",
    "indicating strong positive satisfaction overall."
   ]
  },
  {
   "cell_type": "code",
   "execution_count": null,
   "id": "29790585-4bb9-4a7f-a71f-efcb9a933b2b",
   "metadata": {},
   "outputs": [],
   "source": []
  }
 ],
 "metadata": {
  "kernelspec": {
   "display_name": "Python 3 (ipykernel)",
   "language": "python",
   "name": "python3"
  },
  "language_info": {
   "codemirror_mode": {
    "name": "ipython",
    "version": 3
   },
   "file_extension": ".py",
   "mimetype": "text/x-python",
   "name": "python",
   "nbconvert_exporter": "python",
   "pygments_lexer": "ipython3",
   "version": "3.13.5"
  }
 },
 "nbformat": 4,
 "nbformat_minor": 5
}
