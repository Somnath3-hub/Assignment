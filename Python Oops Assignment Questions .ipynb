{
 "cells": [
  {
   "cell_type": "markdown",
   "id": "7a4d3afa-eabf-42b5-a48d-a657f1a1564e",
   "metadata": {},
   "source": [
    "# Python Oops Assignment Questions"
   ]
  },
  {
   "cell_type": "markdown",
   "id": "17117b73-6f78-4bc9-b342-d0b6e3bad7df",
   "metadata": {},
   "source": [
    "1. What is Object-Oriented Programming (OOP)?\n",
    "\n",
    "-> Object-Oriented Programming (OOP) is a way of programming where we design and organize code using objects. Objects are real-world entities that have properties (attributes) and behaviors (methods). OOP makes code easier to understand, reuse, and maintain. It focuses on classes and objects instead of only functions."
   ]
  },
  {
   "cell_type": "markdown",
   "id": "f0ed1608-470c-4936-8d67-f875c970c021",
   "metadata": {},
   "source": [
    "2. What is a class in OOP?\n",
    "\n",
    "-> A class is like a blueprint or template for creating objects. It defines the variables and methods that the objects created from it will have. For example, a class Car can have attributes like color and speed, and methods like start() and stop()."
   ]
  },
  {
   "cell_type": "markdown",
   "id": "9c6cabc9-9f4e-452b-b921-ef36be78d405",
   "metadata": {},
   "source": [
    "3. What is an object in OOP?\n",
    "\n",
    "-> An object is an instance of a class. When we create an object from a class, it has its own data but follows the structure defined in the class. For example, Car() creates a car object that has color and speed."
   ]
  },
  {
   "cell_type": "markdown",
   "id": "33d3297f-7e4d-4618-a98b-98ffd414688e",
   "metadata": {},
   "source": [
    "4. What is the difference between abstraction and encapsulation?\n",
    "\n",
    "-> A class is a design or blueprint, while an object is the actual thing created from that design. You can think of a class as a plan for building a house, and the house built using that plan is the object."
   ]
  },
  {
   "cell_type": "markdown",
   "id": "d4e65ed8-ae4e-4016-bcda-f1e340c77924",
   "metadata": {},
   "source": [
    "5. What are dunder methods in Python?\n",
    "\n",
    "-> Encapsulation means hiding the internal details of a class and only showing necessary parts to the outside world. It is done by using private and public access specifiers. This protects the data from being accessed directly and allows controlled access."
   ]
  },
  {
   "cell_type": "markdown",
   "id": "61e33b0d-62ae-46c1-9023-ab3e738e1e9d",
   "metadata": {},
   "source": [
    "6. Explain the concept of inheritance in OOP.\n",
    "\n",
    "-> Inheritance allows one class (child class) to get properties and methods from another class (parent class). It helps in reusing code and building a hierarchy of classes. For example, a Dog class can inherit from an Animal class."
   ]
  },
  {
   "cell_type": "markdown",
   "id": "c42b486b-ca29-4a4a-8e6a-d5e379ca15e4",
   "metadata": {},
   "source": [
    "7. What is polymorphism in OOP?\n",
    "\n",
    "-> Polymorphism means 'many forms'. It allows one method name to be used in different ways depending on the object calling it. For example, the method speak() can have different outputs for Dog and Cat classes."
   ]
  },
  {
   "cell_type": "markdown",
   "id": "71811aac-f4f3-4bbf-aabf-df4e9616d28f",
   "metadata": {},
   "source": [
    "8. How is encapsulation achieved in Python?\n",
    "\n",
    "-> Abstraction means hiding unnecessary details and only showing important features of an object. In Python, we can achieve abstraction using abstract classes and methods. This helps to focus only on what an object does rather than how it does it."
   ]
  },
  {
   "cell_type": "markdown",
   "id": "874ecc6e-7982-412e-be69-b99fb99a0fe9",
   "metadata": {},
   "source": [
    "9. What is a constructor in Python?\n",
    "\n",
    "-> A constructor is a special method named __init__ that is automatically called when an object is created. It is used to initialize object properties. For example, __init__(self, name) sets the name of the object when it is created."
   ]
  },
  {
   "cell_type": "markdown",
   "id": "95f37c8d-73f3-4041-aa4e-bbe0e0d1e220",
   "metadata": {},
   "source": [
    "10. What are class and static methods in Python?\n",
    "\n",
    "->  A destructor is a special method named __del__ that is automatically called when an object is deleted. It is used to clean up resources, close files, or free memory."
   ]
  },
  {
   "cell_type": "markdown",
   "id": "86a638fa-fa69-4b68-bf86-75fce687b178",
   "metadata": {},
   "source": [
    "11. What is method overloading in Python?\n",
    "\n",
    "->  Instance variables are variables that belong to a specific object. They are defined inside methods using self and each object can have different values for these variables."
   ]
  },
  {
   "cell_type": "markdown",
   "id": "2bedb2f3-03ab-4c14-a2d6-ccb54eb05c39",
   "metadata": {},
   "source": [
    "12. What is method overriding in OOP?\n",
    "\n",
    "->  Class variables are variables that belong to the class itself, not to objects. They are shared by all objects of the class. They are defined outside any method but inside the class."
   ]
  },
  {
   "cell_type": "markdown",
   "id": "f100a699-d800-4caf-b463-60d3f7ff79a8",
   "metadata": {},
   "source": [
    "13. What is a property decorator in Python?\n",
    "\n",
    "->  Instance methods work with object data and require self as their first parameter. Class methods work with class-level data and require cls as their first parameter. We use @classmethod decorator for class methods."
   ]
  },
  {
   "cell_type": "markdown",
   "id": "e7454fe9-c1f6-4b28-b20b-11afecb0f1cb",
   "metadata": {},
   "source": [
    "14. Why is polymorphism important in OOP?\n",
    "\n",
    "->  Polymorphism allows code to be more flexible and reusable. It lets us use the same method name for different classes, making it easy to handle different types of objects in the same way."
   ]
  },
  {
   "cell_type": "markdown",
   "id": "f17adf41-7383-41a1-8b55-8c1c93871dfe",
   "metadata": {},
   "source": [
    "15. What is an abstract class in Python?\n",
    "\n",
    "->  An abstract class is a class that cannot be used to create objects directly. It contains one or more abstract methods that must be defined in child classes. We use the abc module to create abstract classes in Python."
   ]
  },
  {
   "cell_type": "markdown",
   "id": "67e2abf7-132a-498c-b49c-1978b098e313",
   "metadata": {},
   "source": [
    "16. What are the advantages of OOP?\n",
    "\n",
    "->  OOP makes programming easier by organizing code in classes and objects. Advantages include code reusability, easier maintenance, scalability, better organization, and security through encapsulation."
   ]
  },
  {
   "cell_type": "markdown",
   "id": "febab2ae-d3cb-41c3-8c62-dad537abfb0d",
   "metadata": {},
   "source": [
    "17. What is the difference between a class variable and an instance variable?\n",
    "\n",
    "->  A class variable is shared by all objects of a class, whereas an instance variable is unique to each object. Changing a class variable affects all objects, while changing an instance variable affects only one object."
   ]
  },
  {
   "cell_type": "markdown",
   "id": "bdbd8952-6f41-4863-bf4e-b1814c627219",
   "metadata": {},
   "source": [
    "18. What is multiple inheritance in Python?\n",
    "\n",
    "->  Multiple inheritance means a class can take features (properties and methods) from more than one parent class. In Python, this allows us to create a single child class that combines the functionality of different parent classes. Python uses a special method resolution order (MRO) to decide which parent’s method to use first."
   ]
  },
  {
   "cell_type": "markdown",
   "id": "6c1fb38a-759b-4b83-b369-4a8a3d35fb4e",
   "metadata": {},
   "source": [
    "19. Explain the purpose of ‘’__str__’ and ‘__repr__’ ‘ methods in Python.\n",
    "\n",
    "->  Both __str__ and __repr__ are special methods that help to show an object in a readable way. __str__ returns a string for users, while __repr__ gives a technical string for developers. In short, __str__ is for easy reading, and __repr__ is for debugging and understanding."
   ]
  },
  {
   "cell_type": "markdown",
   "id": "75ca0a44-25ca-42cf-91ae-e45a6932a54d",
   "metadata": {},
   "source": [
    "20. What is the significance of the ‘super()’ function in Python?\n",
    "\n",
    "->  The super() function is used to call a method from the parent class in a child class. It helps in reusing parent code and avoids rewriting methods. It is often used in constructors."
   ]
  },
  {
   "cell_type": "markdown",
   "id": "57216f63-8426-484e-b18e-4eeaee4d3265",
   "metadata": {},
   "source": [
    "21. What is the significance of the __del__ method in Python?\n",
    "\n",
    "->The __del__ method is a special method that is called when an object is being deleted or destroyed from memory. This is also called a destructor method. It is used when we want to clean up resources, close files, or release memory before removing the object completely. Python automatically calls this method when an object is no longer needed.  "
   ]
  },
  {
   "cell_type": "markdown",
   "id": "6bab2cae-ece6-482f-aae1-94ed2938ea2a",
   "metadata": {},
   "source": [
    "22. What is the difference between @staticmethod and @classmethod in Python?\n",
    "\n",
    "->  @staticmethod does not need information about the class or object, it acts like a simple function inside a class. @classmethod takes class information (cls) and can access class-level variables."
   ]
  },
  {
   "cell_type": "markdown",
   "id": "61befb10-ea14-4785-869c-0871edaac181",
   "metadata": {},
   "source": [
    "23. How does polymorphism work in Python with inheritance?\n",
    "\n",
    "->  Polymorphism in inheritance allows a child class to have a method with the same name as a parent method but with different behavior. When the method is called, Python decides which version to use based on the object’s type."
   ]
  },
  {
   "cell_type": "markdown",
   "id": "6803dcad-bdbe-4b10-a315-9b8ef395c100",
   "metadata": {},
   "source": [
    "24. What is method chaining in Python OOP?\n",
    "\n",
    "->  Method chaining is a technique where multiple methods are called in a single line of code. In Python OOP, this works by making each method return the object itself (self). This way, after one method is called, we can call another method on the same object without writing separate lines. It makes the code look clean and easy to read."
   ]
  },
  {
   "cell_type": "markdown",
   "id": "335fdcbc-ae2d-42b0-a43b-0bf80b0a1ea1",
   "metadata": {},
   "source": [
    "25. What is the purpose of the __call__ method in Python?\n",
    "\n",
    "->  The _call_ method allows an object to be used as if it were a function. When we write this special method inside a class, we can create objects that behave like functions. This is useful when we want to make objects that perform actions directly without having to call a separate method."
   ]
  },
  {
   "cell_type": "markdown",
   "id": "e3f98106-00b1-4a28-b0a8-0507c15fa430",
   "metadata": {},
   "source": [
    "# Practical Questions"
   ]
  },
  {
   "cell_type": "code",
   "execution_count": 13,
   "id": "3f3e93bc-e364-4633-a6fb-7c9a1a36a293",
   "metadata": {},
   "outputs": [
    {
     "name": "stdout",
     "output_type": "stream",
     "text": [
      "Bark!\n"
     ]
    }
   ],
   "source": [
    "# 1. Create a parent class Animal with a method speak() that prints a generic message. Create a child class Dog that overrides the speak() method to print \"Bark!\".\n",
    "class Animal:\n",
    "    def speak(self):\n",
    "        print(\"This is a generic animal sound.\")\n",
    "\n",
    "class Dog(Animal):\n",
    "    def speak(self):\n",
    "        print(\"Bark!\")\n",
    "d = Dog()\n",
    "d.speak()"
   ]
  },
  {
   "cell_type": "code",
   "execution_count": 14,
   "id": "41a2de7d-b438-4a2d-96f1-3a6052f14835",
   "metadata": {},
   "outputs": [
    {
     "name": "stdout",
     "output_type": "stream",
     "text": [
      "78.5 24\n"
     ]
    }
   ],
   "source": [
    "# 2.  Write a program to create an abstract class Shape with a method area(). Derive classes Circle and Rectangle from it and implement the area() method in both\n",
    "from abc import ABC, abstractmethod\n",
    "class Shape(ABC):\n",
    "    @abstractmethod\n",
    "    def area(self):\n",
    "        pass\n",
    "class Circle(Shape):\n",
    "    def __init__(self, radius):\n",
    "        self.radius = radius\n",
    "    def area(self):\n",
    "        return 3.14 * self.radius * self.radius\n",
    "class Rectangle(Shape):\n",
    "    def __init__(self, width, height):\n",
    "        self.width = width\n",
    "        self.height = height\n",
    "    def area(self):\n",
    "        return self.width * self.height\n",
    "c = Circle(5)\n",
    "r = Rectangle(4, 6)\n",
    "print(c.area(), r.area())"
   ]
  },
  {
   "cell_type": "code",
   "execution_count": 18,
   "id": "f245efc5-6f87-467e-9b10-8215a7b77c54",
   "metadata": {},
   "outputs": [
    {
     "name": "stdout",
     "output_type": "stream",
     "text": [
      "Four-wheeler Tesla 150kWh\n"
     ]
    }
   ],
   "source": [
    "# 3. Implement a multi-level inheritance scenario where a class Vehicle has an attribute type. Derive a class Car and further derive a class ElectricCar that adds a battery attribute.\n",
    "class Vehicle:\n",
    "    def __init__(self, vehicle_type):\n",
    "        self.vehicle_type = vehicle_type\n",
    "class Car(Vehicle):\n",
    "    def __init__(self, vehicle_type, brand):\n",
    "        super().__init__(vehicle_type)\n",
    "        self.brand = brand\n",
    "class ElectricCar(Car):\n",
    "    def __init__(self, vehicle_type, brand, battery):\n",
    "        super().__init__(vehicle_type, brand)\n",
    "        self.battery = battery\n",
    "e = ElectricCar(\"Four-wheeler\", \"Tesla\", \"150kWh\")\n",
    "print(e.vehicle_type, e.brand, e.battery)"
   ]
  },
  {
   "cell_type": "code",
   "execution_count": 20,
   "id": "0b9ffc39-8777-44e9-9ecb-7eae1bf41694",
   "metadata": {},
   "outputs": [
    {
     "name": "stdout",
     "output_type": "stream",
     "text": [
      "Sparrow flying\n",
      "Penguins can't fly\n"
     ]
    }
   ],
   "source": [
    "# 4.  Demonstrate polymorphism by creating a base class Bird with a method fly(). Create two derived classes Sparrow and Penguin that override the fly() method.\n",
    "class Bird:\n",
    "    def fly(self):\n",
    "        print(\"Birds can fly\")\n",
    "class Sparrow(Bird):\n",
    "    def fly(self):\n",
    "        print(\"Sparrow flying\")\n",
    "class Penguin(Bird):\n",
    "    def fly(self):\n",
    "        print(\"Penguins can't fly\")\n",
    "Birds = [Sparrow(), Penguin()]\n",
    "for b in Birds:\n",
    "    b.fly()"
   ]
  },
  {
   "cell_type": "code",
   "execution_count": 21,
   "id": "f38a02e7-9056-4844-b96d-ca8fd0b098db",
   "metadata": {},
   "outputs": [
    {
     "name": "stdout",
     "output_type": "stream",
     "text": [
      "1300\n"
     ]
    }
   ],
   "source": [
    "# 5. Write a program to demonstrate encapsulation by creating a class BankAccount with private attributes balance and methods to deposit, withdraw, and check balance.\n",
    "class BankAccount:\n",
    "    def __init__(self, balance):\n",
    "        self.__balance = balance\n",
    "    def deposit(self, amount):\n",
    "        self.__balance += amount\n",
    "    def withdraw(self, amount):\n",
    "        if amount <= self.__balance:\n",
    "            self.__balance -= amount\n",
    "        else:\n",
    "            print(\"Insufficient balance\")\n",
    "    def get_balance(self):\n",
    "        return self.__balance\n",
    "acc = BankAccount(1000)\n",
    "acc.deposit(500)\n",
    "acc.withdraw(200)\n",
    "print(acc.get_balance())"
   ]
  },
  {
   "cell_type": "code",
   "execution_count": 22,
   "id": "65f6d1eb-5368-4abf-aa48-04d9c6285860",
   "metadata": {},
   "outputs": [
    {
     "name": "stdout",
     "output_type": "stream",
     "text": [
      "Playing Guitar\n",
      "Playing Piano\n"
     ]
    }
   ],
   "source": [
    "# 6. Demonstrate runtime polymorphism using a method play() in a base class Instrument. Derive classes Guitar and Piano that implement their own version of play().\n",
    "class Instrument:\n",
    "    def play(self):\n",
    "        print(\"Playing instrument\")\n",
    "class Guitar(Instrument):\n",
    "    def play(self):\n",
    "        print(\"Playing Guitar\")\n",
    "class Piano(Instrument):\n",
    "    def play(self):\n",
    "        print(\"Playing Piano\")\n",
    "for inst in [Guitar(), Piano()]:\n",
    "    inst.play()"
   ]
  },
  {
   "cell_type": "code",
   "execution_count": 23,
   "id": "2799d279-ccec-4ae8-9f0a-cc2952dbeb56",
   "metadata": {},
   "outputs": [
    {
     "name": "stdout",
     "output_type": "stream",
     "text": [
      "8\n",
      "2\n"
     ]
    }
   ],
   "source": [
    "# 7. Create a class MathOperations with a class method add_numbers() to add two numbers and a static method subtract_numbers() to subtract two numbers.\n",
    "class MathOperations:\n",
    "    @classmethod\n",
    "    def add_numbers(cls, a, b):\n",
    "        return a + b\n",
    "    @staticmethod\n",
    "    def subtract_numbers(a, b):\n",
    "        return a - b\n",
    "print(MathOperations.add_numbers(5, 3))\n",
    "print(MathOperations.subtract_numbers(5, 3))"
   ]
  },
  {
   "cell_type": "code",
   "execution_count": 24,
   "id": "b5c6b493-cba8-4668-bb0c-9823518f10a9",
   "metadata": {},
   "outputs": [
    {
     "name": "stdout",
     "output_type": "stream",
     "text": [
      "2\n"
     ]
    }
   ],
   "source": [
    "# 8. Implement a class Person with a class method to count the total number of persons created.\n",
    "class Person:\n",
    "    count = 0\n",
    "    def __init__(self):\n",
    "        Person.count += 1\n",
    "    @classmethod\n",
    "    def total_persons(cls):\n",
    "        return cls.count\n",
    "p1 = Person()\n",
    "p2 = Person()\n",
    "print(Person.total_persons())"
   ]
  },
  {
   "cell_type": "code",
   "execution_count": 25,
   "id": "c24e8c4e-6c6e-402c-82a0-60b47c5e48da",
   "metadata": {},
   "outputs": [
    {
     "name": "stdout",
     "output_type": "stream",
     "text": [
      "3/4\n"
     ]
    }
   ],
   "source": [
    "# 9. Write a class Fraction with attributes numerator and denominator. Override the str method to display the fraction as \"numerator/denominator\".\n",
    "class Fraction:\n",
    "    def __init__(self, numerator, denominator):\n",
    "        self.numerator = numerator\n",
    "        self.denominator = denominator\n",
    "    def __str__(self):\n",
    "        return f\"{self.numerator}/{self.denominator}\"\n",
    "f = Fraction(3, 4)\n",
    "print(f)"
   ]
  },
  {
   "cell_type": "code",
   "execution_count": 26,
   "id": "fd0e230a-0cbb-45ec-a1b4-3a7b53fe3ed0",
   "metadata": {},
   "outputs": [
    {
     "name": "stdout",
     "output_type": "stream",
     "text": [
      "(4, 6)\n"
     ]
    }
   ],
   "source": [
    "# 10. Demonstrate operator overloading by creating a class Vector and overriding the add method to add two vectors.\n",
    "class Vector:\n",
    "    def __init__(self, x, y):\n",
    "        self.x = x\n",
    "        self.y = y\n",
    "    def __add__(self, other):\n",
    "        return Vector(self.x + other.x, self.y + other.y)\n",
    "    def __str__(self):\n",
    "        return f\"({self.x}, {self.y})\"\n",
    "v1 = Vector(1, 2)\n",
    "v2 = Vector(3, 4)\n",
    "print(v1 + v2)"
   ]
  },
  {
   "cell_type": "code",
   "execution_count": 28,
   "id": "eb9db504-4508-422b-a15e-c017968908c4",
   "metadata": {},
   "outputs": [
    {
     "name": "stdout",
     "output_type": "stream",
     "text": [
      "Hello, my name is Somnath and I am 25 years old.\n"
     ]
    }
   ],
   "source": [
    "# 11.  Create a class Person with attributes name and age. Add a method greet() that prints \"Hello, my name is {name} and I am {age} years old.\"\n",
    "class Person:\n",
    "    def __init__(self, name, age):\n",
    "        self.name = name\n",
    "        self.age = age\n",
    "    def greet(self):\n",
    "        print(f\"Hello, my name is {self.name} and I am {self.age} years old.\")\n",
    "p = Person(\"Somnath\", 25)\n",
    "p.greet()"
   ]
  },
  {
   "cell_type": "code",
   "execution_count": 29,
   "id": "00217578-8ea1-4a6c-8835-9b51656840b9",
   "metadata": {},
   "outputs": [
    {
     "name": "stdout",
     "output_type": "stream",
     "text": [
      "80.0\n"
     ]
    }
   ],
   "source": [
    "# 12. Implement a class Student with attributes name and grades. Create a method average_grade() to compute the average of the grades.\n",
    "class Student:\n",
    "    def __init__(self, name, grades):\n",
    "        self.name = name\n",
    "        self.grades = grades\n",
    "    def average_grade(self):\n",
    "        return sum(self.grades) / len(self.grades)\n",
    "s = Student(\"John\", [90, 80, 70])\n",
    "print(s.average_grade())"
   ]
  },
  {
   "cell_type": "code",
   "execution_count": 30,
   "id": "471596fe-7823-42ee-8a36-1d7ff13bfe9c",
   "metadata": {},
   "outputs": [
    {
     "name": "stdout",
     "output_type": "stream",
     "text": [
      "30\n"
     ]
    }
   ],
   "source": [
    "# 13. Create a class Rectangle with methods set_dimensions() to set the dimensions and area() to calculate the area.\n",
    "class Rectangle:\n",
    "    def set_dimensions(self, width, height):\n",
    "        self.width = width\n",
    "        self.height = height\n",
    "    def area(self):\n",
    "        return self.width * self.height\n",
    "rect = Rectangle()\n",
    "rect.set_dimensions(5, 6)\n",
    "print(rect.area())"
   ]
  },
  {
   "cell_type": "code",
   "execution_count": 31,
   "id": "7493e6ad-31b1-4895-8734-476f050a9f3b",
   "metadata": {},
   "outputs": [
    {
     "name": "stdout",
     "output_type": "stream",
     "text": [
      "2500\n"
     ]
    }
   ],
   "source": [
    "# 14. Create a class Employee with a method calculate_salary() that computes the salary based on hours worked and hourly rate. Create a derived class Manager that adds a bonus to the salary.\n",
    "class Employee:\n",
    "    def __init__(self, hours, rate):\n",
    "        self.hours = hours\n",
    "        self.rate = rate\n",
    "    def calculate_salary(self):\n",
    "        return self.hours * self.rate\n",
    "class Manager(Employee):\n",
    "    def __init__(self, hours, rate, bonus):\n",
    "        super().__init__(hours, rate)\n",
    "        self.bonus = bonus\n",
    "    def calculate_salary(self):\n",
    "        return super().calculate_salary() + self.bonus\n",
    "m = Manager(40, 50, 500)\n",
    "print(m.calculate_salary())"
   ]
  },
  {
   "cell_type": "code",
   "execution_count": 32,
   "id": "a93e060b-085d-405e-894d-ea77f0f8a3de",
   "metadata": {},
   "outputs": [
    {
     "name": "stdout",
     "output_type": "stream",
     "text": [
      "60000\n"
     ]
    }
   ],
   "source": [
    "# 15. Create a class Product with attributes name, price, and quantity. Implement a method total_price() that calculates the total price of the product.\n",
    "class Product:\n",
    "    def __init__(self, name, price, quantity):\n",
    "        self.name = name\n",
    "        self.price = price\n",
    "        self.quantity = quantity\n",
    "    def total_price(self):\n",
    "        return self.price * self.quantity\n",
    "p = Product(\"Laptop\", 30000, 2)\n",
    "print(p.total_price())"
   ]
  },
  {
   "cell_type": "code",
   "execution_count": 33,
   "id": "8ff53548-1fd4-4bdb-8697-590b4662cf4c",
   "metadata": {},
   "outputs": [
    {
     "name": "stdout",
     "output_type": "stream",
     "text": [
      "Moo\n",
      "Baa\n"
     ]
    }
   ],
   "source": [
    "# 16. Create a class Animal with an abstract method sound(). Create two derived classes Cow and Sheep that implement the sound() method.\n",
    "from abc import ABC, abstractmethod\n",
    "class Animal(ABC):\n",
    "    @abstractmethod\n",
    "    def sound(self):\n",
    "        pass\n",
    "class Cow(Animal):\n",
    "    def sound(self):\n",
    "        print(\"Moo\")\n",
    "class Sheep(Animal):\n",
    "    def sound(self):\n",
    "        print(\"Baa\")\n",
    "c = Cow()\n",
    "s = Sheep()\n",
    "c.sound()\n",
    "s.sound()"
   ]
  },
  {
   "cell_type": "code",
   "execution_count": 34,
   "id": "6f7cc64a-ce4c-42d3-b000-2994d60495f2",
   "metadata": {},
   "outputs": [
    {
     "name": "stdout",
     "output_type": "stream",
     "text": [
      "'Python Programming' by John Doe, published in 2023\n"
     ]
    }
   ],
   "source": [
    "# 17. Create a class Book with attributes title, author, and year_published. Add a method get_book_info() that returns a formatted string with the book's details.\n",
    "class Book:\n",
    "    def __init__(self, title, author, year_published):\n",
    "        self.title = title\n",
    "        self.author = author\n",
    "        self.year_published = year_published\n",
    "    def get_book_info(self):\n",
    "        return f\"'{self.title}' by {self.author}, published in {self.year_published}\"\n",
    "b = Book(\"Python Programming\", \"John Doe\", 2023)\n",
    "print(b.get_book_info())"
   ]
  },
  {
   "cell_type": "code",
   "execution_count": 37,
   "id": "932551ca-bfa2-467d-9855-dea8a63e629e",
   "metadata": {},
   "outputs": [
    {
     "name": "stdout",
     "output_type": "stream",
     "text": [
      "123 Main St 200000 5\n"
     ]
    }
   ],
   "source": [
    "# 18. Create a class House with attributes address and price. Create a derived class Mansion that adds an attribute number_of_rooms.\n",
    "class House:\n",
    "    def __init__(self, address, price):\n",
    "        self.address = address\n",
    "        self.price = price\n",
    "class Mansion(House):\n",
    "    def __init__(self, address, price, number_of_rooms):\n",
    "        super().__init__(address, price)\n",
    "        self.number_of_rooms = number_of_rooms\n",
    "m = Mansion(\"123 Main St\", 200000, 5)\n",
    "print(m.address, m.price, m.number_of_rooms)"
   ]
  }
 ],
 "metadata": {
  "kernelspec": {
   "display_name": "Python 3 (ipykernel)",
   "language": "python",
   "name": "python3"
  },
  "language_info": {
   "codemirror_mode": {
    "name": "ipython",
    "version": 3
   },
   "file_extension": ".py",
   "mimetype": "text/x-python",
   "name": "python",
   "nbconvert_exporter": "python",
   "pygments_lexer": "ipython3",
   "version": "3.13.5"
  }
 },
 "nbformat": 4,
 "nbformat_minor": 5
}
